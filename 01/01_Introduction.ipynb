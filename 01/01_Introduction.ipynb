{
 "cells": [
  {
   "cell_type": "markdown",
   "metadata": {
    "slideshow": {
     "slide_type": "slide"
    }
   },
   "source": [
    "<img src=\"figs/ku_logo_uk_v.png\" alt=\"drawing\" width=\"130\" style=\"float:right\"/>\n",
    "\n",
    "# <span style=\"color:#2c061f\"> Lecture 01 </span>  \n",
    "\n",
    "<br>\n",
    "\n",
    "## <span style=\"color:#374045\"> Introduction to Programming and Numerical Analysis </span>\n",
    "\n",
    "\n",
    "#### <span style=\"color:#374045\"> Lecturers: </span> <span style=\"color:#d89216\"> <br> Christian Langholz Carstensen <br> Jeppe Druedahl</span>"
   ]
  },
  {
   "cell_type": "markdown",
   "metadata": {
    "slideshow": {
     "slide_type": "slide"
    }
   },
   "source": [
    "## Plan for today\n",
    "<br>\n",
    "\n",
    "0. Online lectures and exercise classes\n",
    "1. Intended learning outcomes\n",
    "2. Numerical analysis in action\n",
    "3. Your lectureres and you\n",
    "4. Infrastructure\n",
    "5. Work-flow and online learning\n",
    "6. Projects and group work\n",
    "7. A first example\n",
    "8. Summing up"
   ]
  },
  {
   "cell_type": "markdown",
   "metadata": {
    "slideshow": {
     "slide_type": "slide"
    }
   },
   "source": [
    "## The online lectures and exercise classes\n",
    "\n",
    "**How we'll manage online learning**:\n",
    "* We are online now and lectures will probably remain so throughout the semester.  \n",
    "* Hopefully, exercise classes will go back to normal after April 1st.\n",
    "* We have arranged the online flow around Microsoft Teams. It seems promising!\n",
    "\n",
    "**During these lectures**:\n",
    "* If you want to ask a question, write an 'X' in the chat. Then I will give you the word. \n",
    "* If I seem to have forgotten, just interrupt. \n",
    "* I will be playing pre-recorded videos during lectures. We'll have Q&As after each video.\n",
    "\n"
   ]
  },
  {
   "cell_type": "markdown",
   "metadata": {
    "slideshow": {
     "slide_type": "slide"
    }
   },
   "source": [
    "## Intended learning outcomes I\n",
    "\n",
    "**Get the fundamentals of programming right**\n",
    "* Be comfortable with working in a serious programming language, in our case Python.\n",
    "* Understand some of the fundamental concepts that shapes Python and CS in general.  \n",
    "\n",
    "**Apply numerical analysis to economic problems**\n",
    "* Use your computer skills to improve your understanding of well known economic models.\n",
    "* Visualize solutions and simulations.\n",
    "* Go further: solve models that cannot be solved analytically. \n",
    "    - Empirically relevant models are often like that..\n",
    "    - Models may include uncertainty, non-convexities and non-linear feedback mechanisms.\n",
    "* Fetch data online and do programming based data manipulation and statistics (Excel is the mother of bad habits). "
   ]
  },
  {
   "cell_type": "markdown",
   "metadata": {
    "slideshow": {
     "slide_type": "slide"
    }
   },
   "source": [
    "## Intended learning outcomes II\n",
    "<br>\n",
    "\n",
    "**Your new skills can be used when:**\n",
    "* Writing your bachelor or master thesis.\n",
    "* Writing seminar projects.\n",
    "* Working on assignments in other courses, including those in econometrics. \n",
    "* At your job.\n",
    "* Working on IT projects in general.\n",
    "\n",
    "**We *are* focusing on methods rather than theory, but:**\n",
    "* This does not mean that economic theory and math are irrelevant!\n",
    "* In fact, it is super important to understand the math behind your methods.\n",
    "* Otherwise, you'll be in the dark holding a black box.  "
   ]
  },
  {
   "cell_type": "markdown",
   "metadata": {
    "slideshow": {
     "slide_type": "slide"
    }
   },
   "source": [
    "## Scientific programming\n",
    "<br>\n",
    "\n",
    "**The three steps of numerical analysis**  \n",
    "1. Mathematical model $\\rightarrow$ create an algorithm\n",
    "2. Algorithm $\\rightarrow$ write the code\n",
    "3. Code $\\rightarrow$ present your results\n",
    "\n",
    "**Bugs are everywhere!**  \n",
    "Is it the model itself? Or the algo? The code, perhaps? Or maybe in the presentation?  \n",
    "To figure out went wrong, you need a **solid work-flow**:\n",
    "\n",
    "1. Clear and understandable code $\\:$ *(so that you won't confuse yourself and others)*.\n",
    "2. Comprehensive testing $\\:$ *(so that you can catch bugs in the making)*.\n",
    "3. Documentation $\\:$ *(so that you won't forget and others will understand)*.\n",
    "\n",
    "Point 2 and 3, not just 1, are **crucial** elements of creating useful software.  \n",
    "As is working actively with others and your future self - thus also an integral part of this course. \n",
    " "
   ]
  },
  {
   "cell_type": "markdown",
   "metadata": {
    "slideshow": {
     "slide_type": "slide"
    }
   },
   "source": [
    "\n",
    "## Active learning \n",
    "\n",
    "**We focus on active learning**\n",
    "* If you are not sweating, you are doing it wrong! \n",
    "* It takes a lot of exercise and repetition to get *comfortable* with programming. Our brains are not designed to remember this stuff. \n",
    "* We will show you lots of examples along the way.\n",
    "* We will be helpful with answering all of your questions.\n",
    "* You will also get the chance to help each other out.\n",
    "* But most importantly, you need to spend time at the keyboard. \n",
    "\n",
    "**It's hard work, but**\n",
    "* The rewards are also **high**.  \n",
    "* You won't find such a course at most econ bachelor programs.\n",
    "\n",
    "It is really pioneering work by Jeppe.   "
   ]
  },
  {
   "cell_type": "markdown",
   "metadata": {
    "slideshow": {
     "slide_type": "slide"
    }
   },
   "source": [
    "## About your lecturers \n",
    "\n",
    "**Full name:** Christian Langholz Carstensen  \n",
    "**Position:** Postdoc at Centre for Computational Economics  \n",
    "**Contact:** ch.carstensen@econ.ku.dk\n",
    "\n",
    "**Research interests:**  \n",
    "* Dynamic models of urban economics (Phd) and education choice (Postdoc)  \n",
    "* Structural estimation  \n",
    "* Agent-based models  \n",
    "\n",
    "\n",
    "**Full name:** Jeppe Druedahl  \n",
    "**Position:** Assistant Professor at Department of Economics, Center for Economic Behavior and Inequality (CEBI)  \n",
    "**Website:** www.econ.ku.dk/druedahl  \n",
    "**Research interests:**  Macro-questions and micro data. Numerical methods."
   ]
  },
  {
   "cell_type": "markdown",
   "metadata": {
    "slideshow": {
     "slide_type": "slide"
    }
   },
   "source": [
    "## Numerical analysis in action \n",
    "<br>\n",
    "\n",
    "* We are working in **Python 3.8**\n",
    "* **Suggested environment**:\n",
    "    * The **Anaconda distribution** (which you can stick to)\n",
    "    * Notebooks in **JupyterLab**\n",
    "    * Editor for code is **Visual Studio Code** \n",
    "\n",
    "* **Today**:\n",
    "    * I'll give you a quick run through JupyterLab.\n",
    "    * Solve a consumer problem. \n",
    " "
   ]
  },
  {
   "cell_type": "markdown",
   "metadata": {
    "slideshow": {
     "slide_type": "slide"
    }
   },
   "source": [
    "## Infrastructure I\n",
    "<br>\n",
    "\n",
    "**Web-pages:** The course is organized around our public website  \n",
    "www.numeconcopenhagen.netlify.com  \n",
    "  \n",
    "And the **GitHub** site  \n",
    "https://github.com/NumEconCopenhagen  \n",
    "where you can get all course material.  \n",
    "\n",
    "Links to **exercise class meetings** are available on Absalon.  \n",
    "Also, videos viewed during lectures will also be on Absalon.  "
   ]
  },
  {
   "cell_type": "markdown",
   "metadata": {
    "slideshow": {
     "slide_type": "slide"
    }
   },
   "source": [
    "## Infrastructure II\n",
    "\n",
    "### About Git\n",
    "* **Git** is a version-control system that virtually everyone in CS and scientific programming uses. \n",
    "* It allows programmers to coordinate their work across computers without messing up. \n",
    "* **GitHub** is the main online platform for sharing work through **Git**. \n",
    "* You can get the latest version of all material by pulling it from our Github **repositories**.\n",
    "* It is not easy to wrap your head around Git. \n",
    "* Git is integrated in VSCode, which makes it easier to start on. \n",
    "* We'll talk more about Git in week 5."
   ]
  },
  {
   "cell_type": "markdown",
   "metadata": {
    "slideshow": {
     "slide_type": "slide"
    }
   },
   "source": [
    "## Infrastructure III\n",
    "\n",
    "### Getting started with Git \n",
    "1. Follow the [installation guide](https://numeconcopenhagen.netlify.com/guides/python-setup/)\n",
    "2. Open VScode\n",
    "3. Pres »Ctrl+Shift+P«.\n",
    "4. Write: »git: clone«\n",
    "5. Write »https://github.com/NumEconCopenhagen/lectures-2021« Or: »https://github.com/NumEconCopenhagen/exercises-2021« ⇒ the repo will be downloaded to your computer\n",
    "6. Update to the newest version of the code with »git: sync«\n",
    "7. Create a copy of the cloned folder, where you work with the code (otherwise: merge conflicts!)\n",
    "\n",
    "Alternative: Use the green download button on the repository page.  \n",
    "You'll get a zipped file with files, but then you **cannot sync** with GitHub. "
   ]
  },
  {
   "cell_type": "markdown",
   "metadata": {
    "slideshow": {
     "slide_type": "slide"
    }
   },
   "source": [
    "## Getting started\n",
    "\n",
    "* **DataCamp**  \n",
    "    * You now have 6 months full access. Follow link in welcome mail or Absalon. Go nuts!\n",
    "    * DataCamp requires no installation. \n",
    "* **Setting up your environment**\n",
    "    * [Installing Python and VSCode](https://numeconcopenhagen.netlify.com/guides/python-setup)\n",
    "    * [Running Python in JupyterLab](https://numeconcopenhagen.netlify.com/guides/jupyterlab)\n",
    "    * [Running Python in VSCode](https://numeconcopenhagen.netlify.com/guides/vscode-basics) "
   ]
  },
  {
   "cell_type": "markdown",
   "metadata": {
    "slideshow": {
     "slide_type": "slide"
    }
   },
   "source": [
    "\n",
    "## Lectures and classes:\n",
    "\n",
    "* Lectures: Monday 15-17\n",
    "* Classes: Tuesday/Wednesday/Thursday 15-17\n",
    " \n",
    " \n",
    "* **Group work:** Strongly encouraged! All projects can be done in fixed groups (maximum of 4)\n",
    "\n",
    "\n",
    "* **Exam requirements** ([deadlines](https://docs.google.com/spreadsheets/d/1T3g-ltqZNWU_92QEdgSbyzlpUROkMUjVQkqzv6xGDD0/edit#gid=163092797)):\n",
    "    1. Completing DataCamp courses (assignments on DataCamp.com)\n",
    "    2. Inaugural project\n",
    "    3. Data analysis project\n",
    "    4. 2x useful peer feedback on data analysis projects 5. Model analysis project\n",
    "    6. 2x useful peer feedback on model analysis projects\n",
    "\n",
    "\n",
    "* **Exam:** Portfolio of projects + exam problem (48 hours)\n",
    "* **Grading:** Pass or fail\n"
   ]
  },
  {
   "cell_type": "markdown",
   "metadata": {
    "slideshow": {
     "slide_type": "slide"
    }
   },
   "source": [
    "## Lecture plan\n",
    "\n",
    "1. Introduction\n",
    "2. Fundamentals: Primitives\n",
    "3. Fundamentals: Optimize, print and plot\n",
    "4. Fundamentals: Random numbers and simulation \n",
    "5. Fundamentals: Workflow and debugging\n",
    "6. Fundamentals: Recap and overview\n",
    "7. Working with Data: Load/save and structure data \n",
    "8. Working with Data: Basic data analysis\n",
    "9. Algorithms: Searching and sorting\n",
    "10. Algorithms: Solving equations\n",
    "11. Algorithms: Numerical optimization\n",
    "12. Further perspectives: Canonical Economic Models\n",
    "13. Further perspectives: Agent-based Models\n",
    "14. Further Perspectives: The need for speed"
   ]
  },
  {
   "cell_type": "markdown",
   "metadata": {
    "slideshow": {
     "slide_type": "slide"
    }
   },
   "source": [
    "## Exercise plan\n",
    "1. DataCamp\n",
    "2. DataCamp\n",
    "3. DataCamp\n",
    "4. Problem Set 1: Solving the consumer problem\n",
    "5. Problem Set 2: Finding the Walras equilibrium in a multi-agent economy \n",
    "6. Work on your inaugural project\n",
    "7. Problem Set 3: Loading and combining data from Denmark Statistics \n",
    "8. Problem Set 4: Analyzing data\n",
    "9. Work on your data project\n",
    "10. Problem Set 5: Writing your own searching and sorting algorithms \n",
    "11. Problem Set 6: Solving the Solow model\n",
    "12. Problem Set 7: Solving the consumer problem with income risk \n",
    "13. Work on your model analysis project\n",
    "14. Work on your model analysis project \n",
    "15. Feedback on model project"
   ]
  },
  {
   "cell_type": "markdown",
   "metadata": {
    "slideshow": {
     "slide_type": "slide"
    }
   },
   "source": [
    "## Work flow I\n",
    "\n",
    "**Online lectures**\n",
    "1. Watch them with your group, preferably. \n",
    "1. We'll watch pre-recorded videos, ask questions and have quizzes (links in the chat).\n",
    "2. I'll provide an overview of each topic.\n",
    "3. Introduce new concepts and demonstrate.\n",
    "4. The pre-recorded videos will be available on Absalon. The lectures themselves will not (GDPR + motivation). \n",
    "5. Some vidoes might be self-study due to time constraints. \n"
   ]
  },
  {
   "cell_type": "markdown",
   "metadata": {
    "slideshow": {
     "slide_type": "slide"
    }
   },
   "source": [
    "## Work flow II\n",
    "\n",
    "**Exercise classes:** Work on problem sets and your projects.\n",
    "* **Solutions** are hidden but available from the outset - it's ok to peak when you're stuck. But write solution out yourself afterwards. \n",
    "* **Online organization:**\n",
    "    * We are using MS Teams to organize classes. Each class is a team. \n",
    "    * When you have formed a group, you'll get your own permanent channel.\n",
    "    * You and the TAs can jump between channels to interact with each other.\n",
    "    * You can thereby ask, and help, each other. And post tips + general questions.   \n",
    "    * Again, sit together with your group if you can.\n",
    "* **Between class and lecture:**\n",
    "    * Brush up the lecture notebook.\n",
    "    * Finish problem set.\n",
    "    * Make experiments."
   ]
  },
  {
   "cell_type": "markdown",
   "metadata": {
    "slideshow": {
     "slide_type": "slide"
    }
   },
   "source": [
    "## Getting help\n",
    "\n",
    "* **Observation:** Programming is the slow and painful removal of tiny errors in your code – one at a time.\n",
    "* **Everybody often forgets the correct syntax** ⇒ trial-and-error and testing is central, never a single correct approach.\n",
    "* **Ask questions!** In the following order:\n",
    "\t* Look in the documentation    \n",
    "\t* Talk about it in your group\n",
    "\t* Search Google + Stackoverflow, see this [guide](https://numeconcopenhagen.netlify.com/guides/searching/).\n",
    "\t* Ask question online using GitHub issues, see this [guide](https://numeconcopenhagen.netlify.com/guides/github-issues/), [examples](https://github.com/NumEconCopenhagen/lectures-2020/issues)\n",
    "* **Help each other!** You will learn a lot. Remember to be constructive and polite!"
   ]
  },
  {
   "cell_type": "markdown",
   "metadata": {
    "slideshow": {
     "slide_type": "slide"
    }
   },
   "source": [
    "## Inaugral project\n",
    "* **Objectives:**\n",
    "\t* Apply simple numerical solution methods\n",
    "\t* Structure a code project \t\n",
    "\t* Document code\n",
    "\t* Present results\n",
    "\t* Use GitHub\n",
    "* **Content:**\n",
    "\t* Solution of pre-specified economic model \t\n",
    "\t* Visualization of solution\n",
    "* **Structure:**\n",
    "\t* A self-contained single notebook presenting the analysis \n",
    "\t* Fully documented python files\n",
    "* **Hand-in:** Create and commit folder called “inauguralproject” in your GitHub repository"
   ]
  },
  {
   "cell_type": "markdown",
   "metadata": {
    "slideshow": {
     "slide_type": "slide"
    }
   },
   "source": [
    "## Data analysis project\n",
    "* **Objectives:**\n",
    "\t* Apply data cleaning and data structuring methods\n",
    "\t* Apply data analysis methods\n",
    "\t* Structure a code project\n",
    "\t* Document code\n",
    "\t* Present results in text form and in figures\n",
    "* **Content:**\n",
    "\t* Import data from an online source\n",
    "\t* Present the data visually (and perhaps interactively)\n",
    "\t* Apply some method(s) from descriptive economics\n",
    "(»samfundsbeskrivelse«)\n",
    "* **Structure:**\n",
    "\t* A self-contained single notebook presenting the analysis 2. Fully documented python files\n",
    "* **Hand-in:** Create and commit folder called “dataproject” in your GitHub repository"
   ]
  },
  {
   "cell_type": "markdown",
   "metadata": {
    "slideshow": {
     "slide_type": "slide"
    }
   },
   "source": [
    "## Model analysis project\n",
    "\n",
    "* **Objectives:**\n",
    "\t* Apply model analysis methods\n",
    "\t* Structure a code project\n",
    "\t* Document code\n",
    "\t* Present results in text form and in figures\n",
    "* **Content:**\n",
    "\t* Describe an algorithm on how to solve a simple economic model\n",
    "\t* Solve (and perhaps simulate) a simple economic model \t\n",
    "\t* Visualize results across e.g. parametrizations\n",
    "\t* Analyze one or more extensions of the baseline model\n",
    "* **Structure:**\n",
    " \t* A self-contained single notebook presenting the analysis 2. Fully documented python files\n",
    "* **Hand-in:** Create and commit folder called “modelproject” in your GitHub repository"
   ]
  },
  {
   "cell_type": "markdown",
   "metadata": {
    "slideshow": {
     "slide_type": "slide"
    }
   },
   "source": [
    "## Let's see JupyterLab and VSCode in action!"
   ]
  },
  {
   "cell_type": "markdown",
   "metadata": {
    "slideshow": {
     "slide_type": "slide"
    }
   },
   "source": [
    "## Your to-do list\n",
    "\n",
    "1. **First priority:** Find a group! If you are looking for one, you can register on Absalon. \n",
    "1. **Second priority:** Login to DataCamp (see info in e-mail)\n",
    "2. **Third priority:**\n",
    "\t1. Install Anaconda with VSCode. See the guide: [Installing Python and VSCode](https://numeconcopenhagen.netlify.com/guides/python-setup)\n",
    "\t2. Open JupyterLab and experiment. See the guide: [Running Python in JupyterLab](https://numeconcopenhagen.netlify.com/guides/jupyterlab)\n",
    "3. **Fourth priority:** Download slides and exercises with git (see previous »Download guide«-slide)\n",
    "4. **Fifth priority:** Read the guides on:\n",
    "\t1. [Searching for answers using Google and Stackoverflow](https://numeconcopenhagen.netlify.com/guides/searching/)\n",
    "\t1. [Asking questions using GitHub issues](https://numeconcopenhagen.netlify.com/guides/github-issues/)\n",
    "5. **Next time:** Introduction to the fundamentals of Python"
   ]
  }
 ],
 "metadata": {
  "celltoolbar": "Slideshow",
  "kernelspec": {
   "display_name": "Python 3",
   "language": "python",
   "name": "python3"
  },
  "language_info": {
   "codemirror_mode": {
    "name": "ipython",
    "version": 3
   },
   "file_extension": ".py",
   "mimetype": "text/x-python",
   "name": "python",
   "nbconvert_exporter": "python",
   "pygments_lexer": "ipython3",
   "version": "3.7.4"
  }
 },
 "nbformat": 4,
 "nbformat_minor": 5
}
