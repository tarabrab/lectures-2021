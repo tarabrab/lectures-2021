{
 "cells": [
  {
   "cell_type": "markdown",
   "metadata": {},
   "source": [
    "# Lecture 08: Basic data analysis"
   ]
  },
  {
   "cell_type": "markdown",
   "id": "complete-ceramic",
   "metadata": {},
   "source": [
    "[Download on GitHub](https://github.com/NumEconCopenhagen/lectures-2021)\n",
    "\n",
    "[<img src=\"https://mybinder.org/badge_logo.svg\">](https://mybinder.org/v2/gh/NumEconCopenhagen/lectures-2021/master?urlpath=lab/tree/08/Basic_data_analysis.ipynb)"
   ]
  },
  {
   "cell_type": "markdown",
   "id": "computational-floor",
   "metadata": {},
   "source": [
    "1. [Combining datasets (merging and concatenating)](#Combining-datasets-(merging-and-concatenating))\n",
    "2. [Fetching data using an API](#Fetching-data-using-an-API)\n",
    "3. [Split-apply-combine](#Split-apply-combine)\n",
    "4. [A few examples of open access APIs](#A-few-examples-of-open-access-APIs)\n",
    "5. [All built-in functions to aggregate data in Pandas](#All-built-in-functions-to-aggregate-data-in-Pandas)\n",
    "6. [Summary](#Summary)\n"
   ]
  },
  {
   "cell_type": "markdown",
   "metadata": {},
   "source": [
    "**First** Let's start with a [survey](https://forms.office.com/Pages/ResponsePage.aspx?id=kX-So6HNlkaviYyfHO_6kckJrnVYqJlJgGf8Jm3FvY9UNVJVQk5IRzhBUFoxRVpZNkdHOE1GSVhTQiQlQCN0PWcu) on your background in data wrangling. "
   ]
  },
  {
   "cell_type": "markdown",
   "metadata": {},
   "source": [
    "You may need to install the DST api-data reader, the pandas_datareader and the matplotlib_venn module. Uncomment the following cells and run to install.  \n",
    "The ! in front of each command indicates that this is a system command that may as well have been executed in the terminal/command prompt of your computer. "
   ]
  },
  {
   "cell_type": "code",
   "execution_count": 322,
   "metadata": {},
   "outputs": [],
   "source": [
    "# The DST API wrapper\n",
    "#!pip install git+https://github.com/elben10/pydst"
   ]
  },
  {
   "cell_type": "code",
   "execution_count": 323,
   "metadata": {},
   "outputs": [],
   "source": [
    "# A wrapper for multiple APIs with a pandas interface\n",
    "#!pip install pandas-datareader"
   ]
  },
  {
   "cell_type": "code",
   "execution_count": 324,
   "metadata": {},
   "outputs": [],
   "source": [
    "# For Venn diagrams\n",
    "#!pip install matplotlib-venn"
   ]
  },
  {
   "cell_type": "code",
   "execution_count": 325,
   "metadata": {},
   "outputs": [],
   "source": [
    "import numpy as np\n",
    "import pandas as pd\n",
    "import datetime\n",
    "\n",
    "import pandas_datareader # install with `pip install pandas-datareader`\n",
    "import pydst # install with `pip install git+https://github.com/elben10/pydst`\n",
    "\n",
    "import matplotlib.pyplot as plt\n",
    "plt.style.use('seaborn-whitegrid')\n",
    "from matplotlib_venn import venn2 # `pip install matplotlib-venn`"
   ]
  },
  {
   "cell_type": "markdown",
   "metadata": {},
   "source": [
    "<a id=\"Combining-datasets-(merging-and-concatenating)\"></a>\n",
    "\n",
    "# 1. Combining datasets (merging and concatenating)"
   ]
  },
  {
   "cell_type": "markdown",
   "metadata": {},
   "source": [
    "When **combining datasets** there are a few crucial concepts: \n",
    "\n",
    "1. **Concatenate (append)**: \"stack\" rows (observations) on top of each other. This works if the datasets have the same columns (variables).\n",
    "2. **Merge**: the two datasets have different variables, but may or may not have the same observations. "
   ]
  },
  {
   "cell_type": "markdown",
   "metadata": {},
   "source": [
    "There are **different kinds of merges** depending on which observations you want to keep:\n",
    "\n",
    "1. **Outer join (one-to-one)** Keep observations which are in *either* or in *both* datasets.\n",
    "2. **Inner join (one-to-one)** Keep observations which are in *both* datasets. \n",
    "3. **Left join (many-to-one)** Keep observations which are in the *left* dataset or in *both* datasets. \n",
    "\n",
    "Keeping observations which are not in both datasets will result in **missing values** for the variables comming from the dataset, where the observation does not exist."
   ]
  },
  {
   "cell_type": "markdown",
   "metadata": {},
   "source": [
    "**Read data:**"
   ]
  },
  {
   "cell_type": "code",
   "execution_count": 326,
   "metadata": {},
   "outputs": [],
   "source": [
    "empl = pd.read_csv('../07/data/RAS200_long.csv') # .. -> means one folder up\n",
    "inc = pd.read_csv('../07/data/INDKP107_long.csv')\n",
    "area = pd.read_csv('../07/data/area.csv')"
   ]
  },
  {
   "cell_type": "markdown",
   "metadata": {},
   "source": [
    "## 1.1 Concatenating datasets\n",
    "\n",
    "Suppose we have two datasets that have the same variables and we just want to concatenate them."
   ]
  },
  {
   "cell_type": "code",
   "execution_count": 327,
   "metadata": {},
   "outputs": [
    {
     "data": {
      "text/html": [
       "<div>\n",
       "<style scoped>\n",
       "    .dataframe tbody tr th:only-of-type {\n",
       "        vertical-align: middle;\n",
       "    }\n",
       "\n",
       "    .dataframe tbody tr th {\n",
       "        vertical-align: top;\n",
       "    }\n",
       "\n",
       "    .dataframe thead th {\n",
       "        text-align: right;\n",
       "    }\n",
       "</style>\n",
       "<table border=\"1\" class=\"dataframe\">\n",
       "  <thead>\n",
       "    <tr style=\"text-align: right;\">\n",
       "      <th></th>\n",
       "      <th>municipality</th>\n",
       "      <th>year</th>\n",
       "      <th>e</th>\n",
       "    </tr>\n",
       "  </thead>\n",
       "  <tbody>\n",
       "    <tr>\n",
       "      <th>0</th>\n",
       "      <td>Copenhagen</td>\n",
       "      <td>2008</td>\n",
       "      <td>72.5</td>\n",
       "    </tr>\n",
       "    <tr>\n",
       "      <th>1</th>\n",
       "      <td>Frederiksberg</td>\n",
       "      <td>2008</td>\n",
       "      <td>75.6</td>\n",
       "    </tr>\n",
       "    <tr>\n",
       "      <th>2</th>\n",
       "      <td>Dragør</td>\n",
       "      <td>2008</td>\n",
       "      <td>80.5</td>\n",
       "    </tr>\n",
       "    <tr>\n",
       "      <th>3</th>\n",
       "      <td>Tårnby</td>\n",
       "      <td>2008</td>\n",
       "      <td>79.0</td>\n",
       "    </tr>\n",
       "    <tr>\n",
       "      <th>4</th>\n",
       "      <td>Albertslund</td>\n",
       "      <td>2008</td>\n",
       "      <td>73.1</td>\n",
       "    </tr>\n",
       "  </tbody>\n",
       "</table>\n",
       "</div>"
      ],
      "text/plain": [
       "    municipality  year     e\n",
       "0     Copenhagen  2008  72.5\n",
       "1  Frederiksberg  2008  75.6\n",
       "2         Dragør  2008  80.5\n",
       "3         Tårnby  2008  79.0\n",
       "4    Albertslund  2008  73.1"
      ]
     },
     "execution_count": 327,
     "metadata": {},
     "output_type": "execute_result"
    }
   ],
   "source": [
    "empl.head(5)"
   ]
  },
  {
   "cell_type": "code",
   "execution_count": 328,
   "metadata": {},
   "outputs": [
    {
     "name": "stdout",
     "output_type": "stream",
     "text": [
      "A has shape (495, 3) \n",
      "B has shape (495, 3) \n"
     ]
    }
   ],
   "source": [
    "N = empl.shape[0]\n",
    "A = empl.loc[empl.index < N/2,:] # first half of observations\n",
    "B = empl.loc[empl.index >= N/2,:] # second half of observations\n",
    "\n",
    "print(f'A has shape {A.shape} ')\n",
    "print(f'B has shape {B.shape} ')"
   ]
  },
  {
   "cell_type": "markdown",
   "metadata": {},
   "source": [
    "**Concatenation** is done using the command `pd.concat([df1, df2])`. "
   ]
  },
  {
   "cell_type": "code",
   "execution_count": 329,
   "metadata": {},
   "outputs": [
    {
     "name": "stdout",
     "output_type": "stream",
     "text": [
      "C has shape (990, 3) (same as the original empl, (990, 3))\n"
     ]
    }
   ],
   "source": [
    "C = pd.concat([A,B])\n",
    "print(f'C has shape {C.shape} (same as the original empl, {empl.shape})')"
   ]
  },
  {
   "cell_type": "markdown",
   "metadata": {},
   "source": [
    "## 1.2 Merging datasets"
   ]
  },
  {
   "cell_type": "markdown",
   "metadata": {},
   "source": [
    "Two datasets with **different variables**: `empl` and `inc`. \n",
    "\n",
    "**Central command:** `pd.merge(empl, inc, on=[municipalitiy, year], how=METHOD)`. \n",
    "\n",
    "1. The keyword `on` specifies the **merge key(s)**. They uniquely identify observations in both datasets (for sure in at least one of them).  \n",
    "\n",
    "2. The keyword `how` specifies the **merge method** (taking values such as `'outer'`, `'inner'`, or `'left'`)."
   ]
  },
  {
   "cell_type": "markdown",
   "metadata": {},
   "source": [
    "**Look at datasets:**"
   ]
  },
  {
   "cell_type": "code",
   "execution_count": 330,
   "metadata": {},
   "outputs": [
    {
     "name": "stdout",
     "output_type": "stream",
     "text": [
      "Years in empl: [2008 2009 2010 2011 2012 2013 2014 2015 2016 2017]\n",
      "Municipalities in empl = 99\n",
      "Years in inc: [2004 2005 2006 2007 2008 2009 2010 2011 2012 2013 2014 2015 2016 2017]\n",
      "Municipalities in inc = 98\n"
     ]
    }
   ],
   "source": [
    "print(f'Years in empl: {empl.year.unique()}')\n",
    "print(f'Municipalities in empl = {len(empl.municipality.unique())}')\n",
    "print(f'Years in inc: {inc.year.unique()}')\n",
    "print(f'Municipalities in inc = {len(inc.municipality.unique())}')"
   ]
  },
  {
   "cell_type": "markdown",
   "metadata": {},
   "source": [
    "**Find differences:**"
   ]
  },
  {
   "cell_type": "code",
   "execution_count": 331,
   "metadata": {},
   "outputs": [
    {
     "name": "stdout",
     "output_type": "stream",
     "text": [
      "years in inc data, but not in empl data: [2004, 2005, 2006, 2007]\n",
      "municipalities in empl data, but not in inc data: ['Christiansø']\n"
     ]
    }
   ],
   "source": [
    "diff_y = [y for y in inc.year.unique() if y not in empl.year.unique()] \n",
    "print(f'years in inc data, but not in empl data: {diff_y}')\n",
    "\n",
    "diff_m = [m for m in empl.municipality.unique() if m not in inc.municipality.unique()] \n",
    "print(f'municipalities in empl data, but not in inc data: {diff_m}')"
   ]
  },
  {
   "cell_type": "markdown",
   "metadata": {},
   "source": [
    "**Conclusion:** `inc` has more years than `empl`, but `empl` has one municipality that is not in `inc`. "
   ]
  },
  {
   "cell_type": "code",
   "execution_count": 332,
   "metadata": {},
   "outputs": [
    {
     "data": {
      "image/png": "[encoded data removed]",
      "text/plain": [
       "<Figure size 432x288 with 1 Axes>"
      ]
     },
     "metadata": {},
     "output_type": "display_data"
    }
   ],
   "source": [
    "plt.figure()\n",
    "v = venn2(subsets = (4, 4, 10), set_labels = ('empl', 'inc'))\n",
    "v.get_label_by_id('100').set_text('Cristiansø')\n",
    "v.get_label_by_id('010').set_text('2004-07' )\n",
    "v.get_label_by_id('110').set_text('common observations')\n",
    "plt.show()"
   ]
  },
  {
   "cell_type": "markdown",
   "metadata": {},
   "source": [
    "### Outer join: union"
   ]
  },
  {
   "cell_type": "code",
   "execution_count": 333,
   "metadata": {},
   "outputs": [
    {
     "data": {
      "image/png": "[encoded data removed]",
      "text/plain": [
       "<Figure size 432x288 with 1 Axes>"
      ]
     },
     "metadata": {},
     "output_type": "display_data"
    }
   ],
   "source": [
    "plt.figure()\n",
    "v = venn2(subsets = (4, 4, 10), set_labels = ('empl', 'inc'))\n",
    "v.get_label_by_id('100').set_text('included')\n",
    "v.get_label_by_id('010').set_text('included')\n",
    "v.get_label_by_id('110').set_text('included')\n",
    "plt.title('outer join')\n",
    "plt.show()"
   ]
  },
  {
   "cell_type": "code",
   "execution_count": 334,
   "metadata": {},
   "outputs": [
    {
     "name": "stdout",
     "output_type": "stream",
     "text": [
      "Number of municipalities = 99\n",
      "Number of years = 14\n"
     ]
    }
   ],
   "source": [
    "outer = pd.merge(empl,inc,on=['municipality','year'],how='outer')\n",
    "\n",
    "print(f'Number of municipalities = {len(outer.municipality.unique())}')\n",
    "print(f'Number of years = {len(outer.year.unique())}')"
   ]
  },
  {
   "cell_type": "markdown",
   "metadata": {},
   "source": [
    "We see that the **outer join** includes rows that exist in either dataframe and therefore includes missing values:"
   ]
  },
  {
   "cell_type": "code",
   "execution_count": 335,
   "metadata": {},
   "outputs": [
    {
     "data": {
      "text/html": [
       "<div>\n",
       "<style scoped>\n",
       "    .dataframe tbody tr th:only-of-type {\n",
       "        vertical-align: middle;\n",
       "    }\n",
       "\n",
       "    .dataframe tbody tr th {\n",
       "        vertical-align: top;\n",
       "    }\n",
       "\n",
       "    .dataframe thead th {\n",
       "        text-align: right;\n",
       "    }\n",
       "</style>\n",
       "<table border=\"1\" class=\"dataframe\">\n",
       "  <thead>\n",
       "    <tr style=\"text-align: right;\">\n",
       "      <th></th>\n",
       "      <th>municipality</th>\n",
       "      <th>year</th>\n",
       "      <th>e</th>\n",
       "      <th>inc</th>\n",
       "    </tr>\n",
       "  </thead>\n",
       "  <tbody>\n",
       "    <tr>\n",
       "      <th>29</th>\n",
       "      <td>Christiansø</td>\n",
       "      <td>2008</td>\n",
       "      <td>62.9</td>\n",
       "      <td>NaN</td>\n",
       "    </tr>\n",
       "    <tr>\n",
       "      <th>128</th>\n",
       "      <td>Christiansø</td>\n",
       "      <td>2009</td>\n",
       "      <td>64.6</td>\n",
       "      <td>NaN</td>\n",
       "    </tr>\n",
       "    <tr>\n",
       "      <th>227</th>\n",
       "      <td>Christiansø</td>\n",
       "      <td>2010</td>\n",
       "      <td>67.8</td>\n",
       "      <td>NaN</td>\n",
       "    </tr>\n",
       "    <tr>\n",
       "      <th>326</th>\n",
       "      <td>Christiansø</td>\n",
       "      <td>2011</td>\n",
       "      <td>67.7</td>\n",
       "      <td>NaN</td>\n",
       "    </tr>\n",
       "    <tr>\n",
       "      <th>425</th>\n",
       "      <td>Christiansø</td>\n",
       "      <td>2012</td>\n",
       "      <td>69.6</td>\n",
       "      <td>NaN</td>\n",
       "    </tr>\n",
       "    <tr>\n",
       "      <th>524</th>\n",
       "      <td>Christiansø</td>\n",
       "      <td>2013</td>\n",
       "      <td>69.4</td>\n",
       "      <td>NaN</td>\n",
       "    </tr>\n",
       "    <tr>\n",
       "      <th>623</th>\n",
       "      <td>Christiansø</td>\n",
       "      <td>2014</td>\n",
       "      <td>70.0</td>\n",
       "      <td>NaN</td>\n",
       "    </tr>\n",
       "    <tr>\n",
       "      <th>722</th>\n",
       "      <td>Christiansø</td>\n",
       "      <td>2015</td>\n",
       "      <td>75.5</td>\n",
       "      <td>NaN</td>\n",
       "    </tr>\n",
       "    <tr>\n",
       "      <th>821</th>\n",
       "      <td>Christiansø</td>\n",
       "      <td>2016</td>\n",
       "      <td>77.8</td>\n",
       "      <td>NaN</td>\n",
       "    </tr>\n",
       "    <tr>\n",
       "      <th>920</th>\n",
       "      <td>Christiansø</td>\n",
       "      <td>2017</td>\n",
       "      <td>80.9</td>\n",
       "      <td>NaN</td>\n",
       "    </tr>\n",
       "    <tr>\n",
       "      <th>990</th>\n",
       "      <td>Copenhagen</td>\n",
       "      <td>2004</td>\n",
       "      <td>NaN</td>\n",
       "      <td>233204.0</td>\n",
       "    </tr>\n",
       "    <tr>\n",
       "      <th>991</th>\n",
       "      <td>Frederiksberg</td>\n",
       "      <td>2004</td>\n",
       "      <td>NaN</td>\n",
       "      <td>276111.0</td>\n",
       "    </tr>\n",
       "    <tr>\n",
       "      <th>992</th>\n",
       "      <td>Dragør</td>\n",
       "      <td>2004</td>\n",
       "      <td>NaN</td>\n",
       "      <td>326324.0</td>\n",
       "    </tr>\n",
       "    <tr>\n",
       "      <th>993</th>\n",
       "      <td>Tårnby</td>\n",
       "      <td>2004</td>\n",
       "      <td>NaN</td>\n",
       "      <td>264299.0</td>\n",
       "    </tr>\n",
       "    <tr>\n",
       "      <th>994</th>\n",
       "      <td>Albertslund</td>\n",
       "      <td>2004</td>\n",
       "      <td>NaN</td>\n",
       "      <td>253319.0</td>\n",
       "    </tr>\n",
       "  </tbody>\n",
       "</table>\n",
       "</div>"
      ],
      "text/plain": [
       "      municipality  year     e       inc\n",
       "29     Christiansø  2008  62.9       NaN\n",
       "128    Christiansø  2009  64.6       NaN\n",
       "227    Christiansø  2010  67.8       NaN\n",
       "326    Christiansø  2011  67.7       NaN\n",
       "425    Christiansø  2012  69.6       NaN\n",
       "524    Christiansø  2013  69.4       NaN\n",
       "623    Christiansø  2014  70.0       NaN\n",
       "722    Christiansø  2015  75.5       NaN\n",
       "821    Christiansø  2016  77.8       NaN\n",
       "920    Christiansø  2017  80.9       NaN\n",
       "990     Copenhagen  2004   NaN  233204.0\n",
       "991  Frederiksberg  2004   NaN  276111.0\n",
       "992         Dragør  2004   NaN  326324.0\n",
       "993         Tårnby  2004   NaN  264299.0\n",
       "994    Albertslund  2004   NaN  253319.0"
      ]
     },
     "execution_count": 335,
     "metadata": {},
     "output_type": "execute_result"
    }
   ],
   "source": [
    "I = (outer.year.isin(diff_y)) | (outer.municipality.isin(diff_m))\n",
    "outer.loc[I, :].head(15)"
   ]
  },
  {
   "cell_type": "markdown",
   "metadata": {},
   "source": [
    "### Inner join"
   ]
  },
  {
   "cell_type": "code",
   "execution_count": 336,
   "metadata": {},
   "outputs": [
    {
     "data": {
      "image/png": "[encoded data removed]",
      "text/plain": [
       "<Figure size 432x288 with 1 Axes>"
      ]
     },
     "metadata": {},
     "output_type": "display_data"
    }
   ],
   "source": [
    "plt.figure()\n",
    "v = venn2(subsets = (4, 4, 10), set_labels = ('empl', 'inc'))\n",
    "v.get_label_by_id('100').set_text('dropped'); v.get_patch_by_id('100').set_alpha(0.05)\n",
    "v.get_label_by_id('010').set_text('dropped'); v.get_patch_by_id('010').set_alpha(0.05)\n",
    "v.get_label_by_id('110').set_text('included')\n",
    "plt.title('inner join')\n",
    "plt.show()"
   ]
  },
  {
   "cell_type": "code",
   "execution_count": 337,
   "metadata": {},
   "outputs": [
    {
     "name": "stdout",
     "output_type": "stream",
     "text": [
      "Number of municipalities = 98\n",
      "Number of years          = 10\n"
     ]
    }
   ],
   "source": [
    "inner = pd.merge(empl,inc,how='inner',on=['municipality','year'])\n",
    "\n",
    "print(f'Number of municipalities = {len(inner.municipality.unique())}')\n",
    "print(f'Number of years          = {len(inner.year.unique())}')"
   ]
  },
  {
   "cell_type": "markdown",
   "metadata": {},
   "source": [
    "We see that the **inner join** does not contain any rows that are not in both datasets. "
   ]
  },
  {
   "cell_type": "code",
   "execution_count": 338,
   "metadata": {},
   "outputs": [
    {
     "data": {
      "text/html": [
       "<div>\n",
       "<style scoped>\n",
       "    .dataframe tbody tr th:only-of-type {\n",
       "        vertical-align: middle;\n",
       "    }\n",
       "\n",
       "    .dataframe tbody tr th {\n",
       "        vertical-align: top;\n",
       "    }\n",
       "\n",
       "    .dataframe thead th {\n",
       "        text-align: right;\n",
       "    }\n",
       "</style>\n",
       "<table border=\"1\" class=\"dataframe\">\n",
       "  <thead>\n",
       "    <tr style=\"text-align: right;\">\n",
       "      <th></th>\n",
       "      <th>municipality</th>\n",
       "      <th>year</th>\n",
       "      <th>e</th>\n",
       "      <th>inc</th>\n",
       "    </tr>\n",
       "  </thead>\n",
       "  <tbody>\n",
       "  </tbody>\n",
       "</table>\n",
       "</div>"
      ],
      "text/plain": [
       "Empty DataFrame\n",
       "Columns: [municipality, year, e, inc]\n",
       "Index: []"
      ]
     },
     "execution_count": 338,
     "metadata": {},
     "output_type": "execute_result"
    }
   ],
   "source": [
    "I = (inner.year.isin(diff_y)) | (inner.municipality.isin(diff_m))\n",
    "inner.loc[I, :].head(15)"
   ]
  },
  {
   "cell_type": "markdown",
   "metadata": {},
   "source": [
    "### Left join"
   ]
  },
  {
   "cell_type": "markdown",
   "metadata": {},
   "source": [
    "In my work, I most frequently use the **left join**. It is also known as a *many-to-one* join. \n",
    "\n",
    "* **Left dataset:** `inner` many observations of a given municipality (one per year),\n",
    "* **Right dataset:** `area` at most one observation per municipality and new variable (km2). "
   ]
  },
  {
   "cell_type": "code",
   "execution_count": 339,
   "metadata": {},
   "outputs": [
    {
     "data": {
      "text/html": [
       "<div>\n",
       "<style scoped>\n",
       "    .dataframe tbody tr th:only-of-type {\n",
       "        vertical-align: middle;\n",
       "    }\n",
       "\n",
       "    .dataframe tbody tr th {\n",
       "        vertical-align: top;\n",
       "    }\n",
       "\n",
       "    .dataframe thead th {\n",
       "        text-align: right;\n",
       "    }\n",
       "</style>\n",
       "<table border=\"1\" class=\"dataframe\">\n",
       "  <thead>\n",
       "    <tr style=\"text-align: right;\">\n",
       "      <th></th>\n",
       "      <th>municipality</th>\n",
       "      <th>year</th>\n",
       "      <th>e</th>\n",
       "      <th>inc</th>\n",
       "      <th>km2</th>\n",
       "    </tr>\n",
       "  </thead>\n",
       "  <tbody>\n",
       "    <tr>\n",
       "      <th>0</th>\n",
       "      <td>Copenhagen</td>\n",
       "      <td>2008</td>\n",
       "      <td>72.5</td>\n",
       "      <td>259216.0</td>\n",
       "      <td>86.7</td>\n",
       "    </tr>\n",
       "    <tr>\n",
       "      <th>1</th>\n",
       "      <td>Frederiksberg</td>\n",
       "      <td>2008</td>\n",
       "      <td>75.6</td>\n",
       "      <td>296988.0</td>\n",
       "      <td>8.7</td>\n",
       "    </tr>\n",
       "    <tr>\n",
       "      <th>2</th>\n",
       "      <td>Dragør</td>\n",
       "      <td>2008</td>\n",
       "      <td>80.5</td>\n",
       "      <td>371290.0</td>\n",
       "      <td>18.3</td>\n",
       "    </tr>\n",
       "    <tr>\n",
       "      <th>3</th>\n",
       "      <td>Tårnby</td>\n",
       "      <td>2008</td>\n",
       "      <td>79.0</td>\n",
       "      <td>288973.0</td>\n",
       "      <td>66.1</td>\n",
       "    </tr>\n",
       "    <tr>\n",
       "      <th>4</th>\n",
       "      <td>Albertslund</td>\n",
       "      <td>2008</td>\n",
       "      <td>73.1</td>\n",
       "      <td>269855.0</td>\n",
       "      <td>23.4</td>\n",
       "    </tr>\n",
       "  </tbody>\n",
       "</table>\n",
       "</div>"
      ],
      "text/plain": [
       "    municipality  year     e       inc   km2\n",
       "0     Copenhagen  2008  72.5  259216.0  86.7\n",
       "1  Frederiksberg  2008  75.6  296988.0   8.7\n",
       "2         Dragør  2008  80.5  371290.0  18.3\n",
       "3         Tårnby  2008  79.0  288973.0  66.1\n",
       "4    Albertslund  2008  73.1  269855.0  23.4"
      ]
     },
     "execution_count": 339,
     "metadata": {},
     "output_type": "execute_result"
    }
   ],
   "source": [
    "inner_with_area = pd.merge(inner, area, on='municipality', how='left')\n",
    "inner_with_area.head(5)"
   ]
  },
  {
   "cell_type": "code",
   "execution_count": 340,
   "metadata": {},
   "outputs": [
    {
     "name": "stdout",
     "output_type": "stream",
     "text": [
      "inner has shape (980, 4)\n",
      "area has shape (99, 2)\n",
      "merge result has shape (980, 5)\n"
     ]
    }
   ],
   "source": [
    "print(f'inner has shape {inner.shape}')\n",
    "print(f'area has shape {area.shape}')\n",
    "print(f'merge result has shape {inner_with_area.shape}')"
   ]
  },
  {
   "cell_type": "code",
   "execution_count": 341,
   "metadata": {},
   "outputs": [
    {
     "data": {
      "image/png": "[encoded data removed]",
      "text/plain": [
       "<Figure size 432x288 with 1 Axes>"
      ]
     },
     "metadata": {},
     "output_type": "display_data"
    }
   ],
   "source": [
    "plt.figure()\n",
    "v = venn2(subsets = (4, 4, 10), set_labels = ('inner', 'area'))\n",
    "v.get_label_by_id('100').set_text('included:\\n no km2'); \n",
    "v.get_label_by_id('010').set_text('dropped'); v.get_patch_by_id('010').set_alpha(0.05)\n",
    "v.get_label_by_id('110').set_text('included:\\n with km2')\n",
    "plt.title('left join')\n",
    "plt.show()"
   ]
  },
  {
   "cell_type": "markdown",
   "metadata": {},
   "source": [
    "**Intermezzo:** Finding the non-overlapping observations"
   ]
  },
  {
   "cell_type": "code",
   "execution_count": 342,
   "metadata": {},
   "outputs": [
    {
     "name": "stdout",
     "output_type": "stream",
     "text": [
      "There are 0 municipalities in inner that are not in area. They are:\n",
      "[]\n",
      "\n",
      "There is 1 municipalities in area that are not in inner. They are:\n",
      "['Christiansø']\n",
      "\n"
     ]
    }
   ],
   "source": [
    "not_in_area = [m for m in inner.municipality.unique() if m not in area.municipality.unique()]\n",
    "not_in_inner = [m for m in area.municipality.unique() if m not in inner.municipality.unique()]\n",
    "\n",
    "print(f'There are {len(not_in_area)} municipalities in inner that are not in area. They are:')\n",
    "print(not_in_area)\n",
    "print('')\n",
    "\n",
    "print(f'There is {len(not_in_inner)} municipalities in area that are not in inner. They are:')\n",
    "print(not_in_inner)\n",
    "print('')"
   ]
  },
  {
   "cell_type": "markdown",
   "metadata": {},
   "source": [
    "**Check that km2 is never missing:**"
   ]
  },
  {
   "cell_type": "code",
   "execution_count": 343,
   "metadata": {},
   "outputs": [
    {
     "data": {
      "text/plain": [
       "0"
      ]
     },
     "execution_count": 343,
     "metadata": {},
     "output_type": "execute_result"
    }
   ],
   "source": [
    "inner_with_area.km2.isnull().sum()"
   ]
  },
  {
   "cell_type": "markdown",
   "metadata": {},
   "source": [
    "### Alternative function for left joins: `df.join()`"
   ]
  },
  {
   "cell_type": "markdown",
   "metadata": {},
   "source": [
    "To use a left join function `df.join()`, we must first set the index. Technically, we do not need this, but if you ever need to join on more than one variable, `df.join()` requires you to work with indices so we might as well learn it now. "
   ]
  },
  {
   "cell_type": "code",
   "execution_count": 344,
   "metadata": {},
   "outputs": [
    {
     "name": "stdout",
     "output_type": "stream",
     "text": [
      "final has shape: (980, 4)\n"
     ]
    },
    {
     "data": {
      "text/html": [
       "<div>\n",
       "<style scoped>\n",
       "    .dataframe tbody tr th:only-of-type {\n",
       "        vertical-align: middle;\n",
       "    }\n",
       "\n",
       "    .dataframe tbody tr th {\n",
       "        vertical-align: top;\n",
       "    }\n",
       "\n",
       "    .dataframe thead th {\n",
       "        text-align: right;\n",
       "    }\n",
       "</style>\n",
       "<table border=\"1\" class=\"dataframe\">\n",
       "  <thead>\n",
       "    <tr style=\"text-align: right;\">\n",
       "      <th></th>\n",
       "      <th>year</th>\n",
       "      <th>e</th>\n",
       "      <th>inc</th>\n",
       "      <th>km2</th>\n",
       "    </tr>\n",
       "    <tr>\n",
       "      <th>municipality</th>\n",
       "      <th></th>\n",
       "      <th></th>\n",
       "      <th></th>\n",
       "      <th></th>\n",
       "    </tr>\n",
       "  </thead>\n",
       "  <tbody>\n",
       "    <tr>\n",
       "      <th>Aabenraa</th>\n",
       "      <td>2008</td>\n",
       "      <td>74.6</td>\n",
       "      <td>308611.0</td>\n",
       "      <td>940.7</td>\n",
       "    </tr>\n",
       "    <tr>\n",
       "      <th>Aabenraa</th>\n",
       "      <td>2009</td>\n",
       "      <td>71.6</td>\n",
       "      <td>308226.0</td>\n",
       "      <td>940.7</td>\n",
       "    </tr>\n",
       "    <tr>\n",
       "      <th>Aabenraa</th>\n",
       "      <td>2010</td>\n",
       "      <td>70.9</td>\n",
       "      <td>350112.0</td>\n",
       "      <td>940.7</td>\n",
       "    </tr>\n",
       "    <tr>\n",
       "      <th>Aabenraa</th>\n",
       "      <td>2011</td>\n",
       "      <td>70.2</td>\n",
       "      <td>346564.0</td>\n",
       "      <td>940.7</td>\n",
       "    </tr>\n",
       "    <tr>\n",
       "      <th>Aabenraa</th>\n",
       "      <td>2012</td>\n",
       "      <td>69.5</td>\n",
       "      <td>349133.0</td>\n",
       "      <td>940.7</td>\n",
       "    </tr>\n",
       "  </tbody>\n",
       "</table>\n",
       "</div>"
      ],
      "text/plain": [
       "              year     e       inc    km2\n",
       "municipality                             \n",
       "Aabenraa      2008  74.6  308611.0  940.7\n",
       "Aabenraa      2009  71.6  308226.0  940.7\n",
       "Aabenraa      2010  70.9  350112.0  940.7\n",
       "Aabenraa      2011  70.2  346564.0  940.7\n",
       "Aabenraa      2012  69.5  349133.0  940.7"
      ]
     },
     "execution_count": 344,
     "metadata": {},
     "output_type": "execute_result"
    }
   ],
   "source": [
    "inner.set_index('municipality', inplace=True)\n",
    "area.set_index('municipality', inplace=True)\n",
    "final = inner.join(area)\n",
    "print(f'final has shape: {final.shape}')\n",
    "final.head(5)"
   ]
  },
  {
   "cell_type": "markdown",
   "metadata": {},
   "source": [
    "## 1.3 Other programming languages "
   ]
  },
  {
   "cell_type": "markdown",
   "metadata": {},
   "source": [
    "**SQL** (including SAS *proc sql*)"
   ]
  },
  {
   "cell_type": "markdown",
   "metadata": {},
   "source": [
    "SQL is one of the most powerful database languages and many other programming languages embed a version of it. For example, SAS has the `proc SQL`, where you can use SQL syntax. "
   ]
  },
  {
   "cell_type": "markdown",
   "metadata": {},
   "source": [
    "SQL is written in statements such as \n",
    "\n",
    "* **left join**   `select * from empl left join inc on empl.municipality = inc.municipality and empl.year = inc.year`\n",
    "* **outer join** `select * from empl full outer join inc on empl.municipality = inc.municipality and empl.year = inc.year`"
   ]
  },
  {
   "cell_type": "markdown",
   "metadata": {},
   "source": [
    "**STATA**"
   ]
  },
  {
   "cell_type": "markdown",
   "metadata": {},
   "source": [
    "In Stata, the command `merge` nests many of the commands mentioned above. You specify `merge 1:1`  for a one-to-one merge or `merge m:1`  or `merge 1:m`  for many-to-one or one-to-many merges, and you do not use `merge m:m` (until you are quite advanced). "
   ]
  },
  {
   "cell_type": "markdown",
   "metadata": {},
   "source": [
    "<a id=\"Fetching-data-using-an-API\"></a>\n",
    "\n",
    "# 2. Fetching data using an API"
   ]
  },
  {
   "cell_type": "markdown",
   "metadata": {},
   "source": [
    "API stands for **Application Programming Interface**. An API is an interface through which we can directly ask for and **receive data from an online source**. We will be using packages for this and will not look at what is going on underneath. \n",
    "\n",
    "1. We use `pandas_datareader` to access many common **international online data** sources (install with `pip install pandas-datareader`)\n",
    "2. For **Statistics Denmark**, Jakob Elben has written the `pydst` package (install with `pip install git+https://github.com/elben10/pydst`)"
   ]
  },
  {
   "cell_type": "markdown",
   "metadata": {},
   "source": [
    "Fetching data from an API requires an **internet connection** and works directly without saving data to your hard disc (unless you ask Python to do so afterwards). You can use it to automate tasks such as fetching the most recent data, doing some calculations and outputting it in the same manner. This can be useful e.g. for quarterly reports. Remember to save the data on your computer if you really need for later though. The admins of the data may turn off the water.."
   ]
  },
  {
   "cell_type": "markdown",
   "metadata": {},
   "source": [
    "**Pros:** Automatic; smart; everything is done from Python (so no need to remember steps in between). \n",
    "\n",
    "**Cons:** The connection can be slow or drop out, which may lead to errors. If e.g. 100 students simultaneously fetch data (during, say, a lecture), the host server may not be able to service all the requests and may drop out. "
   ]
  },
  {
   "cell_type": "markdown",
   "metadata": {},
   "source": [
    "> The raw output data from an API could look like this: https://stats.oecd.org/SDMX-JSON/data/NAAG. It is a log list of non-human-readable gobledygook in the so-called \"JSON\" format. "
   ]
  },
  {
   "cell_type": "markdown",
   "metadata": {},
   "source": [
    "## 2.1 Import data from Denmark Statistics"
   ]
  },
  {
   "cell_type": "markdown",
   "metadata": {},
   "source": [
    "**Setup:**"
   ]
  },
  {
   "cell_type": "code",
   "execution_count": 345,
   "metadata": {},
   "outputs": [],
   "source": [
    "Dst = pydst.Dst(lang='en') # setup data loader with the langauge 'english'"
   ]
  },
  {
   "cell_type": "markdown",
   "metadata": {},
   "source": [
    "Data from DST are organized into: \n",
    "\n",
    "1. **Subjects:** indexed by numbers. Use `Dst.get_subjects()` to see the list. \n",
    "2. **Tables:** with names like \"INDKP107\". Use `Dst.get_tables(subjects=['X'])` to see all tables in a subject. \n",
    "\n",
    "**Data is extracted**  with `Dst.get_data(table_id = 'NAME', variables = DICT)`. "
   ]
  },
  {
   "cell_type": "markdown",
   "metadata": {},
   "source": [
    "**Subjects:** With `Dst.get_subjects()` we can list all subjects."
   ]
  },
  {
   "cell_type": "code",
   "execution_count": 346,
   "metadata": {},
   "outputs": [
    {
     "data": {
      "text/html": [
       "<div>\n",
       "<style scoped>\n",
       "    .dataframe tbody tr th:only-of-type {\n",
       "        vertical-align: middle;\n",
       "    }\n",
       "\n",
       "    .dataframe tbody tr th {\n",
       "        vertical-align: top;\n",
       "    }\n",
       "\n",
       "    .dataframe thead th {\n",
       "        text-align: right;\n",
       "    }\n",
       "</style>\n",
       "<table border=\"1\" class=\"dataframe\">\n",
       "  <thead>\n",
       "    <tr style=\"text-align: right;\">\n",
       "      <th></th>\n",
       "      <th>id</th>\n",
       "      <th>desc</th>\n",
       "      <th>active</th>\n",
       "      <th>hasSubjects</th>\n",
       "    </tr>\n",
       "  </thead>\n",
       "  <tbody>\n",
       "    <tr>\n",
       "      <th>0</th>\n",
       "      <td>02</td>\n",
       "      <td>Population and elections</td>\n",
       "      <td>True</td>\n",
       "      <td>True</td>\n",
       "    </tr>\n",
       "    <tr>\n",
       "      <th>1</th>\n",
       "      <td>04</td>\n",
       "      <td>Labour, income and wealth</td>\n",
       "      <td>True</td>\n",
       "      <td>True</td>\n",
       "    </tr>\n",
       "    <tr>\n",
       "      <th>2</th>\n",
       "      <td>06</td>\n",
       "      <td>Prices and consumption</td>\n",
       "      <td>True</td>\n",
       "      <td>True</td>\n",
       "    </tr>\n",
       "    <tr>\n",
       "      <th>3</th>\n",
       "      <td>05</td>\n",
       "      <td>Living conditions</td>\n",
       "      <td>True</td>\n",
       "      <td>True</td>\n",
       "    </tr>\n",
       "    <tr>\n",
       "      <th>4</th>\n",
       "      <td>14</td>\n",
       "      <td>National accounts and government finances</td>\n",
       "      <td>True</td>\n",
       "      <td>True</td>\n",
       "    </tr>\n",
       "    <tr>\n",
       "      <th>5</th>\n",
       "      <td>03</td>\n",
       "      <td>Education and knowledge</td>\n",
       "      <td>True</td>\n",
       "      <td>True</td>\n",
       "    </tr>\n",
       "    <tr>\n",
       "      <th>6</th>\n",
       "      <td>11</td>\n",
       "      <td>Business sectors</td>\n",
       "      <td>True</td>\n",
       "      <td>True</td>\n",
       "    </tr>\n",
       "    <tr>\n",
       "      <th>7</th>\n",
       "      <td>07</td>\n",
       "      <td>Business sector in general</td>\n",
       "      <td>True</td>\n",
       "      <td>True</td>\n",
       "    </tr>\n",
       "    <tr>\n",
       "      <th>8</th>\n",
       "      <td>16</td>\n",
       "      <td>Money and credit market</td>\n",
       "      <td>True</td>\n",
       "      <td>True</td>\n",
       "    </tr>\n",
       "    <tr>\n",
       "      <th>9</th>\n",
       "      <td>13</td>\n",
       "      <td>External economy</td>\n",
       "      <td>True</td>\n",
       "      <td>True</td>\n",
       "    </tr>\n",
       "    <tr>\n",
       "      <th>10</th>\n",
       "      <td>18</td>\n",
       "      <td>Culture and National Church</td>\n",
       "      <td>True</td>\n",
       "      <td>True</td>\n",
       "    </tr>\n",
       "    <tr>\n",
       "      <th>11</th>\n",
       "      <td>01</td>\n",
       "      <td>Geography, environment and energy</td>\n",
       "      <td>True</td>\n",
       "      <td>True</td>\n",
       "    </tr>\n",
       "    <tr>\n",
       "      <th>12</th>\n",
       "      <td>19</td>\n",
       "      <td>Other</td>\n",
       "      <td>True</td>\n",
       "      <td>True</td>\n",
       "    </tr>\n",
       "  </tbody>\n",
       "</table>\n",
       "</div>"
      ],
      "text/plain": [
       "    id                                       desc  active  hasSubjects\n",
       "0   02                   Population and elections    True         True\n",
       "1   04                  Labour, income and wealth    True         True\n",
       "2   06                     Prices and consumption    True         True\n",
       "3   05                          Living conditions    True         True\n",
       "4   14  National accounts and government finances    True         True\n",
       "5   03                    Education and knowledge    True         True\n",
       "6   11                           Business sectors    True         True\n",
       "7   07                 Business sector in general    True         True\n",
       "8   16                    Money and credit market    True         True\n",
       "9   13                           External economy    True         True\n",
       "10  18                Culture and National Church    True         True\n",
       "11  01          Geography, environment and energy    True         True\n",
       "12  19                                      Other    True         True"
      ]
     },
     "execution_count": 346,
     "metadata": {},
     "output_type": "execute_result"
    }
   ],
   "source": [
    "Dst.get_subjects()"
   ]
  },
  {
   "cell_type": "markdown",
   "metadata": {},
   "source": [
    "**Tables:** With `get_tables()`, we can list all tables under a subject."
   ]
  },
  {
   "cell_type": "code",
   "execution_count": 347,
   "metadata": {},
   "outputs": [
    {
     "name": "stdout",
     "output_type": "stream",
     "text": [
      "<class 'pandas.core.frame.DataFrame'>\n"
     ]
    },
    {
     "data": {
      "text/html": [
       "<div>\n",
       "<style scoped>\n",
       "    .dataframe tbody tr th:only-of-type {\n",
       "        vertical-align: middle;\n",
       "    }\n",
       "\n",
       "    .dataframe tbody tr th {\n",
       "        vertical-align: top;\n",
       "    }\n",
       "\n",
       "    .dataframe thead th {\n",
       "        text-align: right;\n",
       "    }\n",
       "</style>\n",
       "<table border=\"1\" class=\"dataframe\">\n",
       "  <thead>\n",
       "    <tr style=\"text-align: right;\">\n",
       "      <th></th>\n",
       "      <th>id</th>\n",
       "      <th>text</th>\n",
       "      <th>unit</th>\n",
       "      <th>updated</th>\n",
       "      <th>firstPeriod</th>\n",
       "      <th>latestPeriod</th>\n",
       "      <th>active</th>\n",
       "      <th>variables</th>\n",
       "    </tr>\n",
       "  </thead>\n",
       "  <tbody>\n",
       "    <tr>\n",
       "      <th>0</th>\n",
       "      <td>AKU100K</td>\n",
       "      <td>Seasonally adjusted labour force status</td>\n",
       "      <td>1,000 people</td>\n",
       "      <td>2021-02-17 08:00:00</td>\n",
       "      <td>2008Q1</td>\n",
       "      <td>2020Q4</td>\n",
       "      <td>True</td>\n",
       "      <td>[employment status, time]</td>\n",
       "    </tr>\n",
       "    <tr>\n",
       "      <th>1</th>\n",
       "      <td>AKU101K</td>\n",
       "      <td>Seasonally adjusted labour force status in per...</td>\n",
       "      <td>per cent</td>\n",
       "      <td>2021-02-17 08:00:00</td>\n",
       "      <td>2008Q1</td>\n",
       "      <td>2020Q4</td>\n",
       "      <td>True</td>\n",
       "      <td>[employment status, time]</td>\n",
       "    </tr>\n",
       "    <tr>\n",
       "      <th>2</th>\n",
       "      <td>AKU110K</td>\n",
       "      <td>Labour force status</td>\n",
       "      <td>1,000 people</td>\n",
       "      <td>2021-02-17 08:00:00</td>\n",
       "      <td>2008Q1</td>\n",
       "      <td>2020Q4</td>\n",
       "      <td>True</td>\n",
       "      <td>[employment status, age, sex, time]</td>\n",
       "    </tr>\n",
       "    <tr>\n",
       "      <th>3</th>\n",
       "      <td>AKU111K</td>\n",
       "      <td>Labour force status in percentage</td>\n",
       "      <td>per cent</td>\n",
       "      <td>2021-02-17 08:00:00</td>\n",
       "      <td>2008Q1</td>\n",
       "      <td>2020Q4</td>\n",
       "      <td>True</td>\n",
       "      <td>[employment status, age, sex, time]</td>\n",
       "    </tr>\n",
       "    <tr>\n",
       "      <th>4</th>\n",
       "      <td>AKU120K</td>\n",
       "      <td>Labour force status</td>\n",
       "      <td>1,000 people</td>\n",
       "      <td>2021-02-17 08:00:00</td>\n",
       "      <td>2008Q1</td>\n",
       "      <td>2020Q4</td>\n",
       "      <td>True</td>\n",
       "      <td>[employment status, region, time]</td>\n",
       "    </tr>\n",
       "    <tr>\n",
       "      <th>...</th>\n",
       "      <td>...</td>\n",
       "      <td>...</td>\n",
       "      <td>...</td>\n",
       "      <td>...</td>\n",
       "      <td>...</td>\n",
       "      <td>...</td>\n",
       "      <td>...</td>\n",
       "      <td>...</td>\n",
       "    </tr>\n",
       "    <tr>\n",
       "      <th>239</th>\n",
       "      <td>TJEN01</td>\n",
       "      <td>Accrued civil servant pension for active civil...</td>\n",
       "      <td>-</td>\n",
       "      <td>2020-12-10 08:00:00</td>\n",
       "      <td>2014</td>\n",
       "      <td>2019</td>\n",
       "      <td>True</td>\n",
       "      <td>[sector, unit, sex, profession, ages groups, t...</td>\n",
       "    </tr>\n",
       "    <tr>\n",
       "      <th>240</th>\n",
       "      <td>TJEN02</td>\n",
       "      <td>Accrued civil servant pension for retired civi...</td>\n",
       "      <td>-</td>\n",
       "      <td>2020-12-10 08:00:00</td>\n",
       "      <td>2014</td>\n",
       "      <td>2019</td>\n",
       "      <td>True</td>\n",
       "      <td>[sector, unit, sex, time]</td>\n",
       "    </tr>\n",
       "    <tr>\n",
       "      <th>241</th>\n",
       "      <td>PENSOC</td>\n",
       "      <td>Supplementary table for accrued-to-date pensio...</td>\n",
       "      <td>m DKK</td>\n",
       "      <td>2020-12-23 08:00:00</td>\n",
       "      <td>2015</td>\n",
       "      <td>2019</td>\n",
       "      <td>True</td>\n",
       "      <td>[pension schemes, account, time]</td>\n",
       "    </tr>\n",
       "    <tr>\n",
       "      <th>242</th>\n",
       "      <td>PENS6</td>\n",
       "      <td>Value of pension schemes (except special schem...</td>\n",
       "      <td>-</td>\n",
       "      <td>2020-09-15 08:00:00</td>\n",
       "      <td>2015</td>\n",
       "      <td>2019</td>\n",
       "      <td>True</td>\n",
       "      <td>[kind of pension, company type, unit, family t...</td>\n",
       "    </tr>\n",
       "    <tr>\n",
       "      <th>243</th>\n",
       "      <td>PENINDB1</td>\n",
       "      <td>Persons with pension contributions</td>\n",
       "      <td>-</td>\n",
       "      <td>2020-11-19 08:00:00</td>\n",
       "      <td>2005</td>\n",
       "      <td>2019</td>\n",
       "      <td>True</td>\n",
       "      <td>[region, unit, sex, age, type of pension, time]</td>\n",
       "    </tr>\n",
       "  </tbody>\n",
       "</table>\n",
       "<p>244 rows × 8 columns</p>\n",
       "</div>"
      ],
      "text/plain": [
       "           id                                               text  \\\n",
       "0     AKU100K            Seasonally adjusted labour force status   \n",
       "1     AKU101K  Seasonally adjusted labour force status in per...   \n",
       "2     AKU110K                                Labour force status   \n",
       "3     AKU111K                  Labour force status in percentage   \n",
       "4     AKU120K                                Labour force status   \n",
       "..        ...                                                ...   \n",
       "239    TJEN01  Accrued civil servant pension for active civil...   \n",
       "240    TJEN02  Accrued civil servant pension for retired civi...   \n",
       "241    PENSOC  Supplementary table for accrued-to-date pensio...   \n",
       "242     PENS6  Value of pension schemes (except special schem...   \n",
       "243  PENINDB1                 Persons with pension contributions   \n",
       "\n",
       "             unit             updated firstPeriod latestPeriod  active  \\\n",
       "0    1,000 people 2021-02-17 08:00:00      2008Q1       2020Q4    True   \n",
       "1        per cent 2021-02-17 08:00:00      2008Q1       2020Q4    True   \n",
       "2    1,000 people 2021-02-17 08:00:00      2008Q1       2020Q4    True   \n",
       "3        per cent 2021-02-17 08:00:00      2008Q1       2020Q4    True   \n",
       "4    1,000 people 2021-02-17 08:00:00      2008Q1       2020Q4    True   \n",
       "..            ...                 ...         ...          ...     ...   \n",
       "239             - 2020-12-10 08:00:00        2014         2019    True   \n",
       "240             - 2020-12-10 08:00:00        2014         2019    True   \n",
       "241         m DKK 2020-12-23 08:00:00        2015         2019    True   \n",
       "242             - 2020-09-15 08:00:00        2015         2019    True   \n",
       "243             - 2020-11-19 08:00:00        2005         2019    True   \n",
       "\n",
       "                                             variables  \n",
       "0                            [employment status, time]  \n",
       "1                            [employment status, time]  \n",
       "2                  [employment status, age, sex, time]  \n",
       "3                  [employment status, age, sex, time]  \n",
       "4                    [employment status, region, time]  \n",
       "..                                                 ...  \n",
       "239  [sector, unit, sex, profession, ages groups, t...  \n",
       "240                          [sector, unit, sex, time]  \n",
       "241                   [pension schemes, account, time]  \n",
       "242  [kind of pension, company type, unit, family t...  \n",
       "243    [region, unit, sex, age, type of pension, time]  \n",
       "\n",
       "[244 rows x 8 columns]"
      ]
     },
     "execution_count": 347,
     "metadata": {},
     "output_type": "execute_result"
    }
   ],
   "source": [
    "tables = Dst.get_tables(subjects=['04'])\n",
    "print(type(tables))\n",
    "tables"
   ]
  },
  {
   "cell_type": "markdown",
   "metadata": {},
   "source": [
    "**Variable in a dataset:**"
   ]
  },
  {
   "cell_type": "code",
   "execution_count": 348,
   "metadata": {},
   "outputs": [
    {
     "data": {
      "text/html": [
       "<div>\n",
       "<style scoped>\n",
       "    .dataframe tbody tr th:only-of-type {\n",
       "        vertical-align: middle;\n",
       "    }\n",
       "\n",
       "    .dataframe tbody tr th {\n",
       "        vertical-align: top;\n",
       "    }\n",
       "\n",
       "    .dataframe thead th {\n",
       "        text-align: right;\n",
       "    }\n",
       "</style>\n",
       "<table border=\"1\" class=\"dataframe\">\n",
       "  <thead>\n",
       "    <tr style=\"text-align: right;\">\n",
       "      <th></th>\n",
       "      <th>id</th>\n",
       "      <th>text</th>\n",
       "      <th>unit</th>\n",
       "      <th>updated</th>\n",
       "      <th>firstPeriod</th>\n",
       "      <th>latestPeriod</th>\n",
       "      <th>active</th>\n",
       "      <th>variables</th>\n",
       "    </tr>\n",
       "  </thead>\n",
       "  <tbody>\n",
       "    <tr>\n",
       "      <th>198</th>\n",
       "      <td>INDKP107</td>\n",
       "      <td>Income, persons</td>\n",
       "      <td>-</td>\n",
       "      <td>2020-11-27 08:00:00</td>\n",
       "      <td>2004</td>\n",
       "      <td>2019</td>\n",
       "      <td>True</td>\n",
       "      <td>[region, unit, sex, level of education, type o...</td>\n",
       "    </tr>\n",
       "  </tbody>\n",
       "</table>\n",
       "</div>"
      ],
      "text/plain": [
       "           id             text unit             updated firstPeriod  \\\n",
       "198  INDKP107  Income, persons    - 2020-11-27 08:00:00        2004   \n",
       "\n",
       "    latestPeriod  active                                          variables  \n",
       "198         2019    True  [region, unit, sex, level of education, type o...  "
      ]
     },
     "execution_count": 348,
     "metadata": {},
     "output_type": "execute_result"
    }
   ],
   "source": [
    "tables[tables.id == 'INDKP107']"
   ]
  },
  {
   "cell_type": "code",
   "execution_count": 349,
   "metadata": {},
   "outputs": [
    {
     "data": {
      "text/html": [
       "<div>\n",
       "<style scoped>\n",
       "    .dataframe tbody tr th:only-of-type {\n",
       "        vertical-align: middle;\n",
       "    }\n",
       "\n",
       "    .dataframe tbody tr th {\n",
       "        vertical-align: top;\n",
       "    }\n",
       "\n",
       "    .dataframe thead th {\n",
       "        text-align: right;\n",
       "    }\n",
       "</style>\n",
       "<table border=\"1\" class=\"dataframe\">\n",
       "  <thead>\n",
       "    <tr style=\"text-align: right;\">\n",
       "      <th></th>\n",
       "      <th>id</th>\n",
       "      <th>text</th>\n",
       "      <th>elimination</th>\n",
       "      <th>time</th>\n",
       "      <th>map</th>\n",
       "      <th>values</th>\n",
       "    </tr>\n",
       "  </thead>\n",
       "  <tbody>\n",
       "    <tr>\n",
       "      <th>0</th>\n",
       "      <td>OMRÅDE</td>\n",
       "      <td>region</td>\n",
       "      <td>True</td>\n",
       "      <td>False</td>\n",
       "      <td>denmark_municipality_07</td>\n",
       "      <td>[{'id': '000', 'text': 'All Denmark'}, {'id': ...</td>\n",
       "    </tr>\n",
       "    <tr>\n",
       "      <th>1</th>\n",
       "      <td>ENHED</td>\n",
       "      <td>unit</td>\n",
       "      <td>False</td>\n",
       "      <td>False</td>\n",
       "      <td>NaN</td>\n",
       "      <td>[{'id': '101', 'text': 'People with type of in...</td>\n",
       "    </tr>\n",
       "    <tr>\n",
       "      <th>2</th>\n",
       "      <td>KOEN</td>\n",
       "      <td>sex</td>\n",
       "      <td>True</td>\n",
       "      <td>False</td>\n",
       "      <td>NaN</td>\n",
       "      <td>[{'id': 'MOK', 'text': 'Men and women, total'}...</td>\n",
       "    </tr>\n",
       "    <tr>\n",
       "      <th>3</th>\n",
       "      <td>UDDNIV</td>\n",
       "      <td>level of education</td>\n",
       "      <td>False</td>\n",
       "      <td>False</td>\n",
       "      <td>NaN</td>\n",
       "      <td>[{'id': '10', 'text': '10 BASIC SCHOOL 8-10 gr...</td>\n",
       "    </tr>\n",
       "    <tr>\n",
       "      <th>4</th>\n",
       "      <td>INDKOMSTTYPE</td>\n",
       "      <td>type of income</td>\n",
       "      <td>False</td>\n",
       "      <td>False</td>\n",
       "      <td>NaN</td>\n",
       "      <td>[{'id': '100', 'text': '1 Disposable income (2...</td>\n",
       "    </tr>\n",
       "    <tr>\n",
       "      <th>5</th>\n",
       "      <td>Tid</td>\n",
       "      <td>time</td>\n",
       "      <td>False</td>\n",
       "      <td>True</td>\n",
       "      <td>NaN</td>\n",
       "      <td>[{'id': '2004', 'text': '2004'}, {'id': '2005'...</td>\n",
       "    </tr>\n",
       "  </tbody>\n",
       "</table>\n",
       "</div>"
      ],
      "text/plain": [
       "             id                text  elimination   time  \\\n",
       "0        OMRÅDE              region         True  False   \n",
       "1         ENHED                unit        False  False   \n",
       "2          KOEN                 sex         True  False   \n",
       "3        UDDNIV  level of education        False  False   \n",
       "4  INDKOMSTTYPE      type of income        False  False   \n",
       "5           Tid                time        False   True   \n",
       "\n",
       "                       map                                             values  \n",
       "0  denmark_municipality_07  [{'id': '000', 'text': 'All Denmark'}, {'id': ...  \n",
       "1                      NaN  [{'id': '101', 'text': 'People with type of in...  \n",
       "2                      NaN  [{'id': 'MOK', 'text': 'Men and women, total'}...  \n",
       "3                      NaN  [{'id': '10', 'text': '10 BASIC SCHOOL 8-10 gr...  \n",
       "4                      NaN  [{'id': '100', 'text': '1 Disposable income (2...  \n",
       "5                      NaN  [{'id': '2004', 'text': '2004'}, {'id': '2005'...  "
      ]
     },
     "execution_count": 349,
     "metadata": {},
     "output_type": "execute_result"
    }
   ],
   "source": [
    "indk_vars = Dst.get_variables(table_id='INDKP107')\n",
    "indk_vars"
   ]
  },
  {
   "cell_type": "markdown",
   "metadata": {},
   "source": [
    "We want to know the available levels of each conditioning variable that we may subset by. Use a loop to print out those levels. \n",
    "\n",
    "\n",
    "**Values of variable in a dataset:**"
   ]
  },
  {
   "cell_type": "code",
   "execution_count": 350,
   "metadata": {},
   "outputs": [
    {
     "name": "stdout",
     "output_type": "stream",
     "text": [
      "ENHED\n",
      " id = 101, text = People with type of income (number)\n",
      " id = 110, text = Amount of income (DKK 1.000)\n",
      " id = 116, text = Average income for all people (DKK)\n",
      " id = 121, text = Average income for people with type of income (DKK)\n",
      "KOEN\n",
      " id = MOK, text = Men and women, total\n",
      " id = M, text = Men\n",
      " id = K, text = Women\n",
      "UDDNIV\n",
      " id = 10, text = 10 BASIC SCHOOL 8-10 grade\n",
      " id = 26, text = 20+25 UPPER SECONDARY SCHOOL\n",
      " id = 35, text = 35 VOCATIONAL EDUCATION\n",
      " id = 40, text = 40 SHORT-CYCLE HIGHER EDUCATION\n",
      " id = 61, text = 50+60 MEDIUM-CYCLE HIGHER EDUCATION, BACHLEOR\n",
      " id = 65, text = 65 LONG-CYCLE HIGHER EDUCATION\n",
      " id = 9, text = Not stated\n",
      "INDKOMSTTYPE\n",
      " id = 100, text = 1 Disposable income (2+30-31-32-35)\n",
      " id = 105, text = 2 Pre-tax Income, total (3+7+22+26+29)\n",
      " id = 110, text = 3 Primary income (4+5+6)\n",
      " id = 115, text = 4 Wages and salaries etc., total\n",
      " id = 120, text = 5 Entrepreneurial income, total\n",
      " id = 125, text = 6 Received fees subject to labour market contributions\n",
      " id = 130, text = 7 Public transfer incomes(8+14+19)\n",
      " id = 135, text = 8 Unemployment and cash benefits (9+10+11+12+13)\n",
      " id = 140, text = 9 Unemployment benefits\n",
      " id = 145, text = 10 Other benefits from unemployment funds\n",
      " id = 150, text = 11 Cash benefits\n",
      " id = 155, text = 12 Job training & Limited employment benefits\n",
      " id = 160, text = 13 Sickness- & parental leave\n",
      " id = 165, text = 14 Other transfers(15+16+17+18)\n",
      " id = 170, text = 15 Public educational grants\n",
      " id = 175, text = 16 Housing benefits\n",
      " id = 180, text = 17 Child benefits\n",
      " id = 185, text = 18 Green check\n",
      " id = 190, text = 19 Public pensions(20+21)\n",
      " id = 195, text = 20 Early retirement pay\n",
      " id = 200, text = 21 Disability and old age pensions\n",
      " id = 205, text = 22 Private pensions(23+24+25)\n",
      " id = 210, text = 23 Public servants pension\n",
      " id = 215, text = 24 Pension from the ATP (Labour Market Supplementary Pension Scheme)\n",
      " id = 220, text = 25 Labour market and private pensions (Annuities only)\n",
      " id = 225, text = 26 Capital income, gross (27+28)\n",
      " id = 230, text = 27 Interest received\n",
      " id = 235, text = 28 Other property income (From stocks etc.)\n",
      " id = 240, text = 29 Other personal income\n",
      " id = 245, text = 30 Imputed rent\n",
      " id = 250, text = 31 Interest expenses\n",
      " id = 255, text = 32 Tax, total (33+34)\n",
      " id = 260, text = 33 Income taxes\n",
      " id = 265, text = 34 Labour market contributions etc.\n",
      " id = 270, text = 35 Paid alimonies\n",
      " id = 275, text = Equivalised Disposable income\n",
      " id = 280, text = Land tax home owners\n",
      " id = 285, text = Land tax, tenants\n",
      " id = 290, text = Taxable income\n"
     ]
    }
   ],
   "source": [
    "indk_vars = Dst.get_variables(table_id='INDKP107')\n",
    "\n",
    "for id in ['ENHED','KOEN','UDDNIV','INDKOMSTTYPE']:\n",
    "    print(id)\n",
    "    values = indk_vars.loc[indk_vars.id == id,['values']].values[0,0]\n",
    "    for value in values:      \n",
    "        print(f' id = {value[\"id\"]}, text = {value[\"text\"]}')"
   ]
  },
  {
   "cell_type": "markdown",
   "metadata": {},
   "source": [
    "There are quite a few to select from. Need to use a dictionary to specify the desired subset of data. Note: a **\\*** indicates that you want all levels. For example, we are subsetting all periods below.  \n",
    "\n",
    "**Get data:**"
   ]
  },
  {
   "cell_type": "code",
   "execution_count": 351,
   "metadata": {},
   "outputs": [
    {
     "data": {
      "text/html": [
       "<div>\n",
       "<style scoped>\n",
       "    .dataframe tbody tr th:only-of-type {\n",
       "        vertical-align: middle;\n",
       "    }\n",
       "\n",
       "    .dataframe tbody tr th {\n",
       "        vertical-align: top;\n",
       "    }\n",
       "\n",
       "    .dataframe thead th {\n",
       "        text-align: right;\n",
       "    }\n",
       "</style>\n",
       "<table border=\"1\" class=\"dataframe\">\n",
       "  <thead>\n",
       "    <tr style=\"text-align: right;\">\n",
       "      <th></th>\n",
       "      <th>OMRÅDE</th>\n",
       "      <th>ENHED</th>\n",
       "      <th>KOEN</th>\n",
       "      <th>TID</th>\n",
       "      <th>UDDNIV</th>\n",
       "      <th>INDKOMSTTYPE</th>\n",
       "      <th>INDHOLD</th>\n",
       "    </tr>\n",
       "  </thead>\n",
       "  <tbody>\n",
       "    <tr>\n",
       "      <th>1876</th>\n",
       "      <td>Aabenraa</td>\n",
       "      <td>Amount of income (DKK 1.000)</td>\n",
       "      <td>Men</td>\n",
       "      <td>2004</td>\n",
       "      <td>65 LONG-CYCLE HIGHER EDUCATION</td>\n",
       "      <td>1 Disposable income (2+30-31-32-35)</td>\n",
       "      <td>223232</td>\n",
       "    </tr>\n",
       "    <tr>\n",
       "      <th>1877</th>\n",
       "      <td>Aabenraa</td>\n",
       "      <td>Amount of income (DKK 1.000)</td>\n",
       "      <td>Women</td>\n",
       "      <td>2004</td>\n",
       "      <td>65 LONG-CYCLE HIGHER EDUCATION</td>\n",
       "      <td>1 Disposable income (2+30-31-32-35)</td>\n",
       "      <td>104081</td>\n",
       "    </tr>\n",
       "    <tr>\n",
       "      <th>1602</th>\n",
       "      <td>Aabenraa</td>\n",
       "      <td>Amount of income (DKK 1.000)</td>\n",
       "      <td>Men</td>\n",
       "      <td>2005</td>\n",
       "      <td>65 LONG-CYCLE HIGHER EDUCATION</td>\n",
       "      <td>1 Disposable income (2+30-31-32-35)</td>\n",
       "      <td>237525</td>\n",
       "    </tr>\n",
       "    <tr>\n",
       "      <th>1603</th>\n",
       "      <td>Aabenraa</td>\n",
       "      <td>Amount of income (DKK 1.000)</td>\n",
       "      <td>Women</td>\n",
       "      <td>2005</td>\n",
       "      <td>65 LONG-CYCLE HIGHER EDUCATION</td>\n",
       "      <td>1 Disposable income (2+30-31-32-35)</td>\n",
       "      <td>109505</td>\n",
       "    </tr>\n",
       "    <tr>\n",
       "      <th>1421</th>\n",
       "      <td>Aabenraa</td>\n",
       "      <td>Amount of income (DKK 1.000)</td>\n",
       "      <td>Men</td>\n",
       "      <td>2006</td>\n",
       "      <td>65 LONG-CYCLE HIGHER EDUCATION</td>\n",
       "      <td>1 Disposable income (2+30-31-32-35)</td>\n",
       "      <td>250321</td>\n",
       "    </tr>\n",
       "  </tbody>\n",
       "</table>\n",
       "</div>"
      ],
      "text/plain": [
       "        OMRÅDE                         ENHED   KOEN   TID  \\\n",
       "1876  Aabenraa  Amount of income (DKK 1.000)    Men  2004   \n",
       "1877  Aabenraa  Amount of income (DKK 1.000)  Women  2004   \n",
       "1602  Aabenraa  Amount of income (DKK 1.000)    Men  2005   \n",
       "1603  Aabenraa  Amount of income (DKK 1.000)  Women  2005   \n",
       "1421  Aabenraa  Amount of income (DKK 1.000)    Men  2006   \n",
       "\n",
       "                              UDDNIV                         INDKOMSTTYPE  \\\n",
       "1876  65 LONG-CYCLE HIGHER EDUCATION  1 Disposable income (2+30-31-32-35)   \n",
       "1877  65 LONG-CYCLE HIGHER EDUCATION  1 Disposable income (2+30-31-32-35)   \n",
       "1602  65 LONG-CYCLE HIGHER EDUCATION  1 Disposable income (2+30-31-32-35)   \n",
       "1603  65 LONG-CYCLE HIGHER EDUCATION  1 Disposable income (2+30-31-32-35)   \n",
       "1421  65 LONG-CYCLE HIGHER EDUCATION  1 Disposable income (2+30-31-32-35)   \n",
       "\n",
       "      INDHOLD  \n",
       "1876   223232  \n",
       "1877   104081  \n",
       "1602   237525  \n",
       "1603   109505  \n",
       "1421   250321  "
      ]
     },
     "execution_count": 351,
     "metadata": {},
     "output_type": "execute_result"
    }
   ],
   "source": [
    "variables = {'OMRÅDE':['*'],'ENHED':['110'],'KOEN':['M','K'],'TID':['*'],'UDDNIV':['65'],'INDKOMSTTYPE':['100']}\n",
    "inc_api = Dst.get_data(table_id = 'INDKP107', variables=variables)\n",
    "inc_api.sort_values(by=['OMRÅDE', 'TID', 'KOEN'], inplace=True)\n",
    "inc_api.head(5)"
   ]
  },
  {
   "cell_type": "markdown",
   "metadata": {},
   "source": [
    ".. now you have a data set ready for cleaning and renaming."
   ]
  },
  {
   "cell_type": "markdown",
   "metadata": {},
   "source": [
    "## 2.2 FRED (Federal Reserve Economic Data)"
   ]
  },
  {
   "cell_type": "markdown",
   "metadata": {},
   "source": [
    "**GDP data** for the US"
   ]
  },
  {
   "cell_type": "code",
   "execution_count": 352,
   "metadata": {},
   "outputs": [
    {
     "name": "stdout",
     "output_type": "stream",
     "text": [
      "total number of days: 4383\n"
     ]
    }
   ],
   "source": [
    "# Need first to encode dates in a python friendly to specify the length of the desired time period. \n",
    "# Use the datetime module - it is the general way to handle dates in python. \n",
    "start = datetime.datetime(2005,1,1)\n",
    "end = datetime.datetime(2017,1,1)\n",
    "timespan = end - start # We can investigate the precise time span by just subtracting to time variables.\n",
    "print('total number of days:', timespan.days) # The timespan object has a days attribute."
   ]
  },
  {
   "cell_type": "code",
   "execution_count": 353,
   "metadata": {},
   "outputs": [
    {
     "data": {
      "text/html": [
       "<div>\n",
       "<style scoped>\n",
       "    .dataframe tbody tr th:only-of-type {\n",
       "        vertical-align: middle;\n",
       "    }\n",
       "\n",
       "    .dataframe tbody tr th {\n",
       "        vertical-align: top;\n",
       "    }\n",
       "\n",
       "    .dataframe thead th {\n",
       "        text-align: right;\n",
       "    }\n",
       "</style>\n",
       "<table border=\"1\" class=\"dataframe\">\n",
       "  <thead>\n",
       "    <tr style=\"text-align: right;\">\n",
       "      <th></th>\n",
       "      <th>GDP</th>\n",
       "    </tr>\n",
       "    <tr>\n",
       "      <th>DATE</th>\n",
       "      <th></th>\n",
       "    </tr>\n",
       "  </thead>\n",
       "  <tbody>\n",
       "    <tr>\n",
       "      <th>2005-01-01</th>\n",
       "      <td>12761.337</td>\n",
       "    </tr>\n",
       "    <tr>\n",
       "      <th>2005-04-01</th>\n",
       "      <td>12910.022</td>\n",
       "    </tr>\n",
       "    <tr>\n",
       "      <th>2005-07-01</th>\n",
       "      <td>13142.873</td>\n",
       "    </tr>\n",
       "    <tr>\n",
       "      <th>2005-10-01</th>\n",
       "      <td>13332.316</td>\n",
       "    </tr>\n",
       "    <tr>\n",
       "      <th>2006-01-01</th>\n",
       "      <td>13603.933</td>\n",
       "    </tr>\n",
       "    <tr>\n",
       "      <th>2006-04-01</th>\n",
       "      <td>13749.806</td>\n",
       "    </tr>\n",
       "    <tr>\n",
       "      <th>2006-07-01</th>\n",
       "      <td>13867.469</td>\n",
       "    </tr>\n",
       "    <tr>\n",
       "      <th>2006-10-01</th>\n",
       "      <td>14037.228</td>\n",
       "    </tr>\n",
       "    <tr>\n",
       "      <th>2007-01-01</th>\n",
       "      <td>14208.569</td>\n",
       "    </tr>\n",
       "    <tr>\n",
       "      <th>2007-04-01</th>\n",
       "      <td>14382.363</td>\n",
       "    </tr>\n",
       "  </tbody>\n",
       "</table>\n",
       "</div>"
      ],
      "text/plain": [
       "                  GDP\n",
       "DATE                 \n",
       "2005-01-01  12761.337\n",
       "2005-04-01  12910.022\n",
       "2005-07-01  13142.873\n",
       "2005-10-01  13332.316\n",
       "2006-01-01  13603.933\n",
       "2006-04-01  13749.806\n",
       "2006-07-01  13867.469\n",
       "2006-10-01  14037.228\n",
       "2007-01-01  14208.569\n",
       "2007-04-01  14382.363"
      ]
     },
     "execution_count": 353,
     "metadata": {},
     "output_type": "execute_result"
    }
   ],
   "source": [
    "# Call the FRED api using pandas_datareader \n",
    "gdp = pandas_datareader.data.DataReader('GDP', 'fred', start, end)\n",
    "gdp.head(10)"
   ]
  },
  {
   "cell_type": "markdown",
   "metadata": {},
   "source": [
    "**Finding data:**\n",
    "\n",
    "1. go to https://fred.stlouisfed.org \n",
    "2. search for data in main bar, e.g. employment and unemployment\n",
    "3. click the first links\n",
    "4. table name is next to header "
   ]
  },
  {
   "cell_type": "markdown",
   "metadata": {},
   "source": [
    "We now want to pull down data on aggregate employment (PAYEMS) and unemployment (UNEMPLOY) levels and then plot the development. \n",
    "\n",
    "**Pulling the data:**"
   ]
  },
  {
   "cell_type": "code",
   "execution_count": 354,
   "metadata": {},
   "outputs": [],
   "source": [
    "start = datetime.datetime(1939,1,1)\n",
    "end = datetime.datetime(2018,12,1)\n",
    "\n",
    "# We can pull from multiple sources in one go. Just combine them in a list.\n",
    "empl_us = pandas_datareader.data.DataReader(['PAYEMS', 'UNEMPLOY'], 'fred', start, end)"
   ]
  },
  {
   "cell_type": "markdown",
   "metadata": {},
   "source": [
    "**Plot:**"
   ]
  },
  {
   "cell_type": "code",
   "execution_count": 355,
   "metadata": {},
   "outputs": [
    {
     "data": {
      "image/png": "[encoded data removed]",
      "text/plain": [
       "<Figure size 432x288 with 1 Axes>"
      ]
     },
     "metadata": {},
     "output_type": "display_data"
    }
   ],
   "source": [
    "fig = plt.figure()\n",
    "ax = fig.add_subplot(1,1,1)\n",
    "\n",
    "# Now we are just plotting directly from the pandas dataframe. Still using matplotlib under the hood.\n",
    "empl_us.plot(ax=ax)\n",
    "\n",
    "ax.legend(frameon=True)\n",
    "ax.set_xlabel('')\n",
    "ax.set_ylabel('employment (US)');"
   ]
  },
  {
   "cell_type": "markdown",
   "metadata": {},
   "source": [
    "## 2.3 World Bank indicators: `wb`"
   ]
  },
  {
   "cell_type": "markdown",
   "metadata": {},
   "source": [
    "**Finding data:**\n",
    "\n",
    "1. go to https://data.worldbank.org/indicator/\n",
    "2. search for GDP \n",
    "3. variable name (\"NY.GDP.PCAP.KD\") is in the URL"
   ]
  },
  {
   "cell_type": "markdown",
   "metadata": {},
   "source": [
    "**Pull GDP numbers:**"
   ]
  },
  {
   "cell_type": "code",
   "execution_count": 356,
   "metadata": {},
   "outputs": [],
   "source": [
    "# Need a different module than in the FRED case\n",
    "from pandas_datareader import wb"
   ]
  },
  {
   "cell_type": "code",
   "execution_count": 357,
   "metadata": {},
   "outputs": [
    {
     "data": {
      "text/html": [
       "<div>\n",
       "<style scoped>\n",
       "    .dataframe tbody tr th:only-of-type {\n",
       "        vertical-align: middle;\n",
       "    }\n",
       "\n",
       "    .dataframe tbody tr th {\n",
       "        vertical-align: top;\n",
       "    }\n",
       "\n",
       "    .dataframe thead th {\n",
       "        text-align: right;\n",
       "    }\n",
       "</style>\n",
       "<table border=\"1\" class=\"dataframe\">\n",
       "  <thead>\n",
       "    <tr style=\"text-align: right;\">\n",
       "      <th></th>\n",
       "      <th>country</th>\n",
       "      <th>year</th>\n",
       "      <th>GDP</th>\n",
       "    </tr>\n",
       "  </thead>\n",
       "  <tbody>\n",
       "    <tr>\n",
       "      <th>82</th>\n",
       "      <td>Sweden</td>\n",
       "      <td>1991</td>\n",
       "      <td>37099.103892</td>\n",
       "    </tr>\n",
       "    <tr>\n",
       "      <th>12</th>\n",
       "      <td>Denmark</td>\n",
       "      <td>2005</td>\n",
       "      <td>58792.660440</td>\n",
       "    </tr>\n",
       "    <tr>\n",
       "      <th>70</th>\n",
       "      <td>Sweden</td>\n",
       "      <td>2003</td>\n",
       "      <td>47212.708536</td>\n",
       "    </tr>\n",
       "    <tr>\n",
       "      <th>35</th>\n",
       "      <td>Norway</td>\n",
       "      <td>2010</td>\n",
       "      <td>87693.790066</td>\n",
       "    </tr>\n",
       "    <tr>\n",
       "      <th>47</th>\n",
       "      <td>Norway</td>\n",
       "      <td>1998</td>\n",
       "      <td>78597.915838</td>\n",
       "    </tr>\n",
       "  </tbody>\n",
       "</table>\n",
       "</div>"
      ],
      "text/plain": [
       "    country  year           GDP\n",
       "82   Sweden  1991  37099.103892\n",
       "12  Denmark  2005  58792.660440\n",
       "70   Sweden  2003  47212.708536\n",
       "35   Norway  2010  87693.790066\n",
       "47   Norway  1998  78597.915838"
      ]
     },
     "execution_count": 357,
     "metadata": {},
     "output_type": "execute_result"
    }
   ],
   "source": [
    "wb_gdp = wb.download(indicator='NY.GDP.PCAP.KD', country=['SE','DK','NO'], start=1990, end=2017)\n",
    "wb_gdp = wb_gdp.rename(columns = {'NY.GDP.PCAP.KD':'GDP'})\n",
    "wb_gdp = wb_gdp.reset_index()\n",
    "wb_gdp.sample(5)"
   ]
  },
  {
   "cell_type": "code",
   "execution_count": 358,
   "metadata": {},
   "outputs": [
    {
     "name": "stdout",
     "output_type": "stream",
     "text": [
      "<class 'pandas.core.frame.DataFrame'>\n",
      "RangeIndex: 84 entries, 0 to 83\n",
      "Data columns (total 3 columns):\n",
      " #   Column   Non-Null Count  Dtype  \n",
      "---  ------   --------------  -----  \n",
      " 0   country  84 non-null     object \n",
      " 1   year     84 non-null     object \n",
      " 2   GDP      84 non-null     float64\n",
      "dtypes: float64(1), object(2)\n",
      "memory usage: 2.1+ KB\n"
     ]
    }
   ],
   "source": [
    "wb_gdp.info()"
   ]
  },
  {
   "cell_type": "markdown",
   "metadata": {},
   "source": [
    "**Problems:** \n",
    "* It turns out that the dataframe has stored the variable *year* as an \"object\", meaning in practice that it is a string. This must be converted to an int, as we want to use it as a number. \n",
    "* *country* is in fact a text variable, so it is acceptable to have it as an object type. But pandas has implemented a string type on its own. It is called 'string', while the text type of object that you normally encounter is of type 'str'. Yes, confusing!!  But you want to get it right, because an object variable can also contain numbers in addition to text. Which is bad. \n",
    "* Fortunately, GDP is a float (i.e. a number). "
   ]
  },
  {
   "cell_type": "code",
   "execution_count": 359,
   "metadata": {},
   "outputs": [
    {
     "name": "stdout",
     "output_type": "stream",
     "text": [
      "<class 'pandas.core.frame.DataFrame'>\n",
      "RangeIndex: 84 entries, 0 to 83\n",
      "Data columns (total 3 columns):\n",
      " #   Column   Non-Null Count  Dtype  \n",
      "---  ------   --------------  -----  \n",
      " 0   country  84 non-null     string \n",
      " 1   year     84 non-null     int64  \n",
      " 2   GDP      84 non-null     float64\n",
      "dtypes: float64(1), int64(1), string(1)\n",
      "memory usage: 2.1 KB\n"
     ]
    }
   ],
   "source": [
    "wb_gdp.year = wb_gdp.year.astype(int) # convert year\n",
    "wb_gdp.country = wb_gdp.country.astype('string') # convert country to the special pandas string type\n",
    "wb_gdp.info()"
   ]
  },
  {
   "cell_type": "markdown",
   "metadata": {},
   "source": [
    "**Fetch employment-to-population ratio:**"
   ]
  },
  {
   "cell_type": "code",
   "execution_count": 360,
   "metadata": {},
   "outputs": [
    {
     "data": {
      "text/html": [
       "<div>\n",
       "<style scoped>\n",
       "    .dataframe tbody tr th:only-of-type {\n",
       "        vertical-align: middle;\n",
       "    }\n",
       "\n",
       "    .dataframe tbody tr th {\n",
       "        vertical-align: top;\n",
       "    }\n",
       "\n",
       "    .dataframe thead th {\n",
       "        text-align: right;\n",
       "    }\n",
       "</style>\n",
       "<table border=\"1\" class=\"dataframe\">\n",
       "  <thead>\n",
       "    <tr style=\"text-align: right;\">\n",
       "      <th></th>\n",
       "      <th>country</th>\n",
       "      <th>year</th>\n",
       "      <th>employment_to_pop</th>\n",
       "    </tr>\n",
       "  </thead>\n",
       "  <tbody>\n",
       "    <tr>\n",
       "      <th>80</th>\n",
       "      <td>Sweden</td>\n",
       "      <td>1993</td>\n",
       "      <td>57.869999</td>\n",
       "    </tr>\n",
       "    <tr>\n",
       "      <th>59</th>\n",
       "      <td>Sweden</td>\n",
       "      <td>2014</td>\n",
       "      <td>58.889999</td>\n",
       "    </tr>\n",
       "    <tr>\n",
       "      <th>50</th>\n",
       "      <td>Norway</td>\n",
       "      <td>1995</td>\n",
       "      <td>59.139999</td>\n",
       "    </tr>\n",
       "  </tbody>\n",
       "</table>\n",
       "</div>"
      ],
      "text/plain": [
       "   country  year  employment_to_pop\n",
       "80  Sweden  1993          57.869999\n",
       "59  Sweden  2014          58.889999\n",
       "50  Norway  1995          59.139999"
      ]
     },
     "execution_count": 360,
     "metadata": {},
     "output_type": "execute_result"
    }
   ],
   "source": [
    "wb_empl = wb.download(indicator='SL.EMP.TOTL.SP.ZS', country=['SE','DK','NO'], start=1990, end=2017) # don't need the special datetime here.\n",
    "wb_empl.rename(columns = {'SL.EMP.TOTL.SP.ZS':'employment_to_pop'}, inplace=True) # Better col name\n",
    "wb_empl.reset_index(inplace = True)\n",
    "wb_empl.year = wb_empl.year.astype(int)\n",
    "wb_empl.sample(3)"
   ]
  },
  {
   "cell_type": "markdown",
   "metadata": {},
   "source": [
    "**Merge:**"
   ]
  },
  {
   "cell_type": "code",
   "execution_count": 361,
   "metadata": {},
   "outputs": [
    {
     "data": {
      "text/html": [
       "<div>\n",
       "<style scoped>\n",
       "    .dataframe tbody tr th:only-of-type {\n",
       "        vertical-align: middle;\n",
       "    }\n",
       "\n",
       "    .dataframe tbody tr th {\n",
       "        vertical-align: top;\n",
       "    }\n",
       "\n",
       "    .dataframe thead th {\n",
       "        text-align: right;\n",
       "    }\n",
       "</style>\n",
       "<table border=\"1\" class=\"dataframe\">\n",
       "  <thead>\n",
       "    <tr style=\"text-align: right;\">\n",
       "      <th></th>\n",
       "      <th>country</th>\n",
       "      <th>year</th>\n",
       "      <th>GDP</th>\n",
       "      <th>employment_to_pop</th>\n",
       "    </tr>\n",
       "  </thead>\n",
       "  <tbody>\n",
       "    <tr>\n",
       "      <th>0</th>\n",
       "      <td>Denmark</td>\n",
       "      <td>2017</td>\n",
       "      <td>63215.998067</td>\n",
       "      <td>57.900002</td>\n",
       "    </tr>\n",
       "    <tr>\n",
       "      <th>1</th>\n",
       "      <td>Denmark</td>\n",
       "      <td>2016</td>\n",
       "      <td>61877.976479</td>\n",
       "      <td>57.720001</td>\n",
       "    </tr>\n",
       "    <tr>\n",
       "      <th>2</th>\n",
       "      <td>Denmark</td>\n",
       "      <td>2015</td>\n",
       "      <td>60402.129644</td>\n",
       "      <td>57.279999</td>\n",
       "    </tr>\n",
       "    <tr>\n",
       "      <th>3</th>\n",
       "      <td>Denmark</td>\n",
       "      <td>2014</td>\n",
       "      <td>59437.947318</td>\n",
       "      <td>56.919998</td>\n",
       "    </tr>\n",
       "    <tr>\n",
       "      <th>4</th>\n",
       "      <td>Denmark</td>\n",
       "      <td>2013</td>\n",
       "      <td>58788.084162</td>\n",
       "      <td>56.830002</td>\n",
       "    </tr>\n",
       "  </tbody>\n",
       "</table>\n",
       "</div>"
      ],
      "text/plain": [
       "   country  year           GDP  employment_to_pop\n",
       "0  Denmark  2017  63215.998067          57.900002\n",
       "1  Denmark  2016  61877.976479          57.720001\n",
       "2  Denmark  2015  60402.129644          57.279999\n",
       "3  Denmark  2014  59437.947318          56.919998\n",
       "4  Denmark  2013  58788.084162          56.830002"
      ]
     },
     "execution_count": 361,
     "metadata": {},
     "output_type": "execute_result"
    }
   ],
   "source": [
    "wb = pd.merge(wb_gdp, wb_empl, how = 'outer', on = ['country','year']);\n",
    "wb.head(5)"
   ]
  },
  {
   "cell_type": "markdown",
   "metadata": {},
   "source": [
    "<a id=\"Split-apply-combine\"></a>\n",
    "\n",
    "# 3. Split-apply-combine"
   ]
  },
  {
   "cell_type": "markdown",
   "metadata": {},
   "source": [
    "One of the most useful skills to learn is **the split-apply-combine process**. For example, we may want to compute the average employment rate within a municipality over time and calculate whether the employment rate in each year is above or below the average. We calculate this variable using a split-apply-combine procedure: \n",
    "\n",
    "1. **split**: divide the dataset into units (one for each municipality)\n",
    "2. **apply**: compute the average employment rate for each unit\n",
    "3. **combine**: merge this new variable back onto the original dataset"
   ]
  },
  {
   "cell_type": "markdown",
   "metadata": {},
   "source": [
    "## 3.1 Groupby"
   ]
  },
  {
   "cell_type": "markdown",
   "metadata": {},
   "source": [
    "**Example data:**"
   ]
  },
  {
   "cell_type": "code",
   "execution_count": 362,
   "metadata": {},
   "outputs": [
    {
     "data": {
      "text/html": [
       "<div>\n",
       "<style scoped>\n",
       "    .dataframe tbody tr th:only-of-type {\n",
       "        vertical-align: middle;\n",
       "    }\n",
       "\n",
       "    .dataframe tbody tr th {\n",
       "        vertical-align: top;\n",
       "    }\n",
       "\n",
       "    .dataframe thead th {\n",
       "        text-align: right;\n",
       "    }\n",
       "</style>\n",
       "<table border=\"1\" class=\"dataframe\">\n",
       "  <thead>\n",
       "    <tr style=\"text-align: right;\">\n",
       "      <th></th>\n",
       "      <th>municipality</th>\n",
       "      <th>year</th>\n",
       "      <th>e</th>\n",
       "    </tr>\n",
       "  </thead>\n",
       "  <tbody>\n",
       "    <tr>\n",
       "      <th>68</th>\n",
       "      <td>Aabenraa</td>\n",
       "      <td>2008</td>\n",
       "      <td>74.6</td>\n",
       "    </tr>\n",
       "    <tr>\n",
       "      <th>167</th>\n",
       "      <td>Aabenraa</td>\n",
       "      <td>2009</td>\n",
       "      <td>71.6</td>\n",
       "    </tr>\n",
       "    <tr>\n",
       "      <th>266</th>\n",
       "      <td>Aabenraa</td>\n",
       "      <td>2010</td>\n",
       "      <td>70.9</td>\n",
       "    </tr>\n",
       "    <tr>\n",
       "      <th>365</th>\n",
       "      <td>Aabenraa</td>\n",
       "      <td>2011</td>\n",
       "      <td>70.2</td>\n",
       "    </tr>\n",
       "    <tr>\n",
       "      <th>464</th>\n",
       "      <td>Aabenraa</td>\n",
       "      <td>2012</td>\n",
       "      <td>69.5</td>\n",
       "    </tr>\n",
       "  </tbody>\n",
       "</table>\n",
       "</div>"
      ],
      "text/plain": [
       "    municipality  year     e\n",
       "68      Aabenraa  2008  74.6\n",
       "167     Aabenraa  2009  71.6\n",
       "266     Aabenraa  2010  70.9\n",
       "365     Aabenraa  2011  70.2\n",
       "464     Aabenraa  2012  69.5"
      ]
     },
     "execution_count": 362,
     "metadata": {},
     "output_type": "execute_result"
    }
   ],
   "source": [
    "empl = empl.sort_values(['municipality','year']) # sort by first municipality then year\n",
    "empl.head(5)"
   ]
  },
  {
   "cell_type": "markdown",
   "metadata": {},
   "source": [
    "Use **groupby** to calculate **within means**:"
   ]
  },
  {
   "cell_type": "code",
   "execution_count": 363,
   "metadata": {},
   "outputs": [
    {
     "data": {
      "text/plain": [
       "municipality\n",
       "Aabenraa       71.19\n",
       "Aalborg        69.46\n",
       "Aarhus         68.96\n",
       "Albertslund    68.58\n",
       "Allerød        81.37\n",
       "Name: e, dtype: float64"
      ]
     },
     "execution_count": 363,
     "metadata": {},
     "output_type": "execute_result"
    }
   ],
   "source": [
    "empl.groupby(['municipality'])['e'].mean().head(5)"
   ]
  },
  {
   "cell_type": "markdown",
   "metadata": {},
   "source": [
    "**Custom functions** the apply part can be specified by using the `lambda` notation. \n",
    "\n",
    "**Warning:** `lambda` implementations will often be a pretty slow alternative to *vectorized* operations. More on that later. \n",
    "\n",
    "An example with average change:"
   ]
  },
  {
   "cell_type": "code",
   "execution_count": 364,
   "metadata": {},
   "outputs": [
    {
     "data": {
      "text/plain": [
       "municipality\n",
       "Aabenraa      -0.188889\n",
       "Aalborg       -0.366667\n",
       "Aarhus        -0.300000\n",
       "Albertslund   -0.322222\n",
       "Allerød       -0.177778\n",
       "Name: e, dtype: float64"
      ]
     },
     "execution_count": 364,
     "metadata": {},
     "output_type": "execute_result"
    }
   ],
   "source": [
    "# Define a lambda function to applied down rows of a column in blocks defined by the groupby. \n",
    "avg_first_diff = lambda x: x.diff(1).mean() # A pd.Series has a function diff that does the job.\n",
    "\n",
    "# Apply the lambda and print head of output\n",
    "empl.groupby('municipality')['e'].apply(avg_first_diff).head(5)"
   ]
  },
  {
   "cell_type": "markdown",
   "metadata": {},
   "source": [
    "Or:"
   ]
  },
  {
   "cell_type": "code",
   "execution_count": 365,
   "metadata": {},
   "outputs": [
    {
     "data": {
      "text/plain": [
       "municipality\n",
       "Aabenraa      -0.188889\n",
       "Aalborg       -0.366667\n",
       "Aarhus        -0.300000\n",
       "Albertslund   -0.322222\n",
       "Allerød       -0.177778\n",
       "Name: e, dtype: float64"
      ]
     },
     "execution_count": 365,
     "metadata": {},
     "output_type": "execute_result"
    }
   ],
   "source": [
    "# We can also define our lambda with a numpy implementation. \n",
    "avg_first_diff = lambda x: np.mean(x[1:]-x[:-1])\n",
    "\n",
    "# Need the extra lambda function to retrieve values (aka a numpy array) of e for the avg_first_diff.\n",
    "empl.groupby('municipality')['e'].apply(lambda x: avg_first_diff(x.values)).head(5) "
   ]
  },
  {
   "cell_type": "markdown",
   "metadata": {},
   "source": [
    "**Plot statistics**: Dispersion in employment rate across Danish municipalities over time."
   ]
  },
  {
   "cell_type": "code",
   "execution_count": 366,
   "metadata": {},
   "outputs": [
    {
     "data": {
      "image/png": "[encoded data removed]",
      "text/plain": [
       "<Figure size 432x288 with 1 Axes>"
      ]
     },
     "metadata": {},
     "output_type": "display_data"
    }
   ],
   "source": [
    "fig = plt.figure()\n",
    "ax = fig.add_subplot(1,1,1)\n",
    "\n",
    "empl.groupby('year')['e'].std().plot(ax=ax,style='-o')\n",
    "\n",
    "ax.set_ylabel('std. dev.')\n",
    "ax.set_title('std. dev. across municipalities in the employment rate');"
   ]
  },
  {
   "cell_type": "markdown",
   "metadata": {},
   "source": [
    "## 3.2 Split-Apply-Combine"
   ]
  },
  {
   "cell_type": "markdown",
   "metadata": {},
   "source": [
    "**Goal:** Calculate within municipality difference to mean employment rate."
   ]
  },
  {
   "cell_type": "markdown",
   "metadata": {},
   "source": [
    "**Start** by splitting, applying and combining **manually:**"
   ]
  },
  {
   "cell_type": "markdown",
   "metadata": {},
   "source": [
    "**1. Split**:"
   ]
  },
  {
   "cell_type": "code",
   "execution_count": 374,
   "metadata": {},
   "outputs": [
    {
     "name": "stdout",
     "output_type": "stream",
     "text": [
      "<pandas.core.groupby.generic.SeriesGroupBy object at 0x7fa3aa147a60>\n"
     ]
    }
   ],
   "source": [
    "e_grouped = empl.groupby('municipality')['e']\n",
    "\n",
    "# The e_grouped object is not ready for inspection\n",
    "print(e_grouped)"
   ]
  },
  {
   "cell_type": "markdown",
   "metadata": {},
   "source": [
    "**2. Apply:**"
   ]
  },
  {
   "cell_type": "code",
   "execution_count": 372,
   "metadata": {},
   "outputs": [
    {
     "data": {
      "text/plain": [
       "municipality\n",
       "Aabenraa       71.19\n",
       "Aalborg        69.46\n",
       "Aarhus         68.96\n",
       "Albertslund    68.58\n",
       "Allerød        81.37\n",
       "Assens         72.03\n",
       "Ballerup       72.78\n",
       "Billund        76.53\n",
       "Bornholm       67.32\n",
       "Brøndby        68.71\n",
       "Name: e, dtype: float64"
      ]
     },
     "execution_count": 372,
     "metadata": {},
     "output_type": "execute_result"
    }
   ],
   "source": [
    "e_mean = e_grouped.mean() # mean employment rate\n",
    "e_mean.head(10)"
   ]
  },
  {
   "cell_type": "markdown",
   "metadata": {},
   "source": [
    "Change name of series:"
   ]
  },
  {
   "cell_type": "code",
   "execution_count": null,
   "metadata": {},
   "outputs": [],
   "source": [
    "e_mean.name = 'e_mean' # necessary for join"
   ]
  },
  {
   "cell_type": "markdown",
   "metadata": {},
   "source": [
    "**3. Combine:**"
   ]
  },
  {
   "cell_type": "code",
   "execution_count": null,
   "metadata": {},
   "outputs": [],
   "source": [
    "empl_ = empl.set_index('municipality').join(e_mean, how='left')\n",
    "empl_['e_demean'] = empl_.e - empl_.e_mean\n",
    "empl_.xs('Copenhagen')"
   ]
  },
  {
   "cell_type": "markdown",
   "metadata": {},
   "source": [
    "**Plot:**"
   ]
  },
  {
   "cell_type": "code",
   "execution_count": 47,
   "metadata": {},
   "outputs": [
    {
     "data": {
      "text/plain": [
       "Text(0, 0.5, 'difference to mean')"
      ]
     },
     "execution_count": 47,
     "metadata": {},
     "output_type": "execute_result"
    },
    {
     "data": {
      "image/png": "[encoded data removed]",
      "text/plain": [
       "<Figure size 432x288 with 1 Axes>"
      ]
     },
     "metadata": {},
     "output_type": "display_data"
    }
   ],
   "source": [
    "municipalities = ['Copenhagen','Roskilde','Lejre']\n",
    "\n",
    "fig = plt.figure()\n",
    "ax = fig.add_subplot(1,1,1)\n",
    "\n",
    "# Here we use the fact that the index has multiple levels (years) for an elegant loop\n",
    "for m in municipalities:\n",
    "    empl_.xs(m).plot(x='year',y='diff',ax=ax,label=m)\n",
    "\n",
    "ax.legend(frameon=True)\n",
    "ax.set_ylabel('difference to mean')"
   ]
  },
  {
   "cell_type": "markdown",
   "metadata": {},
   "source": [
    "### Do the splitting and applying in one fell swoop"
   ]
  },
  {
   "cell_type": "markdown",
   "metadata": {},
   "source": [
    "### with `agg()`"
   ]
  },
  {
   "cell_type": "markdown",
   "metadata": {},
   "source": [
    "**Agg:** The same value for all observations in a group.  \n",
    "We can use **lambdas** or **built-in** functions for the operation. ***Use built-in whenever you can!*** Here we use lambda for exposition. "
   ]
  },
  {
   "cell_type": "code",
   "execution_count": 368,
   "metadata": {},
   "outputs": [
    {
     "data": {
      "text/html": [
       "<div>\n",
       "<style scoped>\n",
       "    .dataframe tbody tr th:only-of-type {\n",
       "        vertical-align: middle;\n",
       "    }\n",
       "\n",
       "    .dataframe tbody tr th {\n",
       "        vertical-align: top;\n",
       "    }\n",
       "\n",
       "    .dataframe thead th {\n",
       "        text-align: right;\n",
       "    }\n",
       "</style>\n",
       "<table border=\"1\" class=\"dataframe\">\n",
       "  <thead>\n",
       "    <tr style=\"text-align: right;\">\n",
       "      <th></th>\n",
       "      <th>year</th>\n",
       "      <th>e</th>\n",
       "      <th>e_mean</th>\n",
       "      <th>diff</th>\n",
       "    </tr>\n",
       "    <tr>\n",
       "      <th>municipality</th>\n",
       "      <th></th>\n",
       "      <th></th>\n",
       "      <th></th>\n",
       "      <th></th>\n",
       "    </tr>\n",
       "  </thead>\n",
       "  <tbody>\n",
       "    <tr>\n",
       "      <th>Copenhagen</th>\n",
       "      <td>2008</td>\n",
       "      <td>72.5</td>\n",
       "      <td>70.54</td>\n",
       "      <td>1.96</td>\n",
       "    </tr>\n",
       "    <tr>\n",
       "      <th>Copenhagen</th>\n",
       "      <td>2009</td>\n",
       "      <td>70.0</td>\n",
       "      <td>70.54</td>\n",
       "      <td>-0.54</td>\n",
       "    </tr>\n",
       "    <tr>\n",
       "      <th>Copenhagen</th>\n",
       "      <td>2010</td>\n",
       "      <td>69.7</td>\n",
       "      <td>70.54</td>\n",
       "      <td>-0.84</td>\n",
       "    </tr>\n",
       "    <tr>\n",
       "      <th>Copenhagen</th>\n",
       "      <td>2011</td>\n",
       "      <td>69.6</td>\n",
       "      <td>70.54</td>\n",
       "      <td>-0.94</td>\n",
       "    </tr>\n",
       "    <tr>\n",
       "      <th>Copenhagen</th>\n",
       "      <td>2012</td>\n",
       "      <td>69.4</td>\n",
       "      <td>70.54</td>\n",
       "      <td>-1.14</td>\n",
       "    </tr>\n",
       "    <tr>\n",
       "      <th>Copenhagen</th>\n",
       "      <td>2013</td>\n",
       "      <td>69.7</td>\n",
       "      <td>70.54</td>\n",
       "      <td>-0.84</td>\n",
       "    </tr>\n",
       "    <tr>\n",
       "      <th>Copenhagen</th>\n",
       "      <td>2014</td>\n",
       "      <td>70.0</td>\n",
       "      <td>70.54</td>\n",
       "      <td>-0.54</td>\n",
       "    </tr>\n",
       "    <tr>\n",
       "      <th>Copenhagen</th>\n",
       "      <td>2015</td>\n",
       "      <td>70.8</td>\n",
       "      <td>70.54</td>\n",
       "      <td>0.26</td>\n",
       "    </tr>\n",
       "    <tr>\n",
       "      <th>Copenhagen</th>\n",
       "      <td>2016</td>\n",
       "      <td>71.5</td>\n",
       "      <td>70.54</td>\n",
       "      <td>0.96</td>\n",
       "    </tr>\n",
       "    <tr>\n",
       "      <th>Copenhagen</th>\n",
       "      <td>2017</td>\n",
       "      <td>72.2</td>\n",
       "      <td>70.54</td>\n",
       "      <td>1.66</td>\n",
       "    </tr>\n",
       "  </tbody>\n",
       "</table>\n",
       "</div>"
      ],
      "text/plain": [
       "              year     e  e_mean  diff\n",
       "municipality                          \n",
       "Copenhagen    2008  72.5   70.54  1.96\n",
       "Copenhagen    2009  70.0   70.54 -0.54\n",
       "Copenhagen    2010  69.7   70.54 -0.84\n",
       "Copenhagen    2011  69.6   70.54 -0.94\n",
       "Copenhagen    2012  69.4   70.54 -1.14\n",
       "Copenhagen    2013  69.7   70.54 -0.84\n",
       "Copenhagen    2014  70.0   70.54 -0.54\n",
       "Copenhagen    2015  70.8   70.54  0.26\n",
       "Copenhagen    2016  71.5   70.54  0.96\n",
       "Copenhagen    2017  72.2   70.54  1.66"
      ]
     },
     "execution_count": 368,
     "metadata": {},
     "output_type": "execute_result"
    }
   ],
   "source": [
    "empl_ = empl.copy()\n",
    "\n",
    "# a. split-apply\n",
    "e_mean = empl_.groupby('municipality')['e'].agg(lambda x: x.mean())\n",
    "\n",
    "# Alternatively: use built-in function.\n",
    "# e_mean = empl_.groupby('municipality')['e'].agg('mean')\n",
    "\n",
    "e_mean.name = 'e_mean'\n",
    "\n",
    "# b. combine\n",
    "empl_ = empl_.set_index('municipality').join(e_mean, how='left')\n",
    "empl_['diff'] = empl_.e - empl_.e_mean\n",
    "empl_.xs('Copenhagen')"
   ]
  },
  {
   "cell_type": "markdown",
   "metadata": {},
   "source": [
    "**Note:** Same result!!"
   ]
  },
  {
   "cell_type": "markdown",
   "metadata": {},
   "source": [
    "**Question** Are there any dangers with the variable name 'diff'?"
   ]
  },
  {
   "cell_type": "markdown",
   "metadata": {},
   "source": [
    "This is pretty cumbersome though. Creating a new variable and then merging in separate step - we can do better with the tools in Pandas."
   ]
  },
  {
   "cell_type": "markdown",
   "metadata": {},
   "source": [
    "### Splitting, applying and combining all together\n",
    "### with - `transform()` and `apply()` directly"
   ]
  },
  {
   "cell_type": "markdown",
   "metadata": {},
   "source": [
    "**Transform:** In case you are dealing with multiple variables, transform will work on one variable/column at a time. In the case below, had we selected both *e* and *year* rather than just *e*, x.mean() would only have been applied to observations within one column at a time (as intended, of course, but different from `apply()`)"
   ]
  },
  {
   "cell_type": "code",
   "execution_count": 302,
   "metadata": {},
   "outputs": [
    {
     "data": {
      "text/html": [
       "<div>\n",
       "<style scoped>\n",
       "    .dataframe tbody tr th:only-of-type {\n",
       "        vertical-align: middle;\n",
       "    }\n",
       "\n",
       "    .dataframe tbody tr th {\n",
       "        vertical-align: top;\n",
       "    }\n",
       "\n",
       "    .dataframe thead th {\n",
       "        text-align: right;\n",
       "    }\n",
       "</style>\n",
       "<table border=\"1\" class=\"dataframe\">\n",
       "  <thead>\n",
       "    <tr style=\"text-align: right;\">\n",
       "      <th></th>\n",
       "      <th>year</th>\n",
       "      <th>e</th>\n",
       "      <th>e_demean</th>\n",
       "    </tr>\n",
       "    <tr>\n",
       "      <th>municipality</th>\n",
       "      <th></th>\n",
       "      <th></th>\n",
       "      <th></th>\n",
       "    </tr>\n",
       "  </thead>\n",
       "  <tbody>\n",
       "    <tr>\n",
       "      <th>Copenhagen</th>\n",
       "      <td>2008</td>\n",
       "      <td>72.5</td>\n",
       "      <td>1.96</td>\n",
       "    </tr>\n",
       "    <tr>\n",
       "      <th>Copenhagen</th>\n",
       "      <td>2009</td>\n",
       "      <td>70.0</td>\n",
       "      <td>-0.54</td>\n",
       "    </tr>\n",
       "    <tr>\n",
       "      <th>Copenhagen</th>\n",
       "      <td>2010</td>\n",
       "      <td>69.7</td>\n",
       "      <td>-0.84</td>\n",
       "    </tr>\n",
       "    <tr>\n",
       "      <th>Copenhagen</th>\n",
       "      <td>2011</td>\n",
       "      <td>69.6</td>\n",
       "      <td>-0.94</td>\n",
       "    </tr>\n",
       "    <tr>\n",
       "      <th>Copenhagen</th>\n",
       "      <td>2012</td>\n",
       "      <td>69.4</td>\n",
       "      <td>-1.14</td>\n",
       "    </tr>\n",
       "    <tr>\n",
       "      <th>Copenhagen</th>\n",
       "      <td>2013</td>\n",
       "      <td>69.7</td>\n",
       "      <td>-0.84</td>\n",
       "    </tr>\n",
       "    <tr>\n",
       "      <th>Copenhagen</th>\n",
       "      <td>2014</td>\n",
       "      <td>70.0</td>\n",
       "      <td>-0.54</td>\n",
       "    </tr>\n",
       "    <tr>\n",
       "      <th>Copenhagen</th>\n",
       "      <td>2015</td>\n",
       "      <td>70.8</td>\n",
       "      <td>0.26</td>\n",
       "    </tr>\n",
       "    <tr>\n",
       "      <th>Copenhagen</th>\n",
       "      <td>2016</td>\n",
       "      <td>71.5</td>\n",
       "      <td>0.96</td>\n",
       "    </tr>\n",
       "    <tr>\n",
       "      <th>Copenhagen</th>\n",
       "      <td>2017</td>\n",
       "      <td>72.2</td>\n",
       "      <td>1.66</td>\n",
       "    </tr>\n",
       "  </tbody>\n",
       "</table>\n",
       "</div>"
      ],
      "text/plain": [
       "              year     e  e_demean\n",
       "municipality                      \n",
       "Copenhagen    2008  72.5      1.96\n",
       "Copenhagen    2009  70.0     -0.54\n",
       "Copenhagen    2010  69.7     -0.84\n",
       "Copenhagen    2011  69.6     -0.94\n",
       "Copenhagen    2012  69.4     -1.14\n",
       "Copenhagen    2013  69.7     -0.84\n",
       "Copenhagen    2014  70.0     -0.54\n",
       "Copenhagen    2015  70.8      0.26\n",
       "Copenhagen    2016  71.5      0.96\n",
       "Copenhagen    2017  72.2      1.66"
      ]
     },
     "execution_count": 302,
     "metadata": {},
     "output_type": "execute_result"
    }
   ],
   "source": [
    "empl_ = empl.copy()\n",
    "empl_['e_demean'] = empl_.groupby('municipality')['e'].transform(lambda x: x - x.mean())\n",
    "empl_.set_index('municipality').xs('Copenhagen')"
   ]
  },
  {
   "cell_type": "markdown",
   "metadata": {},
   "source": [
    "## 3.3 Optimizing performance\n",
    "\n",
    "It is quite important for your own and other's productivity to implement effecient procedures when dealing with large datasets. The **apply** method (as well as the transform) essentially **loops over** the rows of a column when applying a **lambda** function. This may be much **slower** than needed if you for example end up calculating averages over the whole column or group many, many times (one per row) as in the case below. Using pandas functions **without lambdas** gets it right. Important to avoid such behavior with large data sets. "
   ]
  },
  {
   "cell_type": "code",
   "execution_count": 319,
   "metadata": {},
   "outputs": [
    {
     "name": "stdout",
     "output_type": "stream",
     "text": [
      "Performance with lambda function  5.867\n",
      "Performance with pandas vectorized:  0.225\n",
      "Check of consistency:  True\n"
     ]
    }
   ],
   "source": [
    "import time\n",
    "N = 300\n",
    "\n",
    "# a. Check performance with lambda function. Sooo slooow.. \n",
    "demean = lambda x: x - x.mean()\n",
    "tic = time.perf_counter()\n",
    "for i in range(N):\n",
    "    d1 = empl.groupby('municipality')['e'].apply(demean)\n",
    "toc = time.perf_counter()\n",
    "print(f'Performance with lambda function {toc-tic: 5.3f}')\n",
    "\n",
    "# b. Performance when relying on built-in pandas methods. It is not because we're using transform per se. \n",
    "# It's much faster, because mean is not calculated for each row in data and we're in Cython. \n",
    "tic = time.perf_counter()\n",
    "for i in range(N):\n",
    "    d2 = empl.e - empl.groupby('municipality')['e'].transform('mean') # Demean by subtracting grouped mean from e column.    \n",
    "toc = time.perf_counter()\n",
    "print(f'Performance with pandas vectorized: {toc-tic: 5.3f}')\n",
    "\n",
    "print('Check of consistency: ', np.all(d1==d2))"
   ]
  },
  {
   "cell_type": "markdown",
   "metadata": {},
   "source": [
    "We can also see that an explicit numpy implementation is faster than relying on pandas methods. The example with first differencing from above."
   ]
  },
  {
   "cell_type": "code",
   "execution_count": 297,
   "metadata": {},
   "outputs": [
    {
     "name": "stdout",
     "output_type": "stream",
     "text": [
      "Performance with pandas:  4.396661\n",
      "Performance with numpy:  1.097140\n",
      "Is d1 == d2: True\n"
     ]
    }
   ],
   "source": [
    "# a. The pandas series implementation\n",
    "avg_first_diff = lambda x: x.diff(1).mean()\n",
    "tic = time.perf_counter()\n",
    "for i in range(N):\n",
    "    d1 = empl.groupby('municipality')['e'].apply(avg_first_diff)\n",
    "toc = time.perf_counter()\n",
    "print(f'Performance with pandas: {toc-tic: 3.6f}')\n",
    "\n",
    "# b. The Numpy implementation\n",
    "avg_first_diff = lambda x: np.mean(x.values[1:]-x.values[:-1])\n",
    "tic = time.perf_counter()\n",
    "for i in range(N):\n",
    "    d2 = empl.groupby('municipality')['e'].apply(avg_first_diff)\n",
    "toc = time.perf_counter()\n",
    "print(f'Performance with numpy: {toc-tic: 3.6f}')\n",
    "print('Is d1 == d2:', np.all(d1==d2))"
   ]
  },
  {
   "cell_type": "markdown",
   "metadata": {},
   "source": [
    "**Note:** Same result!!"
   ]
  },
  {
   "cell_type": "markdown",
   "metadata": {},
   "source": [
    "### Need more complex group by stuff? "
   ]
  },
  {
   "cell_type": "markdown",
   "metadata": {},
   "source": [
    "Look [here](https://pandas.pydata.org/pandas-docs/stable/user_guide/groupby.html)."
   ]
  },
  {
   "cell_type": "markdown",
   "metadata": {},
   "source": [
    "### Additional links\n",
    "* Do you have **missing values** in data? Check [here](https://pandas.pydata.org/pandas-docs/stable/user_guide/missing_data.html)\n",
    "* About strings and the `object`type in pandas, [here](https://towardsdatascience.com/why-we-need-to-use-pandas-new-string-dtype-instead-of-object-for-textual-data-6fd419842e24).\n",
    "* Comparison of SQL statements and pandas group by [here](https://realpython.com/pandas-groupby/)\n",
    "* Optimizing pandas routines incl. `apply`, [here](https://realpython.com/fast-flexible-pandas/#pandas-apply). (*less technical*)\n",
    "* Stackoverflow [musings](https://stackoverflow.com/questions/54432583/when-should-i-not-want-to-use-pandas-apply-in-my-code?noredirect=1&lq=1) on optimal use of apply( ) and it's downsides. See also [this](https://stackoverflow.com/questions/38938318/why-apply-sometimes-isnt-faster-than-for-loop-in-pandas-dataframe). (*both pretty technical*)\n",
    "* About optimizing pandas with numpy and vectorization, [here](https://devopedia.org/optimizing-pandas)."
   ]
  },
  {
   "cell_type": "markdown",
   "metadata": {},
   "source": [
    "<a id=\"A-few-examples-of-open-access-APIs\"></a>\n",
    "\n",
    "# 4. A few examples of open access APIs\n",
    "\n",
    "As already demonstrated, you can pull data from DST using their API. Just to give a few examples of where else you may find open access to data by API: \n",
    "* Check out the [documentation for pandas_datareader](https://pandas-datareader.readthedocs.io/en/latest/remote_data.html). There is a bunch of economic data banks to access through that. \n",
    "* There is an API for [covid-19 data](https://pypi.org/project/covid19-data/) that draws on several sources. \n",
    "* The National Museum of Art (DK) gives access to their collection [by an API](https://www.smk.dk/article/smk-api/). \n",
    "* NASA has its own API. [Look here](https://api.nasa.gov/) for their documentation and [here](https://pypi.org/project/python-nasa-api/) for a Python wrapper. "
   ]
  },
  {
   "cell_type": "markdown",
   "metadata": {},
   "source": [
    "<a id=\"All-built-in-functions-to-aggregate-data-in-Pandas\"></a>\n",
    "\n",
    "# 5. All built-in functions to aggregate data in Pandas\n",
    "\n",
    "You can use the functions in `apply()`, `transform()` and `agg()` by writing them out in a string. See above. Will normally be the fastest implementation. \n",
    "\n",
    "***Function***\t *Description*\n",
    "\n",
    "\n",
    "* **count:**\t Number of non-null observations\n",
    "* **sum:**\t Sum of values\n",
    "* **mean:**\t Mean of values\n",
    "* **mad:**\t Mean absolute deviation\n",
    "* **min:**\t Minimum\n",
    "* **max:**\t Maximum\n",
    "* **mode:**\t Mode\n",
    "* **abs:**\t Absolute Value\n",
    "* **prod:**\t Product of values\n",
    "* **std:**\t Unbiased standard deviation\n",
    "* **var:**\t Unbiased variance\n",
    "* **sem:**\t Unbiased standard error of the mean\n",
    "* **skew:**\t Unbiased skewness (3rd moment)\n",
    "* **kurt:**\t Unbiased kurtosis (4th moment)\n",
    "* **quantile:**\t Sample quantile (value at %)\n",
    "* **cumsum:**\t Cumulative sum\n",
    "* **cumprod:**\t Cumulative product\n",
    "* **cummax:**\t Cumulative maximum\n",
    "* **cummin:**\t Cumulative minimum"
   ]
  },
  {
   "cell_type": "markdown",
   "metadata": {},
   "source": [
    "<a id=\"Summary\"></a>\n",
    "\n",
    "# 6. Summary"
   ]
  },
  {
   "cell_type": "markdown",
   "metadata": {},
   "source": [
    "**This lecture:** We have discussed\n",
    "\n",
    "1. Combining datasets (**merging** and concatenating)\n",
    "2. Fatching data using an **API** (DST, FRED, World Bank, etc.)\n",
    "3. **Split-apply-combine** (groupby, agg, transform)"
   ]
  },
  {
   "cell_type": "markdown",
   "metadata": {},
   "source": [
    "**Your work:** Before solving Problem Set 4 read through this notebook and play around with the code.\n",
    "\n",
    "**Project 1:** See the details in the projects folder of Lectures2021 or *Project 1: Data analysis* [here](https://numeconcopenhagen.netlify.com/exercises/).<br>\n",
    "**Deadline:** 11th of April."
   ]
  },
  {
   "cell_type": "markdown",
   "metadata": {},
   "source": [
    "**Next lecture:** Algorithms: Searching and sorting algorithms.  \n",
    "Remember **no lecture** Monday 5th of April! (it's a holiday)"
   ]
  }
 ],
 "metadata": {
  "kernelspec": {
   "display_name": "Python 3",
   "language": "python",
   "name": "python3"
  },
  "language_info": {
   "codemirror_mode": {
    "name": "ipython",
    "version": 3
   },
   "file_extension": ".py",
   "mimetype": "text/x-python",
   "name": "python",
   "nbconvert_exporter": "python",
   "pygments_lexer": "ipython3",
   "version": "3.8.5"
  },
  "toc-autonumbering": false,
  "toc-showmarkdowntxt": false
 },
 "nbformat": 4,
 "nbformat_minor": 4
}
