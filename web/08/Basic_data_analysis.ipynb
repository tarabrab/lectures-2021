{
 "cells": [
  {
   "cell_type": "markdown",
   "metadata": {},
   "source": [
    "# Lecture 08: Basic data analysis"
   ]
  },
  {
   "cell_type": "markdown",
   "id": "uniform-howard",
   "metadata": {},
   "source": [
    "[Download on GitHub](https://github.com/NumEconCopenhagen/lectures-2021)\n",
    "\n",
    "[<img src=\"https://mybinder.org/badge_logo.svg\">](https://mybinder.org/v2/gh/NumEconCopenhagen/lectures-2021/master?urlpath=lab/tree/08/Basic_data_analysis.ipynb)"
   ]
  },
  {
   "cell_type": "markdown",
   "id": "social-ukraine",
   "metadata": {},
   "source": [
    "1. [Combining datasets (merging and concatenating)](#Combining-datasets-(merging-and-concatenating))\n",
    "2. [Fetching data using an API](#Fetching-data-using-an-API)\n",
    "3. [Split-apply-combine](#Split-apply-combine)\n",
    "4. [A few examples of open access APIs](#A-few-examples-of-open-access-APIs)\n",
    "5. [Summary](#Summary)\n"
   ]
  },
  {
   "cell_type": "markdown",
   "metadata": {},
   "source": [
    "You may need to install the DST api-data reader, the pandas_datareader and the matplotlib_venn module. Uncomment the following cells and run to install.  \n",
    "The ! in front of each command indicates that this is a system command that may as well have been executed in the terminal/command prompt of your computer. "
   ]
  },
  {
   "cell_type": "code",
   "execution_count": 6,
   "metadata": {},
   "outputs": [],
   "source": [
    "#!pip install git+https://github.com/elben10/pydst"
   ]
  },
  {
   "cell_type": "code",
   "execution_count": 8,
   "metadata": {},
   "outputs": [],
   "source": [
    "#!pip install pandas-datareader"
   ]
  },
  {
   "cell_type": "code",
   "execution_count": 10,
   "metadata": {},
   "outputs": [],
   "source": [
    "#!pip install matplotlib-venn"
   ]
  },
  {
   "cell_type": "code",
   "execution_count": 11,
   "metadata": {},
   "outputs": [],
   "source": [
    "import numpy as np\n",
    "import pandas as pd\n",
    "import datetime\n",
    "\n",
    "import pandas_datareader # install with `pip install pandas-datareader`\n",
    "import pydst # install with `pip install git+https://github.com/elben10/pydst`\n",
    "\n",
    "import matplotlib.pyplot as plt\n",
    "plt.style.use('seaborn-whitegrid')\n",
    "from matplotlib_venn import venn2 # `pip install matplotlib-venn`"
   ]
  },
  {
   "cell_type": "markdown",
   "metadata": {},
   "source": [
    "<a id=\"Combining-datasets-(merging-and-concatenating)\"></a>\n",
    "\n",
    "# 1. Combining datasets (merging and concatenating)"
   ]
  },
  {
   "cell_type": "markdown",
   "metadata": {},
   "source": [
    "When **combining datasets** there are a few crucial concepts: \n",
    "\n",
    "1. **Concatenate (append)**: \"stack\" rows (observations) on top of each other. This works if the datasets have the same columns (variables).\n",
    "2. **Merge**: the two datasets have different variables, but may or may not have the same observations. "
   ]
  },
  {
   "cell_type": "markdown",
   "metadata": {},
   "source": [
    "There are **different kinds of merges** depending on which observations you want to keep:\n",
    "\n",
    "1. **Outer join (one-to-one)** Keep observations which are in *either* or in *both* datasets.\n",
    "2. **Inner join (one-to-one)** Keep observations which are in *both* datasets. \n",
    "3. **Left join (many-to-one)** Keep observations which are in the *left* dataset or in *both* datasets. \n",
    "\n",
    "Keeping observations which are not in both datasets will result in **missing values** for the variables comming from the dataset, where the observation does not exist."
   ]
  },
  {
   "cell_type": "markdown",
   "metadata": {},
   "source": [
    "**Read data:**"
   ]
  },
  {
   "cell_type": "code",
   "execution_count": 2,
   "metadata": {},
   "outputs": [],
   "source": [
    "empl = pd.read_csv('../07/data/RAS200_long.csv') # .. -> means one folder up\n",
    "inc = pd.read_csv('../07/data/INDKP107_long.csv')\n",
    "area = pd.read_csv('../07/data/area.csv')"
   ]
  },
  {
   "cell_type": "markdown",
   "metadata": {},
   "source": [
    "## 1.1 Concatenating datasets\n",
    "\n",
    "Suppose we have two datasets that have the same variables and we just want to concatenate them. "
   ]
  },
  {
   "cell_type": "code",
   "execution_count": 3,
   "metadata": {},
   "outputs": [
    {
     "data": {
      "text/html": [
       "<div>\n",
       "<style scoped>\n",
       "    .dataframe tbody tr th:only-of-type {\n",
       "        vertical-align: middle;\n",
       "    }\n",
       "\n",
       "    .dataframe tbody tr th {\n",
       "        vertical-align: top;\n",
       "    }\n",
       "\n",
       "    .dataframe thead th {\n",
       "        text-align: right;\n",
       "    }\n",
       "</style>\n",
       "<table border=\"1\" class=\"dataframe\">\n",
       "  <thead>\n",
       "    <tr style=\"text-align: right;\">\n",
       "      <th></th>\n",
       "      <th>municipality</th>\n",
       "      <th>year</th>\n",
       "      <th>e</th>\n",
       "    </tr>\n",
       "  </thead>\n",
       "  <tbody>\n",
       "    <tr>\n",
       "      <th>0</th>\n",
       "      <td>Copenhagen</td>\n",
       "      <td>2008</td>\n",
       "      <td>72.5</td>\n",
       "    </tr>\n",
       "    <tr>\n",
       "      <th>1</th>\n",
       "      <td>Frederiksberg</td>\n",
       "      <td>2008</td>\n",
       "      <td>75.6</td>\n",
       "    </tr>\n",
       "    <tr>\n",
       "      <th>2</th>\n",
       "      <td>Dragør</td>\n",
       "      <td>2008</td>\n",
       "      <td>80.5</td>\n",
       "    </tr>\n",
       "    <tr>\n",
       "      <th>3</th>\n",
       "      <td>Tårnby</td>\n",
       "      <td>2008</td>\n",
       "      <td>79.0</td>\n",
       "    </tr>\n",
       "    <tr>\n",
       "      <th>4</th>\n",
       "      <td>Albertslund</td>\n",
       "      <td>2008</td>\n",
       "      <td>73.1</td>\n",
       "    </tr>\n",
       "  </tbody>\n",
       "</table>\n",
       "</div>"
      ],
      "text/plain": [
       "    municipality  year     e\n",
       "0     Copenhagen  2008  72.5\n",
       "1  Frederiksberg  2008  75.6\n",
       "2         Dragør  2008  80.5\n",
       "3         Tårnby  2008  79.0\n",
       "4    Albertslund  2008  73.1"
      ]
     },
     "execution_count": 3,
     "metadata": {},
     "output_type": "execute_result"
    }
   ],
   "source": [
    "empl.head(5)"
   ]
  },
  {
   "cell_type": "code",
   "execution_count": 4,
   "metadata": {},
   "outputs": [
    {
     "name": "stdout",
     "output_type": "stream",
     "text": [
      "A has shape (495, 3) \n",
      "B has shape (495, 3) \n"
     ]
    }
   ],
   "source": [
    "N = empl.shape[0]\n",
    "A = empl.loc[empl.index < N/2,:] # first half of observations\n",
    "B = empl.loc[empl.index >= N/2,:] # second half of observations\n",
    "\n",
    "print(f'A has shape {A.shape} ')\n",
    "print(f'B has shape {B.shape} ')"
   ]
  },
  {
   "cell_type": "markdown",
   "metadata": {},
   "source": [
    "**Concatenation** is done using the command `pd.concat([df1, df2])`. "
   ]
  },
  {
   "cell_type": "code",
   "execution_count": 5,
   "metadata": {},
   "outputs": [
    {
     "name": "stdout",
     "output_type": "stream",
     "text": [
      "C has shape (990, 3) (same as the original empl, (990, 3))\n"
     ]
    }
   ],
   "source": [
    "C = pd.concat([A,B])\n",
    "print(f'C has shape {C.shape} (same as the original empl, {empl.shape})')"
   ]
  },
  {
   "cell_type": "markdown",
   "metadata": {},
   "source": [
    "## 1.2 Merging datasets"
   ]
  },
  {
   "cell_type": "markdown",
   "metadata": {},
   "source": [
    "Two datasets with **different variables**: `empl` and `inc`. \n",
    "\n",
    "**Central command:** `pd.merge(empl, inc, on=[municipalitiy, year], how=METHOD)`. \n",
    "\n",
    "1. The keyword `on` specifies the **merge key(s)**. They uniquely identify observations in both datasets (for sure in at least one of them).  \n",
    "\n",
    "2. The keyword `how` specifies the **merge method** (taking values such as `'outer'`, `'inner'`, or `'left'`)."
   ]
  },
  {
   "cell_type": "markdown",
   "metadata": {},
   "source": [
    "**Look at datasets:**"
   ]
  },
  {
   "cell_type": "code",
   "execution_count": 6,
   "metadata": {},
   "outputs": [
    {
     "name": "stdout",
     "output_type": "stream",
     "text": [
      "Years in empl: [2008 2009 2010 2011 2012 2013 2014 2015 2016 2017]\n",
      "Municipalities in empl = 99\n",
      "Years in inc: [2004 2005 2006 2007 2008 2009 2010 2011 2012 2013 2014 2015 2016 2017]\n",
      "Municipalities in inc = 98\n"
     ]
    }
   ],
   "source": [
    "print(f'Years in empl: {empl.year.unique()}')\n",
    "print(f'Municipalities in empl = {len(empl.municipality.unique())}')\n",
    "print(f'Years in inc: {inc.year.unique()}')\n",
    "print(f'Municipalities in inc = {len(inc.municipality.unique())}')"
   ]
  },
  {
   "cell_type": "markdown",
   "metadata": {},
   "source": [
    "**Find differences:**"
   ]
  },
  {
   "cell_type": "code",
   "execution_count": 7,
   "metadata": {},
   "outputs": [
    {
     "name": "stdout",
     "output_type": "stream",
     "text": [
      "years in inc data, but not in empl data: [2004, 2005, 2006, 2007]\n",
      "municipalities in empl data, but not in inc data: ['Christiansø']\n"
     ]
    }
   ],
   "source": [
    "diff_y = [y for y in inc.year.unique() if y not in empl.year.unique()] \n",
    "print(f'years in inc data, but not in empl data: {diff_y}')\n",
    "\n",
    "diff_m = [m for m in empl.municipality.unique() if m not in inc.municipality.unique()] \n",
    "print(f'municipalities in empl data, but not in inc data: {diff_m}')"
   ]
  },
  {
   "cell_type": "markdown",
   "metadata": {},
   "source": [
    "**Conclusion:** `inc` has more years than `empl`, but `empl` has one municipality that is not in `inc`. "
   ]
  },
  {
   "cell_type": "code",
   "execution_count": 8,
   "metadata": {},
   "outputs": [
    {
     "data": {
      "image/png": "[encoded data removed]",
      "text/plain": [
       "<Figure size 432x288 with 1 Axes>"
      ]
     },
     "metadata": {},
     "output_type": "display_data"
    }
   ],
   "source": [
    "plt.figure()\n",
    "v = venn2(subsets = (4, 4, 10), set_labels = ('empl', 'inc'))\n",
    "v.get_label_by_id('100').set_text('Cristiansø')\n",
    "v.get_label_by_id('010').set_text('2004-07' )\n",
    "v.get_label_by_id('110').set_text('common observations')\n",
    "plt.show()"
   ]
  },
  {
   "cell_type": "markdown",
   "metadata": {},
   "source": [
    "### Outer join: union"
   ]
  },
  {
   "cell_type": "code",
   "execution_count": 9,
   "metadata": {},
   "outputs": [
    {
     "data": {
      "image/png": "[encoded data removed]",
      "text/plain": [
       "<Figure size 432x288 with 1 Axes>"
      ]
     },
     "metadata": {},
     "output_type": "display_data"
    }
   ],
   "source": [
    "plt.figure()\n",
    "v = venn2(subsets = (4, 4, 10), set_labels = ('empl', 'inc'))\n",
    "v.get_label_by_id('100').set_text('included')\n",
    "v.get_label_by_id('010').set_text('included')\n",
    "v.get_label_by_id('110').set_text('included')\n",
    "plt.title('outer join')\n",
    "plt.show()"
   ]
  },
  {
   "cell_type": "code",
   "execution_count": 10,
   "metadata": {},
   "outputs": [
    {
     "name": "stdout",
     "output_type": "stream",
     "text": [
      "Number of municipalities = 99\n",
      "Number of years = 14\n"
     ]
    }
   ],
   "source": [
    "outer = pd.merge(empl,inc,on=['municipality','year'],how='outer')\n",
    "\n",
    "print(f'Number of municipalities = {len(outer.municipality.unique())}')\n",
    "print(f'Number of years = {len(outer.year.unique())}')"
   ]
  },
  {
   "cell_type": "markdown",
   "metadata": {},
   "source": [
    "We see that the **outer join** includes rows that exist in either dataframe and therefore includes missing values:"
   ]
  },
  {
   "cell_type": "code",
   "execution_count": 11,
   "metadata": {},
   "outputs": [
    {
     "data": {
      "text/html": [
       "<div>\n",
       "<style scoped>\n",
       "    .dataframe tbody tr th:only-of-type {\n",
       "        vertical-align: middle;\n",
       "    }\n",
       "\n",
       "    .dataframe tbody tr th {\n",
       "        vertical-align: top;\n",
       "    }\n",
       "\n",
       "    .dataframe thead th {\n",
       "        text-align: right;\n",
       "    }\n",
       "</style>\n",
       "<table border=\"1\" class=\"dataframe\">\n",
       "  <thead>\n",
       "    <tr style=\"text-align: right;\">\n",
       "      <th></th>\n",
       "      <th>municipality</th>\n",
       "      <th>year</th>\n",
       "      <th>e</th>\n",
       "      <th>inc</th>\n",
       "    </tr>\n",
       "  </thead>\n",
       "  <tbody>\n",
       "    <tr>\n",
       "      <th>29</th>\n",
       "      <td>Christiansø</td>\n",
       "      <td>2008</td>\n",
       "      <td>62.9</td>\n",
       "      <td>NaN</td>\n",
       "    </tr>\n",
       "    <tr>\n",
       "      <th>128</th>\n",
       "      <td>Christiansø</td>\n",
       "      <td>2009</td>\n",
       "      <td>64.6</td>\n",
       "      <td>NaN</td>\n",
       "    </tr>\n",
       "    <tr>\n",
       "      <th>227</th>\n",
       "      <td>Christiansø</td>\n",
       "      <td>2010</td>\n",
       "      <td>67.8</td>\n",
       "      <td>NaN</td>\n",
       "    </tr>\n",
       "    <tr>\n",
       "      <th>326</th>\n",
       "      <td>Christiansø</td>\n",
       "      <td>2011</td>\n",
       "      <td>67.7</td>\n",
       "      <td>NaN</td>\n",
       "    </tr>\n",
       "    <tr>\n",
       "      <th>425</th>\n",
       "      <td>Christiansø</td>\n",
       "      <td>2012</td>\n",
       "      <td>69.6</td>\n",
       "      <td>NaN</td>\n",
       "    </tr>\n",
       "    <tr>\n",
       "      <th>524</th>\n",
       "      <td>Christiansø</td>\n",
       "      <td>2013</td>\n",
       "      <td>69.4</td>\n",
       "      <td>NaN</td>\n",
       "    </tr>\n",
       "    <tr>\n",
       "      <th>623</th>\n",
       "      <td>Christiansø</td>\n",
       "      <td>2014</td>\n",
       "      <td>70.0</td>\n",
       "      <td>NaN</td>\n",
       "    </tr>\n",
       "    <tr>\n",
       "      <th>722</th>\n",
       "      <td>Christiansø</td>\n",
       "      <td>2015</td>\n",
       "      <td>75.5</td>\n",
       "      <td>NaN</td>\n",
       "    </tr>\n",
       "    <tr>\n",
       "      <th>821</th>\n",
       "      <td>Christiansø</td>\n",
       "      <td>2016</td>\n",
       "      <td>77.8</td>\n",
       "      <td>NaN</td>\n",
       "    </tr>\n",
       "    <tr>\n",
       "      <th>920</th>\n",
       "      <td>Christiansø</td>\n",
       "      <td>2017</td>\n",
       "      <td>80.9</td>\n",
       "      <td>NaN</td>\n",
       "    </tr>\n",
       "    <tr>\n",
       "      <th>990</th>\n",
       "      <td>Copenhagen</td>\n",
       "      <td>2004</td>\n",
       "      <td>NaN</td>\n",
       "      <td>233204.0</td>\n",
       "    </tr>\n",
       "    <tr>\n",
       "      <th>991</th>\n",
       "      <td>Frederiksberg</td>\n",
       "      <td>2004</td>\n",
       "      <td>NaN</td>\n",
       "      <td>276111.0</td>\n",
       "    </tr>\n",
       "    <tr>\n",
       "      <th>992</th>\n",
       "      <td>Dragør</td>\n",
       "      <td>2004</td>\n",
       "      <td>NaN</td>\n",
       "      <td>326324.0</td>\n",
       "    </tr>\n",
       "    <tr>\n",
       "      <th>993</th>\n",
       "      <td>Tårnby</td>\n",
       "      <td>2004</td>\n",
       "      <td>NaN</td>\n",
       "      <td>264299.0</td>\n",
       "    </tr>\n",
       "    <tr>\n",
       "      <th>994</th>\n",
       "      <td>Albertslund</td>\n",
       "      <td>2004</td>\n",
       "      <td>NaN</td>\n",
       "      <td>253319.0</td>\n",
       "    </tr>\n",
       "  </tbody>\n",
       "</table>\n",
       "</div>"
      ],
      "text/plain": [
       "      municipality  year     e       inc\n",
       "29     Christiansø  2008  62.9       NaN\n",
       "128    Christiansø  2009  64.6       NaN\n",
       "227    Christiansø  2010  67.8       NaN\n",
       "326    Christiansø  2011  67.7       NaN\n",
       "425    Christiansø  2012  69.6       NaN\n",
       "524    Christiansø  2013  69.4       NaN\n",
       "623    Christiansø  2014  70.0       NaN\n",
       "722    Christiansø  2015  75.5       NaN\n",
       "821    Christiansø  2016  77.8       NaN\n",
       "920    Christiansø  2017  80.9       NaN\n",
       "990     Copenhagen  2004   NaN  233204.0\n",
       "991  Frederiksberg  2004   NaN  276111.0\n",
       "992         Dragør  2004   NaN  326324.0\n",
       "993         Tårnby  2004   NaN  264299.0\n",
       "994    Albertslund  2004   NaN  253319.0"
      ]
     },
     "execution_count": 11,
     "metadata": {},
     "output_type": "execute_result"
    }
   ],
   "source": [
    "I = (outer.year.isin(diff_y)) | (outer.municipality.isin(diff_m))\n",
    "outer.loc[I, :].head(15)"
   ]
  },
  {
   "cell_type": "markdown",
   "metadata": {},
   "source": [
    "### Inner join"
   ]
  },
  {
   "cell_type": "code",
   "execution_count": 12,
   "metadata": {},
   "outputs": [
    {
     "data": {
      "image/png": "[encoded data removed]",
      "text/plain": [
       "<Figure size 432x288 with 1 Axes>"
      ]
     },
     "metadata": {},
     "output_type": "display_data"
    }
   ],
   "source": [
    "plt.figure()\n",
    "v = venn2(subsets = (4, 4, 10), set_labels = ('empl', 'inc'))\n",
    "v.get_label_by_id('100').set_text('dropped'); v.get_patch_by_id('100').set_alpha(0.05)\n",
    "v.get_label_by_id('010').set_text('dropped'); v.get_patch_by_id('010').set_alpha(0.05)\n",
    "v.get_label_by_id('110').set_text('included')\n",
    "plt.title('inner join')\n",
    "plt.show()"
   ]
  },
  {
   "cell_type": "code",
   "execution_count": 13,
   "metadata": {},
   "outputs": [
    {
     "name": "stdout",
     "output_type": "stream",
     "text": [
      "Number of municipalities = 98\n",
      "Number of years          = 10\n"
     ]
    }
   ],
   "source": [
    "inner = pd.merge(empl,inc,how='inner',on=['municipality','year'])\n",
    "\n",
    "print(f'Number of municipalities = {len(inner.municipality.unique())}')\n",
    "print(f'Number of years          = {len(inner.year.unique())}')"
   ]
  },
  {
   "cell_type": "markdown",
   "metadata": {},
   "source": [
    "We see that the **inner join** does not contain any rows that are not in both datasets. "
   ]
  },
  {
   "cell_type": "code",
   "execution_count": 14,
   "metadata": {},
   "outputs": [
    {
     "data": {
      "text/html": [
       "<div>\n",
       "<style scoped>\n",
       "    .dataframe tbody tr th:only-of-type {\n",
       "        vertical-align: middle;\n",
       "    }\n",
       "\n",
       "    .dataframe tbody tr th {\n",
       "        vertical-align: top;\n",
       "    }\n",
       "\n",
       "    .dataframe thead th {\n",
       "        text-align: right;\n",
       "    }\n",
       "</style>\n",
       "<table border=\"1\" class=\"dataframe\">\n",
       "  <thead>\n",
       "    <tr style=\"text-align: right;\">\n",
       "      <th></th>\n",
       "      <th>municipality</th>\n",
       "      <th>year</th>\n",
       "      <th>e</th>\n",
       "      <th>inc</th>\n",
       "    </tr>\n",
       "  </thead>\n",
       "  <tbody>\n",
       "  </tbody>\n",
       "</table>\n",
       "</div>"
      ],
      "text/plain": [
       "Empty DataFrame\n",
       "Columns: [municipality, year, e, inc]\n",
       "Index: []"
      ]
     },
     "execution_count": 14,
     "metadata": {},
     "output_type": "execute_result"
    }
   ],
   "source": [
    "I = (inner.year.isin(diff_y)) | (inner.municipality.isin(diff_m))\n",
    "inner.loc[I, :].head(15)"
   ]
  },
  {
   "cell_type": "markdown",
   "metadata": {},
   "source": [
    "### Left join"
   ]
  },
  {
   "cell_type": "markdown",
   "metadata": {},
   "source": [
    "In my work, I most frequently use the **left join**. It is also known as a *many-to-one* join. \n",
    "\n",
    "* **Left dataset:** `inner` many observations of a given municipality (one per year),\n",
    "* **Right dataset:** `area` at most one observation per municipality and new variable (km2). "
   ]
  },
  {
   "cell_type": "code",
   "execution_count": 15,
   "metadata": {},
   "outputs": [
    {
     "data": {
      "text/html": [
       "<div>\n",
       "<style scoped>\n",
       "    .dataframe tbody tr th:only-of-type {\n",
       "        vertical-align: middle;\n",
       "    }\n",
       "\n",
       "    .dataframe tbody tr th {\n",
       "        vertical-align: top;\n",
       "    }\n",
       "\n",
       "    .dataframe thead th {\n",
       "        text-align: right;\n",
       "    }\n",
       "</style>\n",
       "<table border=\"1\" class=\"dataframe\">\n",
       "  <thead>\n",
       "    <tr style=\"text-align: right;\">\n",
       "      <th></th>\n",
       "      <th>municipality</th>\n",
       "      <th>year</th>\n",
       "      <th>e</th>\n",
       "      <th>inc</th>\n",
       "      <th>km2</th>\n",
       "    </tr>\n",
       "  </thead>\n",
       "  <tbody>\n",
       "    <tr>\n",
       "      <th>0</th>\n",
       "      <td>Copenhagen</td>\n",
       "      <td>2008</td>\n",
       "      <td>72.5</td>\n",
       "      <td>259216.0</td>\n",
       "      <td>86.7</td>\n",
       "    </tr>\n",
       "    <tr>\n",
       "      <th>1</th>\n",
       "      <td>Frederiksberg</td>\n",
       "      <td>2008</td>\n",
       "      <td>75.6</td>\n",
       "      <td>296988.0</td>\n",
       "      <td>8.7</td>\n",
       "    </tr>\n",
       "    <tr>\n",
       "      <th>2</th>\n",
       "      <td>Dragør</td>\n",
       "      <td>2008</td>\n",
       "      <td>80.5</td>\n",
       "      <td>371290.0</td>\n",
       "      <td>18.3</td>\n",
       "    </tr>\n",
       "    <tr>\n",
       "      <th>3</th>\n",
       "      <td>Tårnby</td>\n",
       "      <td>2008</td>\n",
       "      <td>79.0</td>\n",
       "      <td>288973.0</td>\n",
       "      <td>66.1</td>\n",
       "    </tr>\n",
       "    <tr>\n",
       "      <th>4</th>\n",
       "      <td>Albertslund</td>\n",
       "      <td>2008</td>\n",
       "      <td>73.1</td>\n",
       "      <td>269855.0</td>\n",
       "      <td>23.4</td>\n",
       "    </tr>\n",
       "  </tbody>\n",
       "</table>\n",
       "</div>"
      ],
      "text/plain": [
       "    municipality  year     e       inc   km2\n",
       "0     Copenhagen  2008  72.5  259216.0  86.7\n",
       "1  Frederiksberg  2008  75.6  296988.0   8.7\n",
       "2         Dragør  2008  80.5  371290.0  18.3\n",
       "3         Tårnby  2008  79.0  288973.0  66.1\n",
       "4    Albertslund  2008  73.1  269855.0  23.4"
      ]
     },
     "execution_count": 15,
     "metadata": {},
     "output_type": "execute_result"
    }
   ],
   "source": [
    "inner_with_area = pd.merge(inner, area, on='municipality', how='left')\n",
    "inner_with_area.head(5)"
   ]
  },
  {
   "cell_type": "code",
   "execution_count": 16,
   "metadata": {},
   "outputs": [
    {
     "name": "stdout",
     "output_type": "stream",
     "text": [
      "inner has shape (980, 4)\n",
      "area has shape (99, 2)\n",
      "merge result has shape (980, 5)\n"
     ]
    }
   ],
   "source": [
    "print(f'inner has shape {inner.shape}')\n",
    "print(f'area has shape {area.shape}')\n",
    "print(f'merge result has shape {inner_with_area.shape}')"
   ]
  },
  {
   "cell_type": "code",
   "execution_count": 17,
   "metadata": {},
   "outputs": [
    {
     "data": {
      "image/png": "[encoded data removed]",
      "text/plain": [
       "<Figure size 432x288 with 1 Axes>"
      ]
     },
     "metadata": {},
     "output_type": "display_data"
    }
   ],
   "source": [
    "plt.figure()\n",
    "v = venn2(subsets = (4, 4, 10), set_labels = ('inner', 'area'))\n",
    "v.get_label_by_id('100').set_text('included:\\n no km2'); \n",
    "v.get_label_by_id('010').set_text('dropped'); v.get_patch_by_id('010').set_alpha(0.05)\n",
    "v.get_label_by_id('110').set_text('included:\\n with km2')\n",
    "plt.title('left join')\n",
    "plt.show()"
   ]
  },
  {
   "cell_type": "markdown",
   "metadata": {},
   "source": [
    "**Intermezzo:** Finding the non-overlapping observations"
   ]
  },
  {
   "cell_type": "code",
   "execution_count": 18,
   "metadata": {},
   "outputs": [
    {
     "name": "stdout",
     "output_type": "stream",
     "text": [
      "There are 0 municipalities in inner that are not in area. They are:\n",
      "[]\n",
      "\n",
      "There is 1 municipalities in area that are not in inner. They are:\n",
      "['Christiansø']\n",
      "\n"
     ]
    }
   ],
   "source": [
    "not_in_area = [m for m in inner.municipality.unique() if m not in area.municipality.unique()]\n",
    "not_in_inner = [m for m in area.municipality.unique() if m not in inner.municipality.unique()]\n",
    "\n",
    "print(f'There are {len(not_in_area)} municipalities in inner that are not in area. They are:')\n",
    "print(not_in_area)\n",
    "print('')\n",
    "\n",
    "print(f'There is {len(not_in_inner)} municipalities in area that are not in inner. They are:')\n",
    "print(not_in_inner)\n",
    "print('')"
   ]
  },
  {
   "cell_type": "markdown",
   "metadata": {},
   "source": [
    "**Check that km2 is never missing:**"
   ]
  },
  {
   "cell_type": "code",
   "execution_count": 19,
   "metadata": {},
   "outputs": [
    {
     "data": {
      "text/plain": [
       "0.0"
      ]
     },
     "execution_count": 19,
     "metadata": {},
     "output_type": "execute_result"
    }
   ],
   "source": [
    "inner_with_area.km2.isnull().mean()"
   ]
  },
  {
   "cell_type": "markdown",
   "metadata": {},
   "source": [
    "### Alternative function for left joins: `df.join()`"
   ]
  },
  {
   "cell_type": "markdown",
   "metadata": {},
   "source": [
    "To use a left join function `df.join()`, we must first set the index. Technically, we do not need this, but if you ever need to join on more than one variable, `df.join()` requires you to work with indices so we might as well learn it now. "
   ]
  },
  {
   "cell_type": "code",
   "execution_count": 20,
   "metadata": {},
   "outputs": [
    {
     "name": "stdout",
     "output_type": "stream",
     "text": [
      "final has shape: (980, 4)\n"
     ]
    },
    {
     "data": {
      "text/html": [
       "<div>\n",
       "<style scoped>\n",
       "    .dataframe tbody tr th:only-of-type {\n",
       "        vertical-align: middle;\n",
       "    }\n",
       "\n",
       "    .dataframe tbody tr th {\n",
       "        vertical-align: top;\n",
       "    }\n",
       "\n",
       "    .dataframe thead th {\n",
       "        text-align: right;\n",
       "    }\n",
       "</style>\n",
       "<table border=\"1\" class=\"dataframe\">\n",
       "  <thead>\n",
       "    <tr style=\"text-align: right;\">\n",
       "      <th></th>\n",
       "      <th>year</th>\n",
       "      <th>e</th>\n",
       "      <th>inc</th>\n",
       "      <th>km2</th>\n",
       "    </tr>\n",
       "    <tr>\n",
       "      <th>municipality</th>\n",
       "      <th></th>\n",
       "      <th></th>\n",
       "      <th></th>\n",
       "      <th></th>\n",
       "    </tr>\n",
       "  </thead>\n",
       "  <tbody>\n",
       "    <tr>\n",
       "      <th>Aabenraa</th>\n",
       "      <td>2008</td>\n",
       "      <td>74.6</td>\n",
       "      <td>308611.0</td>\n",
       "      <td>940.7</td>\n",
       "    </tr>\n",
       "    <tr>\n",
       "      <th>Aabenraa</th>\n",
       "      <td>2009</td>\n",
       "      <td>71.6</td>\n",
       "      <td>308226.0</td>\n",
       "      <td>940.7</td>\n",
       "    </tr>\n",
       "    <tr>\n",
       "      <th>Aabenraa</th>\n",
       "      <td>2010</td>\n",
       "      <td>70.9</td>\n",
       "      <td>350112.0</td>\n",
       "      <td>940.7</td>\n",
       "    </tr>\n",
       "    <tr>\n",
       "      <th>Aabenraa</th>\n",
       "      <td>2011</td>\n",
       "      <td>70.2</td>\n",
       "      <td>346564.0</td>\n",
       "      <td>940.7</td>\n",
       "    </tr>\n",
       "    <tr>\n",
       "      <th>Aabenraa</th>\n",
       "      <td>2012</td>\n",
       "      <td>69.5</td>\n",
       "      <td>349133.0</td>\n",
       "      <td>940.7</td>\n",
       "    </tr>\n",
       "  </tbody>\n",
       "</table>\n",
       "</div>"
      ],
      "text/plain": [
       "              year     e       inc    km2\n",
       "municipality                             \n",
       "Aabenraa      2008  74.6  308611.0  940.7\n",
       "Aabenraa      2009  71.6  308226.0  940.7\n",
       "Aabenraa      2010  70.9  350112.0  940.7\n",
       "Aabenraa      2011  70.2  346564.0  940.7\n",
       "Aabenraa      2012  69.5  349133.0  940.7"
      ]
     },
     "execution_count": 20,
     "metadata": {},
     "output_type": "execute_result"
    }
   ],
   "source": [
    "inner.set_index('municipality', inplace=True)\n",
    "area.set_index('municipality', inplace=True)\n",
    "final = inner.join(area)\n",
    "print(f'final has shape: {final.shape}')\n",
    "final.head(5)"
   ]
  },
  {
   "cell_type": "markdown",
   "metadata": {},
   "source": [
    "## 1.3 Other programming languages "
   ]
  },
  {
   "cell_type": "markdown",
   "metadata": {},
   "source": [
    "**SQL** (including SAS *proc sql*)"
   ]
  },
  {
   "cell_type": "markdown",
   "metadata": {},
   "source": [
    "SQL is one of the most powerful database languages and many other programming languages embed a version of it. For example, SAS has the `proc SQL`, where you can use SQL syntax. "
   ]
  },
  {
   "cell_type": "markdown",
   "metadata": {},
   "source": [
    "SQL is written in statements such as \n",
    "\n",
    "* **left join**   `select * from empl left join inc on empl.municipality = inc.municipality and empl.year = inc.year`\n",
    "* **outer join** `select * from empl full outer join inc on empl.municipality = inc.municipality and empl.year = inc.year`"
   ]
  },
  {
   "cell_type": "markdown",
   "metadata": {},
   "source": [
    "**STATA**"
   ]
  },
  {
   "cell_type": "markdown",
   "metadata": {},
   "source": [
    "In Stata, the command `merge` nests many of the commands mentioned above. You specify `merge 1:1`  for a one-to-one merge or `merge m:1`  or `merge 1:m`  for many-to-one or one-to-many merges, and you do not use `merge m:m` (until you are quite advanced). "
   ]
  },
  {
   "cell_type": "markdown",
   "metadata": {},
   "source": [
    "<a id=\"Fetching-data-using-an-API\"></a>\n",
    "\n",
    "# 2. Fetching data using an API"
   ]
  },
  {
   "cell_type": "markdown",
   "metadata": {},
   "source": [
    "API stands for **Application Programming Interface**. An API is an interface through which we can directly ask for and **receive data from an online source**. We will be using packages for this and will not look at what is going on underneath. \n",
    "\n",
    "1. We use `pandas_datareader` to access many common **international online data** sources (install with `pip install pandas-datareader`)\n",
    "2. For **Statistics Denmark**, Jakob Elben has written the `pydst` package (install with `pip install git+https://github.com/elben10/pydst`)"
   ]
  },
  {
   "cell_type": "markdown",
   "metadata": {},
   "source": [
    "Fetching data from an API requires an **internet connection** and works directly without saving data to your hard disc (unless you ask Python to do so afterwards). You can use it to automate tasks such as fetching the most recent data, doing some calculations and outputting it in the same manner. This can be useful e.g. for quarterly reports. "
   ]
  },
  {
   "cell_type": "markdown",
   "metadata": {},
   "source": [
    "**Pros:** Automatic; smart; everything is done from Python (so no need to remember steps in between). \n",
    "\n",
    "**Cons:** The connection can be slow or drop out, which may lead to errors. If e.g. 100 students simultaneously fetch data (during, say, a lecture), the host server may not be able to service all the requests and may drop out. "
   ]
  },
  {
   "cell_type": "markdown",
   "metadata": {},
   "source": [
    "> The raw output data from an API could look like this: https://stats.oecd.org/SDMX-JSON/data/NAAG. It is a log list of non-human-readable gobledygook in the so-called \"JSON\" format. "
   ]
  },
  {
   "cell_type": "markdown",
   "metadata": {},
   "source": [
    "## 2.1 Import data from Denmark Statistics"
   ]
  },
  {
   "cell_type": "markdown",
   "metadata": {},
   "source": [
    "**Setup:**"
   ]
  },
  {
   "cell_type": "code",
   "execution_count": 4,
   "metadata": {},
   "outputs": [],
   "source": [
    "Dst = pydst.Dst(lang='en') # setup data loader with the langauge 'english'"
   ]
  },
  {
   "cell_type": "markdown",
   "metadata": {},
   "source": [
    "Data from DST are organized into: \n",
    "\n",
    "1. **Subjects:** indexed by numbers. Use `Dst.get_subjects()` to see the list. \n",
    "2. **Tables:** with names like \"INDKP107\". Use `Dst.get_tables(subjects=['X'])` to see all tables in a subject. \n",
    "\n",
    "**Data is extracted**  with `Dst.get_data(table_id = 'NAME', variables = DICT)`. "
   ]
  },
  {
   "cell_type": "markdown",
   "metadata": {},
   "source": [
    "**Subjects:** With `Dst.get_subjects()` we can list all subjects."
   ]
  },
  {
   "cell_type": "code",
   "execution_count": 5,
   "metadata": {},
   "outputs": [
    {
     "data": {
      "text/html": [
       "<div>\n",
       "<style scoped>\n",
       "    .dataframe tbody tr th:only-of-type {\n",
       "        vertical-align: middle;\n",
       "    }\n",
       "\n",
       "    .dataframe tbody tr th {\n",
       "        vertical-align: top;\n",
       "    }\n",
       "\n",
       "    .dataframe thead th {\n",
       "        text-align: right;\n",
       "    }\n",
       "</style>\n",
       "<table border=\"1\" class=\"dataframe\">\n",
       "  <thead>\n",
       "    <tr style=\"text-align: right;\">\n",
       "      <th></th>\n",
       "      <th>id</th>\n",
       "      <th>desc</th>\n",
       "      <th>active</th>\n",
       "      <th>hasSubjects</th>\n",
       "    </tr>\n",
       "  </thead>\n",
       "  <tbody>\n",
       "    <tr>\n",
       "      <th>0</th>\n",
       "      <td>02</td>\n",
       "      <td>Population and elections</td>\n",
       "      <td>True</td>\n",
       "      <td>True</td>\n",
       "    </tr>\n",
       "    <tr>\n",
       "      <th>1</th>\n",
       "      <td>04</td>\n",
       "      <td>Labour, income and wealth</td>\n",
       "      <td>True</td>\n",
       "      <td>True</td>\n",
       "    </tr>\n",
       "    <tr>\n",
       "      <th>2</th>\n",
       "      <td>06</td>\n",
       "      <td>Prices and consumption</td>\n",
       "      <td>True</td>\n",
       "      <td>True</td>\n",
       "    </tr>\n",
       "    <tr>\n",
       "      <th>3</th>\n",
       "      <td>05</td>\n",
       "      <td>Living conditions</td>\n",
       "      <td>True</td>\n",
       "      <td>True</td>\n",
       "    </tr>\n",
       "    <tr>\n",
       "      <th>4</th>\n",
       "      <td>14</td>\n",
       "      <td>National accounts and government finances</td>\n",
       "      <td>True</td>\n",
       "      <td>True</td>\n",
       "    </tr>\n",
       "    <tr>\n",
       "      <th>5</th>\n",
       "      <td>03</td>\n",
       "      <td>Education and knowledge</td>\n",
       "      <td>True</td>\n",
       "      <td>True</td>\n",
       "    </tr>\n",
       "    <tr>\n",
       "      <th>6</th>\n",
       "      <td>11</td>\n",
       "      <td>Business sectors</td>\n",
       "      <td>True</td>\n",
       "      <td>True</td>\n",
       "    </tr>\n",
       "    <tr>\n",
       "      <th>7</th>\n",
       "      <td>07</td>\n",
       "      <td>Business sector in general</td>\n",
       "      <td>True</td>\n",
       "      <td>True</td>\n",
       "    </tr>\n",
       "    <tr>\n",
       "      <th>8</th>\n",
       "      <td>16</td>\n",
       "      <td>Money and credit market</td>\n",
       "      <td>True</td>\n",
       "      <td>True</td>\n",
       "    </tr>\n",
       "    <tr>\n",
       "      <th>9</th>\n",
       "      <td>13</td>\n",
       "      <td>External economy</td>\n",
       "      <td>True</td>\n",
       "      <td>True</td>\n",
       "    </tr>\n",
       "    <tr>\n",
       "      <th>10</th>\n",
       "      <td>18</td>\n",
       "      <td>Culture and National Church</td>\n",
       "      <td>True</td>\n",
       "      <td>True</td>\n",
       "    </tr>\n",
       "    <tr>\n",
       "      <th>11</th>\n",
       "      <td>01</td>\n",
       "      <td>Geography, environment and energy</td>\n",
       "      <td>True</td>\n",
       "      <td>True</td>\n",
       "    </tr>\n",
       "    <tr>\n",
       "      <th>12</th>\n",
       "      <td>19</td>\n",
       "      <td>Other</td>\n",
       "      <td>True</td>\n",
       "      <td>True</td>\n",
       "    </tr>\n",
       "  </tbody>\n",
       "</table>\n",
       "</div>"
      ],
      "text/plain": [
       "    id                                       desc  active  hasSubjects\n",
       "0   02                   Population and elections    True         True\n",
       "1   04                  Labour, income and wealth    True         True\n",
       "2   06                     Prices and consumption    True         True\n",
       "3   05                          Living conditions    True         True\n",
       "4   14  National accounts and government finances    True         True\n",
       "5   03                    Education and knowledge    True         True\n",
       "6   11                           Business sectors    True         True\n",
       "7   07                 Business sector in general    True         True\n",
       "8   16                    Money and credit market    True         True\n",
       "9   13                           External economy    True         True\n",
       "10  18                Culture and National Church    True         True\n",
       "11  01          Geography, environment and energy    True         True\n",
       "12  19                                      Other    True         True"
      ]
     },
     "execution_count": 5,
     "metadata": {},
     "output_type": "execute_result"
    }
   ],
   "source": [
    "Dst.get_subjects()"
   ]
  },
  {
   "cell_type": "markdown",
   "metadata": {},
   "source": [
    "**Tables:** With `get_tables()`, we can list all tables under a subject."
   ]
  },
  {
   "cell_type": "code",
   "execution_count": 23,
   "metadata": {},
   "outputs": [
    {
     "data": {
      "text/html": [
       "<div>\n",
       "<style scoped>\n",
       "    .dataframe tbody tr th:only-of-type {\n",
       "        vertical-align: middle;\n",
       "    }\n",
       "\n",
       "    .dataframe tbody tr th {\n",
       "        vertical-align: top;\n",
       "    }\n",
       "\n",
       "    .dataframe thead th {\n",
       "        text-align: right;\n",
       "    }\n",
       "</style>\n",
       "<table border=\"1\" class=\"dataframe\">\n",
       "  <thead>\n",
       "    <tr style=\"text-align: right;\">\n",
       "      <th></th>\n",
       "      <th>id</th>\n",
       "      <th>text</th>\n",
       "      <th>unit</th>\n",
       "      <th>updated</th>\n",
       "      <th>firstPeriod</th>\n",
       "      <th>latestPeriod</th>\n",
       "      <th>active</th>\n",
       "      <th>variables</th>\n",
       "    </tr>\n",
       "  </thead>\n",
       "  <tbody>\n",
       "    <tr>\n",
       "      <th>0</th>\n",
       "      <td>AKU100K</td>\n",
       "      <td>Seasonally adjusted labour force status</td>\n",
       "      <td>1,000 people</td>\n",
       "      <td>2020-05-20 08:00:00</td>\n",
       "      <td>2008Q1</td>\n",
       "      <td>2020Q1</td>\n",
       "      <td>True</td>\n",
       "      <td>[employment status, time]</td>\n",
       "    </tr>\n",
       "    <tr>\n",
       "      <th>1</th>\n",
       "      <td>AKU101K</td>\n",
       "      <td>Seasonally adjusted labour force status in per...</td>\n",
       "      <td>per cent</td>\n",
       "      <td>2020-05-20 08:00:00</td>\n",
       "      <td>2008Q1</td>\n",
       "      <td>2020Q1</td>\n",
       "      <td>True</td>\n",
       "      <td>[employment status, time]</td>\n",
       "    </tr>\n",
       "    <tr>\n",
       "      <th>2</th>\n",
       "      <td>AKU110K</td>\n",
       "      <td>Labour force status</td>\n",
       "      <td>1,000 people</td>\n",
       "      <td>2020-05-20 08:00:00</td>\n",
       "      <td>2008Q1</td>\n",
       "      <td>2020Q1</td>\n",
       "      <td>True</td>\n",
       "      <td>[employment status, age, sex, time]</td>\n",
       "    </tr>\n",
       "    <tr>\n",
       "      <th>3</th>\n",
       "      <td>AKU111K</td>\n",
       "      <td>Labour force status in percentage</td>\n",
       "      <td>per cent</td>\n",
       "      <td>2020-05-20 08:00:00</td>\n",
       "      <td>2008Q1</td>\n",
       "      <td>2020Q1</td>\n",
       "      <td>True</td>\n",
       "      <td>[employment status, age, sex, time]</td>\n",
       "    </tr>\n",
       "    <tr>\n",
       "      <th>4</th>\n",
       "      <td>AKU120K</td>\n",
       "      <td>Labour force status</td>\n",
       "      <td>1,000 people</td>\n",
       "      <td>2020-05-20 08:00:00</td>\n",
       "      <td>2008Q1</td>\n",
       "      <td>2020Q1</td>\n",
       "      <td>True</td>\n",
       "      <td>[employment status, region, time]</td>\n",
       "    </tr>\n",
       "    <tr>\n",
       "      <th>...</th>\n",
       "      <td>...</td>\n",
       "      <td>...</td>\n",
       "      <td>...</td>\n",
       "      <td>...</td>\n",
       "      <td>...</td>\n",
       "      <td>...</td>\n",
       "      <td>...</td>\n",
       "      <td>...</td>\n",
       "    </tr>\n",
       "    <tr>\n",
       "      <th>236</th>\n",
       "      <td>TJEN01</td>\n",
       "      <td>Accrued civil servant pension for active civil...</td>\n",
       "      <td>-</td>\n",
       "      <td>2019-12-11 08:00:00</td>\n",
       "      <td>2014</td>\n",
       "      <td>2018</td>\n",
       "      <td>True</td>\n",
       "      <td>[sector, unit, sex, profession, ages groups, t...</td>\n",
       "    </tr>\n",
       "    <tr>\n",
       "      <th>237</th>\n",
       "      <td>TJEN02</td>\n",
       "      <td>Accrued civil servant pension for retired civi...</td>\n",
       "      <td>-</td>\n",
       "      <td>2019-12-11 08:00:00</td>\n",
       "      <td>2014</td>\n",
       "      <td>2018</td>\n",
       "      <td>True</td>\n",
       "      <td>[sector, unit, sex, time]</td>\n",
       "    </tr>\n",
       "    <tr>\n",
       "      <th>238</th>\n",
       "      <td>PENSOC</td>\n",
       "      <td>Supplementary table for accrued-to-date pensio...</td>\n",
       "      <td>m DKK</td>\n",
       "      <td>2019-12-11 08:00:00</td>\n",
       "      <td>2015</td>\n",
       "      <td>2018</td>\n",
       "      <td>True</td>\n",
       "      <td>[pension schemes, account, time]</td>\n",
       "    </tr>\n",
       "    <tr>\n",
       "      <th>239</th>\n",
       "      <td>PENS6</td>\n",
       "      <td>Value of pension schemes (except special schem...</td>\n",
       "      <td>-</td>\n",
       "      <td>2019-07-12 08:00:00</td>\n",
       "      <td>2015</td>\n",
       "      <td>2018</td>\n",
       "      <td>True</td>\n",
       "      <td>[kind of pension, company type, unit, family t...</td>\n",
       "    </tr>\n",
       "    <tr>\n",
       "      <th>240</th>\n",
       "      <td>PENINDB1</td>\n",
       "      <td>Persons with pension contributions</td>\n",
       "      <td>-</td>\n",
       "      <td>2019-09-27 08:00:00</td>\n",
       "      <td>2005</td>\n",
       "      <td>2018</td>\n",
       "      <td>True</td>\n",
       "      <td>[region, unit, sex, age, type of pension, time]</td>\n",
       "    </tr>\n",
       "  </tbody>\n",
       "</table>\n",
       "<p>241 rows × 8 columns</p>\n",
       "</div>"
      ],
      "text/plain": [
       "           id                                               text  \\\n",
       "0     AKU100K            Seasonally adjusted labour force status   \n",
       "1     AKU101K  Seasonally adjusted labour force status in per...   \n",
       "2     AKU110K                                Labour force status   \n",
       "3     AKU111K                  Labour force status in percentage   \n",
       "4     AKU120K                                Labour force status   \n",
       "..        ...                                                ...   \n",
       "236    TJEN01  Accrued civil servant pension for active civil...   \n",
       "237    TJEN02  Accrued civil servant pension for retired civi...   \n",
       "238    PENSOC  Supplementary table for accrued-to-date pensio...   \n",
       "239     PENS6  Value of pension schemes (except special schem...   \n",
       "240  PENINDB1                 Persons with pension contributions   \n",
       "\n",
       "             unit             updated firstPeriod latestPeriod  active  \\\n",
       "0    1,000 people 2020-05-20 08:00:00      2008Q1       2020Q1    True   \n",
       "1        per cent 2020-05-20 08:00:00      2008Q1       2020Q1    True   \n",
       "2    1,000 people 2020-05-20 08:00:00      2008Q1       2020Q1    True   \n",
       "3        per cent 2020-05-20 08:00:00      2008Q1       2020Q1    True   \n",
       "4    1,000 people 2020-05-20 08:00:00      2008Q1       2020Q1    True   \n",
       "..            ...                 ...         ...          ...     ...   \n",
       "236             - 2019-12-11 08:00:00        2014         2018    True   \n",
       "237             - 2019-12-11 08:00:00        2014         2018    True   \n",
       "238         m DKK 2019-12-11 08:00:00        2015         2018    True   \n",
       "239             - 2019-07-12 08:00:00        2015         2018    True   \n",
       "240             - 2019-09-27 08:00:00        2005         2018    True   \n",
       "\n",
       "                                             variables  \n",
       "0                            [employment status, time]  \n",
       "1                            [employment status, time]  \n",
       "2                  [employment status, age, sex, time]  \n",
       "3                  [employment status, age, sex, time]  \n",
       "4                    [employment status, region, time]  \n",
       "..                                                 ...  \n",
       "236  [sector, unit, sex, profession, ages groups, t...  \n",
       "237                          [sector, unit, sex, time]  \n",
       "238                   [pension schemes, account, time]  \n",
       "239  [kind of pension, company type, unit, family t...  \n",
       "240    [region, unit, sex, age, type of pension, time]  \n",
       "\n",
       "[241 rows x 8 columns]"
      ]
     },
     "execution_count": 23,
     "metadata": {},
     "output_type": "execute_result"
    }
   ],
   "source": [
    "tables = Dst.get_tables(subjects=['04'])\n",
    "tables"
   ]
  },
  {
   "cell_type": "markdown",
   "metadata": {},
   "source": [
    "**Variable in a dataset:**"
   ]
  },
  {
   "cell_type": "code",
   "execution_count": 24,
   "metadata": {},
   "outputs": [
    {
     "data": {
      "text/html": [
       "<div>\n",
       "<style scoped>\n",
       "    .dataframe tbody tr th:only-of-type {\n",
       "        vertical-align: middle;\n",
       "    }\n",
       "\n",
       "    .dataframe tbody tr th {\n",
       "        vertical-align: top;\n",
       "    }\n",
       "\n",
       "    .dataframe thead th {\n",
       "        text-align: right;\n",
       "    }\n",
       "</style>\n",
       "<table border=\"1\" class=\"dataframe\">\n",
       "  <thead>\n",
       "    <tr style=\"text-align: right;\">\n",
       "      <th></th>\n",
       "      <th>id</th>\n",
       "      <th>text</th>\n",
       "      <th>unit</th>\n",
       "      <th>updated</th>\n",
       "      <th>firstPeriod</th>\n",
       "      <th>latestPeriod</th>\n",
       "      <th>active</th>\n",
       "      <th>variables</th>\n",
       "    </tr>\n",
       "  </thead>\n",
       "  <tbody>\n",
       "    <tr>\n",
       "      <th>197</th>\n",
       "      <td>INDKP107</td>\n",
       "      <td>Income, persons</td>\n",
       "      <td>-</td>\n",
       "      <td>2019-11-13 08:00:00</td>\n",
       "      <td>2004</td>\n",
       "      <td>2018</td>\n",
       "      <td>True</td>\n",
       "      <td>[region, unit, sex, level of education, type o...</td>\n",
       "    </tr>\n",
       "  </tbody>\n",
       "</table>\n",
       "</div>"
      ],
      "text/plain": [
       "           id             text unit             updated firstPeriod  \\\n",
       "197  INDKP107  Income, persons    - 2019-11-13 08:00:00        2004   \n",
       "\n",
       "    latestPeriod  active                                          variables  \n",
       "197         2018    True  [region, unit, sex, level of education, type o...  "
      ]
     },
     "execution_count": 24,
     "metadata": {},
     "output_type": "execute_result"
    }
   ],
   "source": [
    "tables[tables.id == 'INDKP107']"
   ]
  },
  {
   "cell_type": "code",
   "execution_count": 25,
   "metadata": {},
   "outputs": [
    {
     "data": {
      "text/html": [
       "<div>\n",
       "<style scoped>\n",
       "    .dataframe tbody tr th:only-of-type {\n",
       "        vertical-align: middle;\n",
       "    }\n",
       "\n",
       "    .dataframe tbody tr th {\n",
       "        vertical-align: top;\n",
       "    }\n",
       "\n",
       "    .dataframe thead th {\n",
       "        text-align: right;\n",
       "    }\n",
       "</style>\n",
       "<table border=\"1\" class=\"dataframe\">\n",
       "  <thead>\n",
       "    <tr style=\"text-align: right;\">\n",
       "      <th></th>\n",
       "      <th>id</th>\n",
       "      <th>text</th>\n",
       "      <th>elimination</th>\n",
       "      <th>time</th>\n",
       "      <th>map</th>\n",
       "      <th>values</th>\n",
       "    </tr>\n",
       "  </thead>\n",
       "  <tbody>\n",
       "    <tr>\n",
       "      <th>0</th>\n",
       "      <td>OMRÅDE</td>\n",
       "      <td>region</td>\n",
       "      <td>True</td>\n",
       "      <td>False</td>\n",
       "      <td>denmark_municipality_07</td>\n",
       "      <td>[{'id': '000', 'text': 'All Denmark'}, {'id': ...</td>\n",
       "    </tr>\n",
       "    <tr>\n",
       "      <th>1</th>\n",
       "      <td>ENHED</td>\n",
       "      <td>unit</td>\n",
       "      <td>False</td>\n",
       "      <td>False</td>\n",
       "      <td>NaN</td>\n",
       "      <td>[{'id': '101', 'text': 'People with type of in...</td>\n",
       "    </tr>\n",
       "    <tr>\n",
       "      <th>2</th>\n",
       "      <td>KOEN</td>\n",
       "      <td>sex</td>\n",
       "      <td>True</td>\n",
       "      <td>False</td>\n",
       "      <td>NaN</td>\n",
       "      <td>[{'id': 'MOK', 'text': 'Men and women, total'}...</td>\n",
       "    </tr>\n",
       "    <tr>\n",
       "      <th>3</th>\n",
       "      <td>UDDNIV</td>\n",
       "      <td>level of education</td>\n",
       "      <td>False</td>\n",
       "      <td>False</td>\n",
       "      <td>NaN</td>\n",
       "      <td>[{'id': '10', 'text': '10 BASIC SCHOOL 8-10 gr...</td>\n",
       "    </tr>\n",
       "    <tr>\n",
       "      <th>4</th>\n",
       "      <td>INDKOMSTTYPE</td>\n",
       "      <td>type of income</td>\n",
       "      <td>False</td>\n",
       "      <td>False</td>\n",
       "      <td>NaN</td>\n",
       "      <td>[{'id': '100', 'text': '1 Disposable income (2...</td>\n",
       "    </tr>\n",
       "    <tr>\n",
       "      <th>5</th>\n",
       "      <td>Tid</td>\n",
       "      <td>time</td>\n",
       "      <td>False</td>\n",
       "      <td>True</td>\n",
       "      <td>NaN</td>\n",
       "      <td>[{'id': '2004', 'text': '2004'}, {'id': '2005'...</td>\n",
       "    </tr>\n",
       "  </tbody>\n",
       "</table>\n",
       "</div>"
      ],
      "text/plain": [
       "             id                text  elimination   time  \\\n",
       "0        OMRÅDE              region         True  False   \n",
       "1         ENHED                unit        False  False   \n",
       "2          KOEN                 sex         True  False   \n",
       "3        UDDNIV  level of education        False  False   \n",
       "4  INDKOMSTTYPE      type of income        False  False   \n",
       "5           Tid                time        False   True   \n",
       "\n",
       "                       map                                             values  \n",
       "0  denmark_municipality_07  [{'id': '000', 'text': 'All Denmark'}, {'id': ...  \n",
       "1                      NaN  [{'id': '101', 'text': 'People with type of in...  \n",
       "2                      NaN  [{'id': 'MOK', 'text': 'Men and women, total'}...  \n",
       "3                      NaN  [{'id': '10', 'text': '10 BASIC SCHOOL 8-10 gr...  \n",
       "4                      NaN  [{'id': '100', 'text': '1 Disposable income (2...  \n",
       "5                      NaN  [{'id': '2004', 'text': '2004'}, {'id': '2005'...  "
      ]
     },
     "execution_count": 25,
     "metadata": {},
     "output_type": "execute_result"
    }
   ],
   "source": [
    "indk_vars = Dst.get_variables(table_id='INDKP107')\n",
    "indk_vars"
   ]
  },
  {
   "cell_type": "markdown",
   "metadata": {},
   "source": [
    "**Values of variable in a dataset:**"
   ]
  },
  {
   "cell_type": "code",
   "execution_count": 26,
   "metadata": {},
   "outputs": [
    {
     "name": "stdout",
     "output_type": "stream",
     "text": [
      "ENHED\n",
      " id = 101, text = People with type of income (number)\n",
      " id = 110, text = Amount of income (DKK 1.000)\n",
      " id = 116, text = Average income for all people (DKK)\n",
      " id = 121, text = Average income for people with type of income (DKK)\n",
      "KOEN\n",
      " id = MOK, text = Men and women, total\n",
      " id = M, text = Men\n",
      " id = K, text = Women\n",
      "UDDNIV\n",
      " id = 10, text = 10 BASIC SCHOOL 8-10 grade\n",
      " id = 26, text = 20+25 UPPER SECONDARY SCHOOL\n",
      " id = 35, text = 35 VOCATIONAL EDUCATION\n",
      " id = 40, text = 40 SHORT-CYCLE HIGHER EDUCATION\n",
      " id = 61, text = 50+60 MEDIUM-CYCLE HIGHER EDUCATION, BACHLEOR\n",
      " id = 65, text = 65 LONG-CYCLE HIGHER EDUCATION\n",
      " id = 9, text = Not stated\n",
      "INDKOMSTTYPE\n",
      " id = 100, text = 1 Disposable income (2+30-31-32-35)\n",
      " id = 105, text = 2 Pre-tax Income, total (3+7+22+26+29)\n",
      " id = 110, text = 3 Primary income (4+5+6)\n",
      " id = 115, text = 4 Wages and salaries etc., total\n",
      " id = 120, text = 5 Entrepreneurial income, total\n",
      " id = 125, text = 6 Received fees subject to labour market contributions\n",
      " id = 130, text = 7 Public transfer incomes(8+14+19)\n",
      " id = 135, text = 8 Unemployment and cash benefits (9+10+11+12+13)\n",
      " id = 140, text = 9 Unemployment benefits\n",
      " id = 145, text = 10 Other benefits from unemployment funds\n",
      " id = 150, text = 11 Cash benefits\n",
      " id = 155, text = 12 Job training & Limited employment benefits\n",
      " id = 160, text = 13 Sickness- & parental leave\n",
      " id = 165, text = 14 Other transfers(15+16+17+18)\n",
      " id = 170, text = 15 Public educational grants\n",
      " id = 175, text = 16 Housing benefits\n",
      " id = 180, text = 17 Child benefits\n",
      " id = 185, text = 18 Green check\n",
      " id = 190, text = 19 Public pensions(20+21)\n",
      " id = 195, text = 20 Early retirement pay\n",
      " id = 200, text = 21 Disability and old age pensions\n",
      " id = 205, text = 22 Private pensions(23+24+25)\n",
      " id = 210, text = 23 Public servants pension\n",
      " id = 215, text = 24 Pension from the ATP (Labour Market Supplementary Pension Scheme)\n",
      " id = 220, text = 25 Labour market and private pensions (Annuities only)\n",
      " id = 225, text = 26 Capital income, gross (27+28)\n",
      " id = 230, text = 27 Interest received\n",
      " id = 235, text = 28 Other property income (From stocks etc.)\n",
      " id = 240, text = 29 Other personal income\n",
      " id = 245, text = 30 Imputed rent\n",
      " id = 250, text = 31 Interest expenses\n",
      " id = 255, text = 32 Tax, total (33+34)\n",
      " id = 260, text = 33 Income taxes\n",
      " id = 265, text = 34 Labour market contributions etc.\n",
      " id = 270, text = 35 Paid alimonies\n",
      " id = 275, text = Equivalised Disposable income\n",
      " id = 280, text = Land tax home owners\n",
      " id = 285, text = Land tax, tenants\n",
      " id = 290, text = Taxable income\n"
     ]
    }
   ],
   "source": [
    "indk_vars = Dst.get_variables(table_id='INDKP107')\n",
    "for id in ['ENHED','KOEN','UDDNIV','INDKOMSTTYPE']:\n",
    "    print(id)\n",
    "    values = indk_vars.loc[indk_vars.id == id,['values']].values[0,0]\n",
    "    for value in values:      \n",
    "        print(f' id = {value[\"id\"]}, text = {value[\"text\"]}')"
   ]
  },
  {
   "cell_type": "markdown",
   "metadata": {},
   "source": [
    "**Get data:**"
   ]
  },
  {
   "cell_type": "code",
   "execution_count": 27,
   "metadata": {},
   "outputs": [
    {
     "data": {
      "text/html": [
       "<div>\n",
       "<style scoped>\n",
       "    .dataframe tbody tr th:only-of-type {\n",
       "        vertical-align: middle;\n",
       "    }\n",
       "\n",
       "    .dataframe tbody tr th {\n",
       "        vertical-align: top;\n",
       "    }\n",
       "\n",
       "    .dataframe thead th {\n",
       "        text-align: right;\n",
       "    }\n",
       "</style>\n",
       "<table border=\"1\" class=\"dataframe\">\n",
       "  <thead>\n",
       "    <tr style=\"text-align: right;\">\n",
       "      <th></th>\n",
       "      <th>OMRÅDE</th>\n",
       "      <th>ENHED</th>\n",
       "      <th>KOEN</th>\n",
       "      <th>TID</th>\n",
       "      <th>UDDNIV</th>\n",
       "      <th>INDKOMSTTYPE</th>\n",
       "      <th>INDHOLD</th>\n",
       "    </tr>\n",
       "  </thead>\n",
       "  <tbody>\n",
       "    <tr>\n",
       "      <th>0</th>\n",
       "      <td>Syddjurs</td>\n",
       "      <td>Amount of income (DKK 1.000)</td>\n",
       "      <td>Women</td>\n",
       "      <td>2013</td>\n",
       "      <td>65 LONG-CYCLE HIGHER EDUCATION</td>\n",
       "      <td>1 Disposable income (2+30-31-32-35)</td>\n",
       "      <td>244579</td>\n",
       "    </tr>\n",
       "    <tr>\n",
       "      <th>1</th>\n",
       "      <td>Norddjurs</td>\n",
       "      <td>Amount of income (DKK 1.000)</td>\n",
       "      <td>Men</td>\n",
       "      <td>2013</td>\n",
       "      <td>65 LONG-CYCLE HIGHER EDUCATION</td>\n",
       "      <td>1 Disposable income (2+30-31-32-35)</td>\n",
       "      <td>132345</td>\n",
       "    </tr>\n",
       "    <tr>\n",
       "      <th>2</th>\n",
       "      <td>Norddjurs</td>\n",
       "      <td>Amount of income (DKK 1.000)</td>\n",
       "      <td>Women</td>\n",
       "      <td>2013</td>\n",
       "      <td>65 LONG-CYCLE HIGHER EDUCATION</td>\n",
       "      <td>1 Disposable income (2+30-31-32-35)</td>\n",
       "      <td>89413</td>\n",
       "    </tr>\n",
       "    <tr>\n",
       "      <th>3</th>\n",
       "      <td>Favrskov</td>\n",
       "      <td>Amount of income (DKK 1.000)</td>\n",
       "      <td>Men</td>\n",
       "      <td>2013</td>\n",
       "      <td>65 LONG-CYCLE HIGHER EDUCATION</td>\n",
       "      <td>1 Disposable income (2+30-31-32-35)</td>\n",
       "      <td>526107</td>\n",
       "    </tr>\n",
       "    <tr>\n",
       "      <th>4</th>\n",
       "      <td>Favrskov</td>\n",
       "      <td>Amount of income (DKK 1.000)</td>\n",
       "      <td>Women</td>\n",
       "      <td>2013</td>\n",
       "      <td>65 LONG-CYCLE HIGHER EDUCATION</td>\n",
       "      <td>1 Disposable income (2+30-31-32-35)</td>\n",
       "      <td>358347</td>\n",
       "    </tr>\n",
       "  </tbody>\n",
       "</table>\n",
       "</div>"
      ],
      "text/plain": [
       "      OMRÅDE                         ENHED   KOEN   TID  \\\n",
       "0   Syddjurs  Amount of income (DKK 1.000)  Women  2013   \n",
       "1  Norddjurs  Amount of income (DKK 1.000)    Men  2013   \n",
       "2  Norddjurs  Amount of income (DKK 1.000)  Women  2013   \n",
       "3   Favrskov  Amount of income (DKK 1.000)    Men  2013   \n",
       "4   Favrskov  Amount of income (DKK 1.000)  Women  2013   \n",
       "\n",
       "                           UDDNIV                         INDKOMSTTYPE  \\\n",
       "0  65 LONG-CYCLE HIGHER EDUCATION  1 Disposable income (2+30-31-32-35)   \n",
       "1  65 LONG-CYCLE HIGHER EDUCATION  1 Disposable income (2+30-31-32-35)   \n",
       "2  65 LONG-CYCLE HIGHER EDUCATION  1 Disposable income (2+30-31-32-35)   \n",
       "3  65 LONG-CYCLE HIGHER EDUCATION  1 Disposable income (2+30-31-32-35)   \n",
       "4  65 LONG-CYCLE HIGHER EDUCATION  1 Disposable income (2+30-31-32-35)   \n",
       "\n",
       "   INDHOLD  \n",
       "0   244579  \n",
       "1   132345  \n",
       "2    89413  \n",
       "3   526107  \n",
       "4   358347  "
      ]
     },
     "execution_count": 27,
     "metadata": {},
     "output_type": "execute_result"
    }
   ],
   "source": [
    "variables = {'OMRÅDE':['*'],'ENHED':['110'],'KOEN':['M','K'],'TID':['*'],'UDDNIV':['65'],'INDKOMSTTYPE':['100']}\n",
    "inc_api = Dst.get_data(table_id = 'INDKP107', variables=variables)\n",
    "inc_api.head(5)"
   ]
  },
  {
   "cell_type": "markdown",
   "metadata": {},
   "source": [
    "## 2.2 FRED (Federal Reserve Economic Data)"
   ]
  },
  {
   "cell_type": "markdown",
   "metadata": {},
   "source": [
    "**GDP data** for the US"
   ]
  },
  {
   "cell_type": "code",
   "execution_count": 28,
   "metadata": {},
   "outputs": [],
   "source": [
    "start = datetime.datetime(2005,1,1)\n",
    "end = datetime.datetime(2017,1,1)\n",
    "gdp = pandas_datareader.data.DataReader('GDP', 'fred', start, end)"
   ]
  },
  {
   "cell_type": "code",
   "execution_count": 29,
   "metadata": {},
   "outputs": [
    {
     "data": {
      "text/html": [
       "<div>\n",
       "<style scoped>\n",
       "    .dataframe tbody tr th:only-of-type {\n",
       "        vertical-align: middle;\n",
       "    }\n",
       "\n",
       "    .dataframe tbody tr th {\n",
       "        vertical-align: top;\n",
       "    }\n",
       "\n",
       "    .dataframe thead th {\n",
       "        text-align: right;\n",
       "    }\n",
       "</style>\n",
       "<table border=\"1\" class=\"dataframe\">\n",
       "  <thead>\n",
       "    <tr style=\"text-align: right;\">\n",
       "      <th></th>\n",
       "      <th>GDP</th>\n",
       "    </tr>\n",
       "    <tr>\n",
       "      <th>DATE</th>\n",
       "      <th></th>\n",
       "    </tr>\n",
       "  </thead>\n",
       "  <tbody>\n",
       "    <tr>\n",
       "      <th>2005-01-01</th>\n",
       "      <td>12761.337</td>\n",
       "    </tr>\n",
       "    <tr>\n",
       "      <th>2005-04-01</th>\n",
       "      <td>12910.022</td>\n",
       "    </tr>\n",
       "    <tr>\n",
       "      <th>2005-07-01</th>\n",
       "      <td>13142.873</td>\n",
       "    </tr>\n",
       "    <tr>\n",
       "      <th>2005-10-01</th>\n",
       "      <td>13332.316</td>\n",
       "    </tr>\n",
       "    <tr>\n",
       "      <th>2006-01-01</th>\n",
       "      <td>13603.933</td>\n",
       "    </tr>\n",
       "    <tr>\n",
       "      <th>2006-04-01</th>\n",
       "      <td>13749.806</td>\n",
       "    </tr>\n",
       "    <tr>\n",
       "      <th>2006-07-01</th>\n",
       "      <td>13867.469</td>\n",
       "    </tr>\n",
       "    <tr>\n",
       "      <th>2006-10-01</th>\n",
       "      <td>14037.228</td>\n",
       "    </tr>\n",
       "    <tr>\n",
       "      <th>2007-01-01</th>\n",
       "      <td>14208.569</td>\n",
       "    </tr>\n",
       "    <tr>\n",
       "      <th>2007-04-01</th>\n",
       "      <td>14382.363</td>\n",
       "    </tr>\n",
       "  </tbody>\n",
       "</table>\n",
       "</div>"
      ],
      "text/plain": [
       "                  GDP\n",
       "DATE                 \n",
       "2005-01-01  12761.337\n",
       "2005-04-01  12910.022\n",
       "2005-07-01  13142.873\n",
       "2005-10-01  13332.316\n",
       "2006-01-01  13603.933\n",
       "2006-04-01  13749.806\n",
       "2006-07-01  13867.469\n",
       "2006-10-01  14037.228\n",
       "2007-01-01  14208.569\n",
       "2007-04-01  14382.363"
      ]
     },
     "execution_count": 29,
     "metadata": {},
     "output_type": "execute_result"
    }
   ],
   "source": [
    "gdp.head(10)"
   ]
  },
  {
   "cell_type": "markdown",
   "metadata": {},
   "source": [
    "**Finding data:**\n",
    "\n",
    "1. go to https://fred.stlouisfed.org \n",
    "2. search for employment\n",
    "3. click first link\n",
    "4. table name is next to header "
   ]
  },
  {
   "cell_type": "markdown",
   "metadata": {},
   "source": [
    "**Fetch:**"
   ]
  },
  {
   "cell_type": "code",
   "execution_count": 30,
   "metadata": {},
   "outputs": [],
   "source": [
    "empl_us = pandas_datareader.data.DataReader('PAYEMS', 'fred', datetime.datetime(1939,1,1), datetime.datetime(2018,12,1))"
   ]
  },
  {
   "cell_type": "markdown",
   "metadata": {},
   "source": [
    "**Plot:**"
   ]
  },
  {
   "cell_type": "code",
   "execution_count": 31,
   "metadata": {},
   "outputs": [
    {
     "data": {
      "image/png": "[encoded data removed]",
      "text/plain": [
       "<Figure size 432x288 with 1 Axes>"
      ]
     },
     "metadata": {},
     "output_type": "display_data"
    }
   ],
   "source": [
    "fig = plt.figure()\n",
    "ax = fig.add_subplot(1,1,1)\n",
    "\n",
    "empl_us.plot(ax=ax)\n",
    "\n",
    "ax.legend(frameon=True)\n",
    "ax.set_xlabel('')\n",
    "ax.set_ylabel('employment (US)');"
   ]
  },
  {
   "cell_type": "markdown",
   "metadata": {},
   "source": [
    "## 2.3 World Bank indicators: `wb`"
   ]
  },
  {
   "cell_type": "markdown",
   "metadata": {},
   "source": [
    "**Finding data:**\n",
    "\n",
    "1. go to https://data.worldbank.org/indicator/\n",
    "2. search for GDP \n",
    "3. variable name (\"NY.GDP.PCAP.KD\") is in the URL"
   ]
  },
  {
   "cell_type": "markdown",
   "metadata": {},
   "source": [
    "**Fetch GDP:**"
   ]
  },
  {
   "cell_type": "code",
   "execution_count": 32,
   "metadata": {},
   "outputs": [],
   "source": [
    "from pandas_datareader import wb"
   ]
  },
  {
   "cell_type": "code",
   "execution_count": 33,
   "metadata": {},
   "outputs": [
    {
     "data": {
      "text/html": [
       "<div>\n",
       "<style scoped>\n",
       "    .dataframe tbody tr th:only-of-type {\n",
       "        vertical-align: middle;\n",
       "    }\n",
       "\n",
       "    .dataframe tbody tr th {\n",
       "        vertical-align: top;\n",
       "    }\n",
       "\n",
       "    .dataframe thead th {\n",
       "        text-align: right;\n",
       "    }\n",
       "</style>\n",
       "<table border=\"1\" class=\"dataframe\">\n",
       "  <thead>\n",
       "    <tr style=\"text-align: right;\">\n",
       "      <th></th>\n",
       "      <th>country</th>\n",
       "      <th>year</th>\n",
       "      <th>GDP</th>\n",
       "    </tr>\n",
       "  </thead>\n",
       "  <tbody>\n",
       "    <tr>\n",
       "      <th>0</th>\n",
       "      <td>Denmark</td>\n",
       "      <td>2017</td>\n",
       "      <td>62733.019808</td>\n",
       "    </tr>\n",
       "    <tr>\n",
       "      <th>1</th>\n",
       "      <td>Denmark</td>\n",
       "      <td>2016</td>\n",
       "      <td>61877.976481</td>\n",
       "    </tr>\n",
       "    <tr>\n",
       "      <th>2</th>\n",
       "      <td>Denmark</td>\n",
       "      <td>2015</td>\n",
       "      <td>60402.129248</td>\n",
       "    </tr>\n",
       "    <tr>\n",
       "      <th>3</th>\n",
       "      <td>Denmark</td>\n",
       "      <td>2014</td>\n",
       "      <td>59437.947322</td>\n",
       "    </tr>\n",
       "    <tr>\n",
       "      <th>4</th>\n",
       "      <td>Denmark</td>\n",
       "      <td>2013</td>\n",
       "      <td>58788.084162</td>\n",
       "    </tr>\n",
       "  </tbody>\n",
       "</table>\n",
       "</div>"
      ],
      "text/plain": [
       "   country  year           GDP\n",
       "0  Denmark  2017  62733.019808\n",
       "1  Denmark  2016  61877.976481\n",
       "2  Denmark  2015  60402.129248\n",
       "3  Denmark  2014  59437.947322\n",
       "4  Denmark  2013  58788.084162"
      ]
     },
     "execution_count": 33,
     "metadata": {},
     "output_type": "execute_result"
    }
   ],
   "source": [
    "wb_gdp = wb.download(indicator='NY.GDP.PCAP.KD', country=['SE','DK','NO'], start=1990, end=2017)\n",
    "wb_gdp = wb_gdp.rename(columns = {'NY.GDP.PCAP.KD':'GDP'})\n",
    "wb_gdp = wb_gdp.reset_index()\n",
    "wb_gdp.head(5)"
   ]
  },
  {
   "cell_type": "code",
   "execution_count": 34,
   "metadata": {},
   "outputs": [
    {
     "name": "stdout",
     "output_type": "stream",
     "text": [
      "<class 'pandas.core.frame.DataFrame'>\n",
      "RangeIndex: 84 entries, 0 to 83\n",
      "Data columns (total 3 columns):\n",
      " #   Column   Non-Null Count  Dtype  \n",
      "---  ------   --------------  -----  \n",
      " 0   country  84 non-null     object \n",
      " 1   year     84 non-null     object \n",
      " 2   GDP      84 non-null     float64\n",
      "dtypes: float64(1), object(2)\n",
      "memory usage: 2.1+ KB\n"
     ]
    }
   ],
   "source": [
    "wb_gdp.info()"
   ]
  },
  {
   "cell_type": "markdown",
   "metadata": {},
   "source": [
    "**Problem:** Unfortunately, it turns out that the dataframe has stored the variable year as an \"object\", meaning in practice that it is a string. Country is an object because it is a string, but that cannot be helped. Fortunately, GDP is a float (i.e. a number). Let's convert year to make it an integer:"
   ]
  },
  {
   "cell_type": "code",
   "execution_count": 35,
   "metadata": {},
   "outputs": [
    {
     "name": "stdout",
     "output_type": "stream",
     "text": [
      "<class 'pandas.core.frame.DataFrame'>\n",
      "RangeIndex: 84 entries, 0 to 83\n",
      "Data columns (total 3 columns):\n",
      " #   Column   Non-Null Count  Dtype  \n",
      "---  ------   --------------  -----  \n",
      " 0   country  84 non-null     object \n",
      " 1   year     84 non-null     int32  \n",
      " 2   GDP      84 non-null     float64\n",
      "dtypes: float64(1), int32(1), object(1)\n",
      "memory usage: 1.8+ KB\n"
     ]
    }
   ],
   "source": [
    "wb_gdp.year = wb_gdp.year.astype(int)\n",
    "wb_gdp.info()"
   ]
  },
  {
   "cell_type": "markdown",
   "metadata": {},
   "source": [
    "**Fetch employment-to-population ratio:**"
   ]
  },
  {
   "cell_type": "code",
   "execution_count": 36,
   "metadata": {},
   "outputs": [
    {
     "data": {
      "text/html": [
       "<div>\n",
       "<style scoped>\n",
       "    .dataframe tbody tr th:only-of-type {\n",
       "        vertical-align: middle;\n",
       "    }\n",
       "\n",
       "    .dataframe tbody tr th {\n",
       "        vertical-align: top;\n",
       "    }\n",
       "\n",
       "    .dataframe thead th {\n",
       "        text-align: right;\n",
       "    }\n",
       "</style>\n",
       "<table border=\"1\" class=\"dataframe\">\n",
       "  <thead>\n",
       "    <tr style=\"text-align: right;\">\n",
       "      <th></th>\n",
       "      <th>country</th>\n",
       "      <th>year</th>\n",
       "      <th>employment_to_pop</th>\n",
       "    </tr>\n",
       "  </thead>\n",
       "  <tbody>\n",
       "    <tr>\n",
       "      <th>0</th>\n",
       "      <td>Denmark</td>\n",
       "      <td>2017</td>\n",
       "      <td>58.472000</td>\n",
       "    </tr>\n",
       "    <tr>\n",
       "      <th>1</th>\n",
       "      <td>Denmark</td>\n",
       "      <td>2016</td>\n",
       "      <td>59.400002</td>\n",
       "    </tr>\n",
       "    <tr>\n",
       "      <th>2</th>\n",
       "      <td>Denmark</td>\n",
       "      <td>2015</td>\n",
       "      <td>58.196999</td>\n",
       "    </tr>\n",
       "  </tbody>\n",
       "</table>\n",
       "</div>"
      ],
      "text/plain": [
       "   country  year  employment_to_pop\n",
       "0  Denmark  2017          58.472000\n",
       "1  Denmark  2016          59.400002\n",
       "2  Denmark  2015          58.196999"
      ]
     },
     "execution_count": 36,
     "metadata": {},
     "output_type": "execute_result"
    }
   ],
   "source": [
    "wb_empl = wb.download(indicator='SL.EMP.TOTL.SP.ZS', country=['SE','DK','NO'], start=1990, end=2017)\n",
    "wb_empl.rename(columns = {'SL.EMP.TOTL.SP.ZS':'employment_to_pop'}, inplace=True)\n",
    "wb_empl.reset_index(inplace = True)\n",
    "wb_empl.year = wb_empl.year.astype(int)\n",
    "wb_empl.head(3)"
   ]
  },
  {
   "cell_type": "markdown",
   "metadata": {},
   "source": [
    "**Merge:**"
   ]
  },
  {
   "cell_type": "code",
   "execution_count": 37,
   "metadata": {},
   "outputs": [
    {
     "data": {
      "text/html": [
       "<div>\n",
       "<style scoped>\n",
       "    .dataframe tbody tr th:only-of-type {\n",
       "        vertical-align: middle;\n",
       "    }\n",
       "\n",
       "    .dataframe tbody tr th {\n",
       "        vertical-align: top;\n",
       "    }\n",
       "\n",
       "    .dataframe thead th {\n",
       "        text-align: right;\n",
       "    }\n",
       "</style>\n",
       "<table border=\"1\" class=\"dataframe\">\n",
       "  <thead>\n",
       "    <tr style=\"text-align: right;\">\n",
       "      <th></th>\n",
       "      <th>country</th>\n",
       "      <th>year</th>\n",
       "      <th>GDP</th>\n",
       "      <th>employment_to_pop</th>\n",
       "    </tr>\n",
       "  </thead>\n",
       "  <tbody>\n",
       "    <tr>\n",
       "      <th>0</th>\n",
       "      <td>Denmark</td>\n",
       "      <td>2017</td>\n",
       "      <td>62733.019808</td>\n",
       "      <td>58.472000</td>\n",
       "    </tr>\n",
       "    <tr>\n",
       "      <th>1</th>\n",
       "      <td>Denmark</td>\n",
       "      <td>2016</td>\n",
       "      <td>61877.976481</td>\n",
       "      <td>59.400002</td>\n",
       "    </tr>\n",
       "    <tr>\n",
       "      <th>2</th>\n",
       "      <td>Denmark</td>\n",
       "      <td>2015</td>\n",
       "      <td>60402.129248</td>\n",
       "      <td>58.196999</td>\n",
       "    </tr>\n",
       "    <tr>\n",
       "      <th>3</th>\n",
       "      <td>Denmark</td>\n",
       "      <td>2014</td>\n",
       "      <td>59437.947322</td>\n",
       "      <td>57.994999</td>\n",
       "    </tr>\n",
       "    <tr>\n",
       "      <th>4</th>\n",
       "      <td>Denmark</td>\n",
       "      <td>2013</td>\n",
       "      <td>58788.084162</td>\n",
       "      <td>57.964001</td>\n",
       "    </tr>\n",
       "  </tbody>\n",
       "</table>\n",
       "</div>"
      ],
      "text/plain": [
       "   country  year           GDP  employment_to_pop\n",
       "0  Denmark  2017  62733.019808          58.472000\n",
       "1  Denmark  2016  61877.976481          59.400002\n",
       "2  Denmark  2015  60402.129248          58.196999\n",
       "3  Denmark  2014  59437.947322          57.994999\n",
       "4  Denmark  2013  58788.084162          57.964001"
      ]
     },
     "execution_count": 37,
     "metadata": {},
     "output_type": "execute_result"
    }
   ],
   "source": [
    "wb = pd.merge(wb_gdp, wb_empl, how='outer', on = ['country','year']);\n",
    "wb.head(5)"
   ]
  },
  {
   "cell_type": "markdown",
   "metadata": {},
   "source": [
    "<a id=\"Split-apply-combine\"></a>\n",
    "\n",
    "# 3. Split-apply-combine"
   ]
  },
  {
   "cell_type": "markdown",
   "metadata": {},
   "source": [
    "One of the most useful skills to learn is **the split-apply-combine process**. For example, we may want to compute the average employment rate within a municipality over time and calculate whether the employment rate in each year is above or below the average. We calculate this variable using a split-apply-combine procedure: \n",
    "\n",
    "1. **split**: divide the dataset into units (one for each municipality)\n",
    "2. **apply**: compute the average employment rate for each unit\n",
    "3. **combine**: merge this new variable back onto the original dataset"
   ]
  },
  {
   "cell_type": "markdown",
   "metadata": {},
   "source": [
    "## 3.1 Groupby"
   ]
  },
  {
   "cell_type": "markdown",
   "metadata": {},
   "source": [
    "**Example data:**"
   ]
  },
  {
   "cell_type": "code",
   "execution_count": 38,
   "metadata": {},
   "outputs": [
    {
     "data": {
      "text/html": [
       "<div>\n",
       "<style scoped>\n",
       "    .dataframe tbody tr th:only-of-type {\n",
       "        vertical-align: middle;\n",
       "    }\n",
       "\n",
       "    .dataframe tbody tr th {\n",
       "        vertical-align: top;\n",
       "    }\n",
       "\n",
       "    .dataframe thead th {\n",
       "        text-align: right;\n",
       "    }\n",
       "</style>\n",
       "<table border=\"1\" class=\"dataframe\">\n",
       "  <thead>\n",
       "    <tr style=\"text-align: right;\">\n",
       "      <th></th>\n",
       "      <th>municipality</th>\n",
       "      <th>year</th>\n",
       "      <th>e</th>\n",
       "    </tr>\n",
       "  </thead>\n",
       "  <tbody>\n",
       "    <tr>\n",
       "      <th>68</th>\n",
       "      <td>Aabenraa</td>\n",
       "      <td>2008</td>\n",
       "      <td>74.6</td>\n",
       "    </tr>\n",
       "    <tr>\n",
       "      <th>167</th>\n",
       "      <td>Aabenraa</td>\n",
       "      <td>2009</td>\n",
       "      <td>71.6</td>\n",
       "    </tr>\n",
       "    <tr>\n",
       "      <th>266</th>\n",
       "      <td>Aabenraa</td>\n",
       "      <td>2010</td>\n",
       "      <td>70.9</td>\n",
       "    </tr>\n",
       "    <tr>\n",
       "      <th>365</th>\n",
       "      <td>Aabenraa</td>\n",
       "      <td>2011</td>\n",
       "      <td>70.2</td>\n",
       "    </tr>\n",
       "    <tr>\n",
       "      <th>464</th>\n",
       "      <td>Aabenraa</td>\n",
       "      <td>2012</td>\n",
       "      <td>69.5</td>\n",
       "    </tr>\n",
       "  </tbody>\n",
       "</table>\n",
       "</div>"
      ],
      "text/plain": [
       "    municipality  year     e\n",
       "68      Aabenraa  2008  74.6\n",
       "167     Aabenraa  2009  71.6\n",
       "266     Aabenraa  2010  70.9\n",
       "365     Aabenraa  2011  70.2\n",
       "464     Aabenraa  2012  69.5"
      ]
     },
     "execution_count": 38,
     "metadata": {},
     "output_type": "execute_result"
    }
   ],
   "source": [
    "empl = empl.sort_values(['municipality','year']) # sort by first municipality then year\n",
    "empl.head(5)"
   ]
  },
  {
   "cell_type": "markdown",
   "metadata": {},
   "source": [
    "Use **groupby** to calculate **within means**:"
   ]
  },
  {
   "cell_type": "code",
   "execution_count": 39,
   "metadata": {},
   "outputs": [
    {
     "data": {
      "text/plain": [
       "municipality\n",
       "Aabenraa       71.19\n",
       "Aalborg        69.46\n",
       "Aarhus         68.96\n",
       "Albertslund    68.58\n",
       "Allerød        81.37\n",
       "Name: e, dtype: float64"
      ]
     },
     "execution_count": 39,
     "metadata": {},
     "output_type": "execute_result"
    }
   ],
   "source": [
    "empl.groupby('municipality')['e'].mean().head(5)"
   ]
  },
  {
   "cell_type": "markdown",
   "metadata": {},
   "source": [
    "**Custom functions** can be specified by using the `lambda` notation. E.g., average change:"
   ]
  },
  {
   "cell_type": "code",
   "execution_count": 40,
   "metadata": {},
   "outputs": [
    {
     "data": {
      "text/plain": [
       "municipality\n",
       "Aabenraa      -0.188889\n",
       "Aalborg       -0.366667\n",
       "Aarhus        -0.300000\n",
       "Albertslund   -0.322222\n",
       "Allerød       -0.177778\n",
       "Name: e, dtype: float64"
      ]
     },
     "execution_count": 40,
     "metadata": {},
     "output_type": "execute_result"
    }
   ],
   "source": [
    "empl.groupby('municipality')['e'].apply(lambda x: x.diff(1).mean()).head(5)"
   ]
  },
  {
   "cell_type": "markdown",
   "metadata": {},
   "source": [
    "Or:"
   ]
  },
  {
   "cell_type": "code",
   "execution_count": 41,
   "metadata": {},
   "outputs": [
    {
     "data": {
      "text/plain": [
       "municipality\n",
       "Aabenraa      -0.188889\n",
       "Aalborg       -0.366667\n",
       "Aarhus        -0.300000\n",
       "Albertslund   -0.322222\n",
       "Allerød       -0.177778\n",
       "Name: e, dtype: float64"
      ]
     },
     "execution_count": 41,
     "metadata": {},
     "output_type": "execute_result"
    }
   ],
   "source": [
    "myfun = lambda x: np.mean(x[1:]-x[:-1])\n",
    "empl.groupby('municipality')['e'].apply(lambda x: myfun(x.values)).head(5)"
   ]
  },
  {
   "cell_type": "markdown",
   "metadata": {},
   "source": [
    "**Plot statistics**: Dispersion in employment rate across Danish municipalities over time."
   ]
  },
  {
   "cell_type": "code",
   "execution_count": 42,
   "metadata": {},
   "outputs": [
    {
     "data": {
      "image/png": "[encoded data removed]",
      "text/plain": [
       "<Figure size 432x288 with 1 Axes>"
      ]
     },
     "metadata": {},
     "output_type": "display_data"
    }
   ],
   "source": [
    "fig = plt.figure()\n",
    "ax = fig.add_subplot(1,1,1)\n",
    "\n",
    "empl.groupby('year')['e'].std().plot(ax=ax,style='-o')\n",
    "\n",
    "ax.set_ylabel('std. dev.')\n",
    "ax.set_title('std. dev. across municipalities in the employment rate');"
   ]
  },
  {
   "cell_type": "markdown",
   "metadata": {},
   "source": [
    "## 3.2 Split-Apply-Combine"
   ]
  },
  {
   "cell_type": "markdown",
   "metadata": {},
   "source": [
    "**Goal:** Calculate within municipality difference to mean employment rate."
   ]
  },
  {
   "cell_type": "markdown",
   "metadata": {},
   "source": [
    "**1. Split**:"
   ]
  },
  {
   "cell_type": "code",
   "execution_count": 43,
   "metadata": {},
   "outputs": [],
   "source": [
    "e_grouped = empl.groupby('municipality')['e']"
   ]
  },
  {
   "cell_type": "markdown",
   "metadata": {},
   "source": [
    "**2. Apply:**"
   ]
  },
  {
   "cell_type": "code",
   "execution_count": 44,
   "metadata": {},
   "outputs": [
    {
     "data": {
      "text/plain": [
       "municipality\n",
       "Aabenraa       71.19\n",
       "Aalborg        69.46\n",
       "Aarhus         68.96\n",
       "Albertslund    68.58\n",
       "Allerød        81.37\n",
       "Assens         72.03\n",
       "Ballerup       72.78\n",
       "Billund        76.53\n",
       "Bornholm       67.32\n",
       "Brøndby        68.71\n",
       "Name: e, dtype: float64"
      ]
     },
     "execution_count": 44,
     "metadata": {},
     "output_type": "execute_result"
    }
   ],
   "source": [
    "e_mean = e_grouped.mean() # mean employment rate\n",
    "e_mean.head(10)"
   ]
  },
  {
   "cell_type": "markdown",
   "metadata": {},
   "source": [
    "Change name of series:"
   ]
  },
  {
   "cell_type": "code",
   "execution_count": 45,
   "metadata": {},
   "outputs": [],
   "source": [
    "e_mean.name = 'e_mean' # necessary for join"
   ]
  },
  {
   "cell_type": "markdown",
   "metadata": {},
   "source": [
    "**3. Combine:**"
   ]
  },
  {
   "cell_type": "code",
   "execution_count": 46,
   "metadata": {},
   "outputs": [
    {
     "data": {
      "text/html": [
       "<div>\n",
       "<style scoped>\n",
       "    .dataframe tbody tr th:only-of-type {\n",
       "        vertical-align: middle;\n",
       "    }\n",
       "\n",
       "    .dataframe tbody tr th {\n",
       "        vertical-align: top;\n",
       "    }\n",
       "\n",
       "    .dataframe thead th {\n",
       "        text-align: right;\n",
       "    }\n",
       "</style>\n",
       "<table border=\"1\" class=\"dataframe\">\n",
       "  <thead>\n",
       "    <tr style=\"text-align: right;\">\n",
       "      <th></th>\n",
       "      <th>year</th>\n",
       "      <th>e</th>\n",
       "      <th>e_mean</th>\n",
       "      <th>diff</th>\n",
       "    </tr>\n",
       "    <tr>\n",
       "      <th>municipality</th>\n",
       "      <th></th>\n",
       "      <th></th>\n",
       "      <th></th>\n",
       "      <th></th>\n",
       "    </tr>\n",
       "  </thead>\n",
       "  <tbody>\n",
       "    <tr>\n",
       "      <th>Copenhagen</th>\n",
       "      <td>2008</td>\n",
       "      <td>72.5</td>\n",
       "      <td>70.54</td>\n",
       "      <td>1.96</td>\n",
       "    </tr>\n",
       "    <tr>\n",
       "      <th>Copenhagen</th>\n",
       "      <td>2009</td>\n",
       "      <td>70.0</td>\n",
       "      <td>70.54</td>\n",
       "      <td>-0.54</td>\n",
       "    </tr>\n",
       "    <tr>\n",
       "      <th>Copenhagen</th>\n",
       "      <td>2010</td>\n",
       "      <td>69.7</td>\n",
       "      <td>70.54</td>\n",
       "      <td>-0.84</td>\n",
       "    </tr>\n",
       "    <tr>\n",
       "      <th>Copenhagen</th>\n",
       "      <td>2011</td>\n",
       "      <td>69.6</td>\n",
       "      <td>70.54</td>\n",
       "      <td>-0.94</td>\n",
       "    </tr>\n",
       "    <tr>\n",
       "      <th>Copenhagen</th>\n",
       "      <td>2012</td>\n",
       "      <td>69.4</td>\n",
       "      <td>70.54</td>\n",
       "      <td>-1.14</td>\n",
       "    </tr>\n",
       "    <tr>\n",
       "      <th>Copenhagen</th>\n",
       "      <td>2013</td>\n",
       "      <td>69.7</td>\n",
       "      <td>70.54</td>\n",
       "      <td>-0.84</td>\n",
       "    </tr>\n",
       "    <tr>\n",
       "      <th>Copenhagen</th>\n",
       "      <td>2014</td>\n",
       "      <td>70.0</td>\n",
       "      <td>70.54</td>\n",
       "      <td>-0.54</td>\n",
       "    </tr>\n",
       "    <tr>\n",
       "      <th>Copenhagen</th>\n",
       "      <td>2015</td>\n",
       "      <td>70.8</td>\n",
       "      <td>70.54</td>\n",
       "      <td>0.26</td>\n",
       "    </tr>\n",
       "    <tr>\n",
       "      <th>Copenhagen</th>\n",
       "      <td>2016</td>\n",
       "      <td>71.5</td>\n",
       "      <td>70.54</td>\n",
       "      <td>0.96</td>\n",
       "    </tr>\n",
       "    <tr>\n",
       "      <th>Copenhagen</th>\n",
       "      <td>2017</td>\n",
       "      <td>72.2</td>\n",
       "      <td>70.54</td>\n",
       "      <td>1.66</td>\n",
       "    </tr>\n",
       "  </tbody>\n",
       "</table>\n",
       "</div>"
      ],
      "text/plain": [
       "              year     e  e_mean  diff\n",
       "municipality                          \n",
       "Copenhagen    2008  72.5   70.54  1.96\n",
       "Copenhagen    2009  70.0   70.54 -0.54\n",
       "Copenhagen    2010  69.7   70.54 -0.84\n",
       "Copenhagen    2011  69.6   70.54 -0.94\n",
       "Copenhagen    2012  69.4   70.54 -1.14\n",
       "Copenhagen    2013  69.7   70.54 -0.84\n",
       "Copenhagen    2014  70.0   70.54 -0.54\n",
       "Copenhagen    2015  70.8   70.54  0.26\n",
       "Copenhagen    2016  71.5   70.54  0.96\n",
       "Copenhagen    2017  72.2   70.54  1.66"
      ]
     },
     "execution_count": 46,
     "metadata": {},
     "output_type": "execute_result"
    }
   ],
   "source": [
    "empl_ = empl.set_index('municipality').join(e_mean, how='left')\n",
    "empl_['diff'] = empl_.e - empl_.e_mean\n",
    "empl_.xs('Copenhagen')"
   ]
  },
  {
   "cell_type": "markdown",
   "metadata": {},
   "source": [
    "**Plot:**"
   ]
  },
  {
   "cell_type": "code",
   "execution_count": 47,
   "metadata": {},
   "outputs": [
    {
     "data": {
      "text/plain": [
       "Text(0, 0.5, 'difference to mean')"
      ]
     },
     "execution_count": 47,
     "metadata": {},
     "output_type": "execute_result"
    },
    {
     "data": {
      "image/png": "[encoded data removed]",
      "text/plain": [
       "<Figure size 432x288 with 1 Axes>"
      ]
     },
     "metadata": {},
     "output_type": "display_data"
    }
   ],
   "source": [
    "municipalities = ['Copenhagen','Roskilde','Lejre']\n",
    "\n",
    "fig = plt.figure()\n",
    "ax = fig.add_subplot(1,1,1)\n",
    "\n",
    "for m in municipalities:\n",
    "    empl_.xs(m).plot(x='year',y='diff',ax=ax,label=m)\n",
    "\n",
    "ax.legend(frameon=True)\n",
    "ax.set_ylabel('difference to mean')"
   ]
  },
  {
   "cell_type": "markdown",
   "metadata": {},
   "source": [
    "### with `agg()`"
   ]
  },
  {
   "cell_type": "markdown",
   "metadata": {},
   "source": [
    "**Agg:** The same value for all observations in a group."
   ]
  },
  {
   "cell_type": "code",
   "execution_count": 48,
   "metadata": {},
   "outputs": [
    {
     "data": {
      "text/html": [
       "<div>\n",
       "<style scoped>\n",
       "    .dataframe tbody tr th:only-of-type {\n",
       "        vertical-align: middle;\n",
       "    }\n",
       "\n",
       "    .dataframe tbody tr th {\n",
       "        vertical-align: top;\n",
       "    }\n",
       "\n",
       "    .dataframe thead th {\n",
       "        text-align: right;\n",
       "    }\n",
       "</style>\n",
       "<table border=\"1\" class=\"dataframe\">\n",
       "  <thead>\n",
       "    <tr style=\"text-align: right;\">\n",
       "      <th></th>\n",
       "      <th>year</th>\n",
       "      <th>e</th>\n",
       "      <th>e_mean</th>\n",
       "      <th>diff</th>\n",
       "    </tr>\n",
       "    <tr>\n",
       "      <th>municipality</th>\n",
       "      <th></th>\n",
       "      <th></th>\n",
       "      <th></th>\n",
       "      <th></th>\n",
       "    </tr>\n",
       "  </thead>\n",
       "  <tbody>\n",
       "    <tr>\n",
       "      <th>Copenhagen</th>\n",
       "      <td>2008</td>\n",
       "      <td>72.5</td>\n",
       "      <td>70.54</td>\n",
       "      <td>1.96</td>\n",
       "    </tr>\n",
       "    <tr>\n",
       "      <th>Copenhagen</th>\n",
       "      <td>2009</td>\n",
       "      <td>70.0</td>\n",
       "      <td>70.54</td>\n",
       "      <td>-0.54</td>\n",
       "    </tr>\n",
       "    <tr>\n",
       "      <th>Copenhagen</th>\n",
       "      <td>2010</td>\n",
       "      <td>69.7</td>\n",
       "      <td>70.54</td>\n",
       "      <td>-0.84</td>\n",
       "    </tr>\n",
       "    <tr>\n",
       "      <th>Copenhagen</th>\n",
       "      <td>2011</td>\n",
       "      <td>69.6</td>\n",
       "      <td>70.54</td>\n",
       "      <td>-0.94</td>\n",
       "    </tr>\n",
       "    <tr>\n",
       "      <th>Copenhagen</th>\n",
       "      <td>2012</td>\n",
       "      <td>69.4</td>\n",
       "      <td>70.54</td>\n",
       "      <td>-1.14</td>\n",
       "    </tr>\n",
       "    <tr>\n",
       "      <th>Copenhagen</th>\n",
       "      <td>2013</td>\n",
       "      <td>69.7</td>\n",
       "      <td>70.54</td>\n",
       "      <td>-0.84</td>\n",
       "    </tr>\n",
       "    <tr>\n",
       "      <th>Copenhagen</th>\n",
       "      <td>2014</td>\n",
       "      <td>70.0</td>\n",
       "      <td>70.54</td>\n",
       "      <td>-0.54</td>\n",
       "    </tr>\n",
       "    <tr>\n",
       "      <th>Copenhagen</th>\n",
       "      <td>2015</td>\n",
       "      <td>70.8</td>\n",
       "      <td>70.54</td>\n",
       "      <td>0.26</td>\n",
       "    </tr>\n",
       "    <tr>\n",
       "      <th>Copenhagen</th>\n",
       "      <td>2016</td>\n",
       "      <td>71.5</td>\n",
       "      <td>70.54</td>\n",
       "      <td>0.96</td>\n",
       "    </tr>\n",
       "    <tr>\n",
       "      <th>Copenhagen</th>\n",
       "      <td>2017</td>\n",
       "      <td>72.2</td>\n",
       "      <td>70.54</td>\n",
       "      <td>1.66</td>\n",
       "    </tr>\n",
       "  </tbody>\n",
       "</table>\n",
       "</div>"
      ],
      "text/plain": [
       "              year     e  e_mean  diff\n",
       "municipality                          \n",
       "Copenhagen    2008  72.5   70.54  1.96\n",
       "Copenhagen    2009  70.0   70.54 -0.54\n",
       "Copenhagen    2010  69.7   70.54 -0.84\n",
       "Copenhagen    2011  69.6   70.54 -0.94\n",
       "Copenhagen    2012  69.4   70.54 -1.14\n",
       "Copenhagen    2013  69.7   70.54 -0.84\n",
       "Copenhagen    2014  70.0   70.54 -0.54\n",
       "Copenhagen    2015  70.8   70.54  0.26\n",
       "Copenhagen    2016  71.5   70.54  0.96\n",
       "Copenhagen    2017  72.2   70.54  1.66"
      ]
     },
     "execution_count": 48,
     "metadata": {},
     "output_type": "execute_result"
    }
   ],
   "source": [
    "empl_ = empl.copy()\n",
    "\n",
    "# a. split-apply\n",
    "e_mean = empl_.groupby('municipality')['e'].agg(lambda x: x.mean())\n",
    "e_mean.name = 'e_mean'\n",
    "\n",
    "# b. combine\n",
    "empl_ = empl_.set_index('municipality').join(e_mean, how='left')\n",
    "empl_['diff'] = empl_.e - empl_.e_mean\n",
    "empl_.xs('Copenhagen')"
   ]
  },
  {
   "cell_type": "markdown",
   "metadata": {},
   "source": [
    "**Note:** Same result!!"
   ]
  },
  {
   "cell_type": "markdown",
   "metadata": {},
   "source": [
    "### with - `transform()`"
   ]
  },
  {
   "cell_type": "markdown",
   "metadata": {},
   "source": [
    "**Transform:** Different values across observations in a group."
   ]
  },
  {
   "cell_type": "code",
   "execution_count": 49,
   "metadata": {},
   "outputs": [
    {
     "data": {
      "text/html": [
       "<div>\n",
       "<style scoped>\n",
       "    .dataframe tbody tr th:only-of-type {\n",
       "        vertical-align: middle;\n",
       "    }\n",
       "\n",
       "    .dataframe tbody tr th {\n",
       "        vertical-align: top;\n",
       "    }\n",
       "\n",
       "    .dataframe thead th {\n",
       "        text-align: right;\n",
       "    }\n",
       "</style>\n",
       "<table border=\"1\" class=\"dataframe\">\n",
       "  <thead>\n",
       "    <tr style=\"text-align: right;\">\n",
       "      <th></th>\n",
       "      <th>year</th>\n",
       "      <th>e</th>\n",
       "      <th>diff</th>\n",
       "    </tr>\n",
       "    <tr>\n",
       "      <th>municipality</th>\n",
       "      <th></th>\n",
       "      <th></th>\n",
       "      <th></th>\n",
       "    </tr>\n",
       "  </thead>\n",
       "  <tbody>\n",
       "    <tr>\n",
       "      <th>Copenhagen</th>\n",
       "      <td>2008</td>\n",
       "      <td>72.5</td>\n",
       "      <td>1.96</td>\n",
       "    </tr>\n",
       "    <tr>\n",
       "      <th>Copenhagen</th>\n",
       "      <td>2009</td>\n",
       "      <td>70.0</td>\n",
       "      <td>-0.54</td>\n",
       "    </tr>\n",
       "    <tr>\n",
       "      <th>Copenhagen</th>\n",
       "      <td>2010</td>\n",
       "      <td>69.7</td>\n",
       "      <td>-0.84</td>\n",
       "    </tr>\n",
       "    <tr>\n",
       "      <th>Copenhagen</th>\n",
       "      <td>2011</td>\n",
       "      <td>69.6</td>\n",
       "      <td>-0.94</td>\n",
       "    </tr>\n",
       "    <tr>\n",
       "      <th>Copenhagen</th>\n",
       "      <td>2012</td>\n",
       "      <td>69.4</td>\n",
       "      <td>-1.14</td>\n",
       "    </tr>\n",
       "    <tr>\n",
       "      <th>Copenhagen</th>\n",
       "      <td>2013</td>\n",
       "      <td>69.7</td>\n",
       "      <td>-0.84</td>\n",
       "    </tr>\n",
       "    <tr>\n",
       "      <th>Copenhagen</th>\n",
       "      <td>2014</td>\n",
       "      <td>70.0</td>\n",
       "      <td>-0.54</td>\n",
       "    </tr>\n",
       "    <tr>\n",
       "      <th>Copenhagen</th>\n",
       "      <td>2015</td>\n",
       "      <td>70.8</td>\n",
       "      <td>0.26</td>\n",
       "    </tr>\n",
       "    <tr>\n",
       "      <th>Copenhagen</th>\n",
       "      <td>2016</td>\n",
       "      <td>71.5</td>\n",
       "      <td>0.96</td>\n",
       "    </tr>\n",
       "    <tr>\n",
       "      <th>Copenhagen</th>\n",
       "      <td>2017</td>\n",
       "      <td>72.2</td>\n",
       "      <td>1.66</td>\n",
       "    </tr>\n",
       "  </tbody>\n",
       "</table>\n",
       "</div>"
      ],
      "text/plain": [
       "              year     e  diff\n",
       "municipality                  \n",
       "Copenhagen    2008  72.5  1.96\n",
       "Copenhagen    2009  70.0 -0.54\n",
       "Copenhagen    2010  69.7 -0.84\n",
       "Copenhagen    2011  69.6 -0.94\n",
       "Copenhagen    2012  69.4 -1.14\n",
       "Copenhagen    2013  69.7 -0.84\n",
       "Copenhagen    2014  70.0 -0.54\n",
       "Copenhagen    2015  70.8  0.26\n",
       "Copenhagen    2016  71.5  0.96\n",
       "Copenhagen    2017  72.2  1.66"
      ]
     },
     "execution_count": 49,
     "metadata": {},
     "output_type": "execute_result"
    }
   ],
   "source": [
    "empl_ = empl.copy()\n",
    "empl_['diff'] = empl_.groupby('municipality')['e'].transform(lambda x: x - x.mean())\n",
    "empl_.set_index('municipality').xs('Copenhagen')"
   ]
  },
  {
   "cell_type": "markdown",
   "metadata": {},
   "source": [
    "**Note:** Same result!!"
   ]
  },
  {
   "cell_type": "markdown",
   "metadata": {},
   "source": [
    "### Need more complex stuff? "
   ]
  },
  {
   "cell_type": "markdown",
   "metadata": {},
   "source": [
    "Look [here](https://pandas.pydata.org/pandas-docs/stable/user_guide/groupby.html)."
   ]
  },
  {
   "cell_type": "markdown",
   "metadata": {},
   "source": [
    "<a id=\"A-few-examples-of-open-access-APIs\"></a>\n",
    "\n",
    "# 4. A few examples of open access APIs\n",
    "\n",
    "As already demonstrated, you can pull data from DST using their API. Just to give a few examples of where else you may find open access to data by API: \n",
    "* Check out the [documentation for pandas_datareader](https://pandas-datareader.readthedocs.io/en/latest/remote_data.html). There is a bunch of economic data banks to access through that. \n",
    "* There is an API for [covid-19 data](https://pypi.org/project/covid19-data/) that draws on several sources. \n",
    "* The National Museum of Art (DK) gives access to their collection [by an API](https://www.smk.dk/article/smk-api/). \n",
    "* NASA has its own API. [Look here](https://api.nasa.gov/) for their documentation and [here](https://pypi.org/project/python-nasa-api/) for a Python wrapper. "
   ]
  },
  {
   "cell_type": "markdown",
   "metadata": {},
   "source": [
    "<a id=\"Summary\"></a>\n",
    "\n",
    "# 5. Summary"
   ]
  },
  {
   "cell_type": "markdown",
   "metadata": {},
   "source": [
    "**This lecture:** We have discussed\n",
    "\n",
    "1. Combining datasets (**merging** and concatenating)\n",
    "2. Fatching data using an **API** (DST, FRED, World Bank, etc.)\n",
    "3. **Split-apply-combine** (groupby, agg, transform)"
   ]
  },
  {
   "cell_type": "markdown",
   "metadata": {},
   "source": [
    "**Your work:** Before solving Problem Set 4 read through this notebook and play around with the code.\n",
    "\n",
    "**Project 1:** See the details under *Project 1: Data analysis* [here](https://numeconcopenhagen.netlify.com/exercises/).<br>\n",
    "**Deadline:** 6th of April."
   ]
  },
  {
   "cell_type": "markdown",
   "metadata": {},
   "source": [
    "**Next lecture:** Algorithms: Searching and sorting algorithms."
   ]
  }
 ],
 "metadata": {
  "kernelspec": {
   "display_name": "Python 3",
   "language": "python",
   "name": "python3"
  },
  "language_info": {
   "codemirror_mode": {
    "name": "ipython",
    "version": 3
   },
   "file_extension": ".py",
   "mimetype": "text/x-python",
   "name": "python",
   "nbconvert_exporter": "python",
   "pygments_lexer": "ipython3",
   "version": "3.8.5"
  },
  "toc-autonumbering": false,
  "toc-showmarkdowntxt": false
 },
 "nbformat": 4,
 "nbformat_minor": 4
}
