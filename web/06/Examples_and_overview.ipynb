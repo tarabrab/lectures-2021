{
 "cells": [
  {
   "cell_type": "markdown",
   "metadata": {},
   "source": [
    "# Lecture 06: Recap and overview"
   ]
  },
  {
   "cell_type": "markdown",
   "id": "flying-method",
   "metadata": {},
   "source": [
    "[Download on GitHub](https://github.com/NumEconCopenhagen/lectures-2021)\n",
    "\n",
    "[<img src=\"https://mybinder.org/badge_logo.svg\">](https://mybinder.org/v2/gh/NumEconCopenhagen/lectures-2021/master?urlpath=lab/tree/06/Examples_and_overview.ipynb)"
   ]
  },
  {
   "cell_type": "markdown",
   "id": "fixed-citizen",
   "metadata": {},
   "source": [
    "1. [Lecture 02: Fundamentals](#Lecture-02:-Fundamentals)\n",
    "2. [Lecture 03: Optimize, print and plot](#Lecture-03:-Optimize,-print-and-plot)\n",
    "3. [Lecture 04: Random numbers and simulation](#Lecture-04:-Random-numbers-and-simulation)\n",
    "4. [Lectue 05: Workflow and debugging](#Lectue-05:-Workflow-and-debugging)\n",
    "5. [Summary](#Summary)\n"
   ]
  },
  {
   "cell_type": "markdown",
   "metadata": {},
   "source": [
    "This lecture recaps and overviews central concepts and methods from lecture 1-5.\n",
    "\n",
    "**Note:**\n",
    "\n",
    "1. I will focus on answering **general questions** repeatingly asked in the survey.\n",
    "2. If your **more specific questions** are not covered, ask them here: https://github.com/NumEconCopenhagen/lectures-2020/issues."
   ]
  },
  {
   "cell_type": "code",
   "execution_count": 1,
   "metadata": {},
   "outputs": [],
   "source": [
    "import itertools as it\n",
    "import numpy as np\n",
    "from scipy import optimize\n",
    "\n",
    "%matplotlib inline\n",
    "import matplotlib.pyplot as plt\n",
    "plt.style.use('seaborn-whitegrid')"
   ]
  },
  {
   "cell_type": "markdown",
   "metadata": {},
   "source": [
    "<a id=\"Lecture-02:-Fundamentals\"></a>\n",
    "\n",
    "# 1. Lecture 02: Fundamentals"
   ]
  },
  {
   "cell_type": "markdown",
   "metadata": {},
   "source": [
    "**Abstract:** You will be given an in-depth introduction to the **fundamentals of Python** (objects, variables, operators, classes, methods, functions, conditionals, loops). You learn to discriminate between different **types** such as integers, floats, strings, lists, tuples and dictionaries, and determine whether they are **subscriptable** (slicable) and/or **mutable**. You will learn about **referencing** and **scope**. You will learn a tiny bit about **floating point arithmetics**."
   ]
  },
  {
   "cell_type": "markdown",
   "metadata": {},
   "source": [
    "## 1.1 For vs. while loops"
   ]
  },
  {
   "cell_type": "markdown",
   "metadata": {},
   "source": [
    "**For loop**: A loop where you know beforehand when it will stop. "
   ]
  },
  {
   "cell_type": "code",
   "execution_count": 2,
   "metadata": {},
   "outputs": [],
   "source": [
    "np.random.seed(1917)\n",
    "Nx = 10\n",
    "x = np.random.uniform(0,1,size=(Nx,))"
   ]
  },
  {
   "cell_type": "code",
   "execution_count": 3,
   "metadata": {},
   "outputs": [
    {
     "name": "stdout",
     "output_type": "stream",
     "text": [
      "0.15451797797720246\n",
      "0.20789496806883712\n",
      "0.0027198495778043563\n",
      "0.1729632542127988\n",
      "0.855555830200955\n",
      "0.584099749650399\n",
      "0.011903025078194518\n",
      "0.0682582385196221\n",
      "0.24917894776796679\n",
      "0.8936630858183269\n"
     ]
    }
   ],
   "source": [
    "for i in range(Nx):\n",
    "    print(x[i])"
   ]
  },
  {
   "cell_type": "markdown",
   "metadata": {},
   "source": [
    "**While loop**: A loop which continues until some condition is met."
   ]
  },
  {
   "cell_type": "code",
   "execution_count": 4,
   "metadata": {},
   "outputs": [
    {
     "name": "stdout",
     "output_type": "stream",
     "text": [
      "0.15451797797720246\n",
      "0.20789496806883712\n",
      "0.0027198495778043563\n",
      "0.1729632542127988\n",
      "0.855555830200955\n",
      "0.584099749650399\n",
      "0.011903025078194518\n",
      "0.0682582385196221\n",
      "0.24917894776796679\n",
      "0.8936630858183269\n"
     ]
    }
   ],
   "source": [
    "i = 0\n",
    "while i < Nx:\n",
    "    print(x[i])\n",
    "    i += 1"
   ]
  },
  {
   "cell_type": "markdown",
   "metadata": {},
   "source": [
    "**Find first number less than 0.1:**"
   ]
  },
  {
   "cell_type": "code",
   "execution_count": 5,
   "metadata": {},
   "outputs": [
    {
     "name": "stdout",
     "output_type": "stream",
     "text": [
      "0.0027198495778043563\n"
     ]
    }
   ],
   "source": [
    "i = 0\n",
    "while i < Nx and x[i] >= 0.1:\n",
    "    i += 1\n",
    "print(x[i])"
   ]
  },
  {
   "cell_type": "markdown",
   "metadata": {},
   "source": [
    "Using a break:"
   ]
  },
  {
   "cell_type": "code",
   "execution_count": 6,
   "metadata": {},
   "outputs": [
    {
     "name": "stdout",
     "output_type": "stream",
     "text": [
      "0.0027198495778043563\n"
     ]
    }
   ],
   "source": [
    "i = 0\n",
    "while i < Nx:\n",
    "    i += 1\n",
    "    if x[i] < 0.1:\n",
    "        break\n",
    "print(x[i])"
   ]
  },
  {
   "cell_type": "code",
   "execution_count": 7,
   "metadata": {},
   "outputs": [
    {
     "name": "stdout",
     "output_type": "stream",
     "text": [
      "0.0027198495778043563\n"
     ]
    }
   ],
   "source": [
    "for i in range(Nx):\n",
    "    if x[i] < 0.1:\n",
    "        break\n",
    "print(x[i])"
   ]
  },
  {
   "cell_type": "markdown",
   "metadata": {},
   "source": [
    "**Conclusion:** When you can use a for-loop it typically gives you more simple code."
   ]
  },
  {
   "cell_type": "markdown",
   "metadata": {},
   "source": [
    "## 1.2 Nested loops"
   ]
  },
  {
   "cell_type": "code",
   "execution_count": 8,
   "metadata": {},
   "outputs": [],
   "source": [
    "Nx = 5\n",
    "Ny = 5\n",
    "Nz = 5\n",
    "x = np.random.uniform(0,1,size=(Nx))\n",
    "y = np.random.uniform(0,1,size=(Ny))\n",
    "z = np.random.uniform(0,1,size=(Nz))"
   ]
  },
  {
   "cell_type": "code",
   "execution_count": 9,
   "metadata": {},
   "outputs": [
    {
     "name": "stdout",
     "output_type": "stream",
     "text": [
      "4.689237201743941\n"
     ]
    }
   ],
   "source": [
    "mysum = 0\n",
    "for i in range(Nx):\n",
    "    for j in range(Ny):\n",
    "        mysum += x[i]*y[j]\n",
    "print(mysum)"
   ]
  },
  {
   "cell_type": "code",
   "execution_count": 10,
   "metadata": {},
   "outputs": [
    {
     "name": "stdout",
     "output_type": "stream",
     "text": [
      "4.689237201743941\n"
     ]
    }
   ],
   "source": [
    "mysum = 0\n",
    "for i,j in it.product(range(Nx),range(Ny)):\n",
    "    mysum += x[i]*y[j]\n",
    "print(mysum)"
   ]
  },
  {
   "cell_type": "markdown",
   "metadata": {},
   "source": [
    "**Meshgrid:**"
   ]
  },
  {
   "cell_type": "code",
   "execution_count": 11,
   "metadata": {},
   "outputs": [
    {
     "name": "stdout",
     "output_type": "stream",
     "text": [
      "4.689237201743942\n"
     ]
    }
   ],
   "source": [
    "xmat,ymat = np.meshgrid(x,y,indexing='ij')\n",
    "mysum = xmat*ymat\n",
    "print(np.sum(mysum))"
   ]
  },
  {
   "cell_type": "code",
   "execution_count": 12,
   "metadata": {},
   "outputs": [
    {
     "name": "stdout",
     "output_type": "stream",
     "text": [
      "4.689237201743942\n"
     ]
    }
   ],
   "source": [
    "I,J = np.meshgrid(range(Nx),range(Ny),indexing='ij')\n",
    "mysum = x[I]*y[J]\n",
    "print(np.sum(mysum))"
   ]
  },
  {
   "cell_type": "markdown",
   "metadata": {},
   "source": [
    "## 1.3 Classes"
   ]
  },
  {
   "cell_type": "code",
   "execution_count": 13,
   "metadata": {},
   "outputs": [],
   "source": [
    "class Fraction:\n",
    "    \n",
    "    def __init__(self,numerator,denominator): # called when created\n",
    "        \n",
    "        self.num = numerator\n",
    "        self.denom = denominator\n",
    "        \n",
    "    def __str__(self): # called when using print\n",
    "        \n",
    "        return f'{self.num}/{self.denom}' # string = self.nom/self.denom\n",
    "    \n",
    "    def __add__(self,other): # called when using +\n",
    "        \n",
    "        new_num = self.num*other.denom + other.num*self.denom\n",
    "        new_denom = self.denom*other.denom\n",
    "        \n",
    "        return Fraction(new_num,new_denom)  \n",
    "    \n",
    "    def reduce(self):\n",
    "        \n",
    "        divisor = min(self.num,self.denom)\n",
    "        \n",
    "        while divisor >= 2:\n",
    "            \n",
    "            if self.num%divisor == 0 and self.denom%divisor == 0:\n",
    "            \n",
    "                self.num //= divisor\n",
    "                self.denom //= divisor\n",
    "                divisor = min(self.num,self.denom)\n",
    "            \n",
    "            else:\n",
    "                divisor -= 1"
   ]
  },
  {
   "cell_type": "markdown",
   "metadata": {},
   "source": [
    "In `__add__` we use\n",
    "\n",
    "$$\\frac{a}{b}+\\frac{c}{d}=\\frac{a \\cdot d+c \\cdot b}{b \\cdot d}$$"
   ]
  },
  {
   "cell_type": "code",
   "execution_count": 14,
   "metadata": {},
   "outputs": [
    {
     "name": "stdout",
     "output_type": "stream",
     "text": [
      "1/3\n"
     ]
    }
   ],
   "source": [
    "x = Fraction(1,3)\n",
    "print(x)"
   ]
  },
  {
   "cell_type": "code",
   "execution_count": 15,
   "metadata": {},
   "outputs": [
    {
     "name": "stdout",
     "output_type": "stream",
     "text": [
      "18/27\n"
     ]
    }
   ],
   "source": [
    "x = Fraction(1,3) # 1/3 = 5/15\n",
    "y = Fraction(3,9) # 2/5 = 6/15\n",
    "z = x+y # 5/15 + 6/15 = 11/15\n",
    "print(z)"
   ]
  },
  {
   "cell_type": "code",
   "execution_count": 16,
   "metadata": {},
   "outputs": [
    {
     "name": "stdout",
     "output_type": "stream",
     "text": [
      "2/3\n"
     ]
    }
   ],
   "source": [
    "z.reduce()\n",
    "print(z)"
   ]
  },
  {
   "cell_type": "markdown",
   "metadata": {},
   "source": [
    "**Check which methods a class have:**"
   ]
  },
  {
   "cell_type": "code",
   "execution_count": 17,
   "metadata": {},
   "outputs": [
    {
     "data": {
      "text/plain": [
       "['__add__',\n",
       " '__class__',\n",
       " '__delattr__',\n",
       " '__dict__',\n",
       " '__dir__',\n",
       " '__doc__',\n",
       " '__eq__',\n",
       " '__format__',\n",
       " '__ge__',\n",
       " '__getattribute__',\n",
       " '__gt__',\n",
       " '__hash__',\n",
       " '__init__',\n",
       " '__init_subclass__',\n",
       " '__le__',\n",
       " '__lt__',\n",
       " '__module__',\n",
       " '__ne__',\n",
       " '__new__',\n",
       " '__reduce__',\n",
       " '__reduce_ex__',\n",
       " '__repr__',\n",
       " '__setattr__',\n",
       " '__sizeof__',\n",
       " '__str__',\n",
       " '__subclasshook__',\n",
       " '__weakref__',\n",
       " 'reduce']"
      ]
     },
     "execution_count": 17,
     "metadata": {},
     "output_type": "execute_result"
    }
   ],
   "source": [
    "dir(Fraction)"
   ]
  },
  {
   "cell_type": "markdown",
   "metadata": {},
   "source": [
    "## 1.4 A consumer class"
   ]
  },
  {
   "cell_type": "markdown",
   "metadata": {},
   "source": [
    "$$\n",
    "\\begin{aligned}\n",
    "V(p_{1},p_{2},I) & = \\max_{x_{1},x_{2}}x_1^{\\alpha}x_2^{1-\\alpha}\\\\\n",
    " \\text{s.t.}\\\\\n",
    "p_{1}x_{1}+p_{2}x_{2} & \\leq I,\\,\\,\\,p_{1},p_{2},I>0\\\\\n",
    "x_{1},x_{2} & \\geq 0\n",
    "\\end{aligned}\n",
    "$$"
   ]
  },
  {
   "cell_type": "markdown",
   "metadata": {},
   "source": [
    "**Goal:** Create a model-class to solve this problem."
   ]
  },
  {
   "cell_type": "markdown",
   "metadata": {},
   "source": [
    "**Utility function:**"
   ]
  },
  {
   "cell_type": "code",
   "execution_count": 18,
   "metadata": {},
   "outputs": [],
   "source": [
    "def u_func(model,x1,x2):\n",
    "    return x1**model.alpha*x2**(1-model.alpha)"
   ]
  },
  {
   "cell_type": "markdown",
   "metadata": {},
   "source": [
    "**Solution function:**"
   ]
  },
  {
   "cell_type": "code",
   "execution_count": 19,
   "metadata": {},
   "outputs": [],
   "source": [
    "def solve(model):\n",
    "        \n",
    "    # a. objective function (to minimize) \n",
    "    obj = lambda x: -model.u_func(x[0],x[1]) # minimize -> negtive of utility\n",
    "        \n",
    "    # b. constraints and bounds\n",
    "    con = lambda x: model.I-model.p1*x[0]-model.p2*x[1] # violated if negative\n",
    "    constraints = ({'type':'ineq','fun':con})\n",
    "    bounds = ((0,model.I/model.p1),(0,model.I/model.p2))\n",
    "        \n",
    "    # c. call solver\n",
    "    x0 = [(model.I/model.p1)/2,(model.I/model.p2)/2]\n",
    "    sol = optimize.minimize(obj,x0,method='SLSQP',bounds=bounds,constraints=constraints)\n",
    "        \n",
    "    # d. save\n",
    "    model.x1 = sol.x[0]\n",
    "    model.x2 = sol.x[1]\n",
    "    model.u = model.u_func(model.x1,model.x2)"
   ]
  },
  {
   "cell_type": "markdown",
   "metadata": {},
   "source": [
    "**Create consumer class:**"
   ]
  },
  {
   "cell_type": "code",
   "execution_count": 20,
   "metadata": {},
   "outputs": [],
   "source": [
    "class ConsumerClass:\n",
    "    \n",
    "    def __init__(self):\n",
    "        \n",
    "        self.alpha = 0.5\n",
    "        self.p1 = 1\n",
    "        self.p2 = 2\n",
    "        self.I = 10\n",
    "            \n",
    "    u_func = u_func\n",
    "    solve = solve"
   ]
  },
  {
   "cell_type": "markdown",
   "metadata": {},
   "source": [
    "**Solve consumer problem**:"
   ]
  },
  {
   "cell_type": "code",
   "execution_count": 21,
   "metadata": {},
   "outputs": [
    {
     "name": "stdout",
     "output_type": "stream",
     "text": [
      "(x1,x2) = (7.500,1.250), u = 4.792\n"
     ]
    }
   ],
   "source": [
    "jeppe = ConsumerClass()\n",
    "jeppe.alpha = 0.75\n",
    "jeppe.solve()\n",
    "print(f'(x1,x2) = ({jeppe.x1:.3f},{jeppe.x2:.3f}), u = {jeppe.u:.3f}')"
   ]
  },
  {
   "cell_type": "markdown",
   "metadata": {},
   "source": [
    "Easy to loop over:"
   ]
  },
  {
   "cell_type": "code",
   "execution_count": 22,
   "metadata": {},
   "outputs": [
    {
     "name": "stdout",
     "output_type": "stream",
     "text": [
      "alpha = 0.100 -> (x1,x2) = (1.000,4.500), u = 3.872\n",
      "alpha = 0.189 -> (x1,x2) = (1.890,4.055), u = 3.510\n",
      "alpha = 0.278 -> (x1,x2) = (2.778,3.611), u = 3.357\n",
      "alpha = 0.367 -> (x1,x2) = (3.667,3.167), u = 3.342\n",
      "alpha = 0.456 -> (x1,x2) = (4.554,2.723), u = 3.442\n",
      "alpha = 0.544 -> (x1,x2) = (5.446,2.277), u = 3.661\n",
      "alpha = 0.633 -> (x1,x2) = (6.331,1.834), u = 4.020\n",
      "alpha = 0.722 -> (x1,x2) = (7.221,1.389), u = 4.569\n",
      "alpha = 0.811 -> (x1,x2) = (8.111,0.945), u = 5.404\n",
      "alpha = 0.900 -> (x1,x2) = (9.001,0.499), u = 6.741\n"
     ]
    }
   ],
   "source": [
    "for alpha in np.linspace(0.1,0.9,10):\n",
    "    jeppe.alpha = alpha\n",
    "    jeppe.solve()\n",
    "    print(f'alpha = {alpha:.3f} -> (x1,x2) = ({jeppe.x1:.3f},{jeppe.x2:.3f}), u = {jeppe.u:.3f}')"
   ]
  },
  {
   "cell_type": "markdown",
   "metadata": {},
   "source": [
    "<a id=\"Lecture-03:-Optimize,-print-and-plot\"></a>\n",
    "\n",
    "# 2. Lecture 03: Optimize, print and plot"
   ]
  },
  {
   "cell_type": "markdown",
   "metadata": {},
   "source": [
    "**Abstract:** You will learn how to work with numerical data (**numpy**) and solve simple numerical optimization problems (**scipy.optimize**) and report the results both in text (**print**) and in figures (**matplotlib**)."
   ]
  },
  {
   "cell_type": "markdown",
   "metadata": {},
   "source": [
    "## 2.1 Numpy"
   ]
  },
  {
   "cell_type": "code",
   "execution_count": 23,
   "metadata": {},
   "outputs": [
    {
     "name": "stdout",
     "output_type": "stream",
     "text": [
      "[0.50162377 0.58786823 0.6692749  0.67937905 0.87084325 0.30623102]\n"
     ]
    }
   ],
   "source": [
    "x = np.random.uniform(0,1,size=6)\n",
    "print(x)"
   ]
  },
  {
   "cell_type": "markdown",
   "metadata": {},
   "source": [
    "Consider the following code with loop:"
   ]
  },
  {
   "cell_type": "code",
   "execution_count": 24,
   "metadata": {},
   "outputs": [
    {
     "name": "stdout",
     "output_type": "stream",
     "text": [
      "[0.50162377 0.58786823 0.6692749  0.67937905 0.87084325 0.30623102\n",
      " 0.50162377 0.58786823 0.6692749  0.67937905 0.87084325 0.30623102]\n"
     ]
    }
   ],
   "source": [
    "y = np.empty(x.size*2)\n",
    "for i in range(x.size):\n",
    "    y[i] = x[i]\n",
    "for i in range(x.size):\n",
    "    y[x.size + i] = x[i]\n",
    "print(y)   "
   ]
  },
  {
   "cell_type": "markdown",
   "metadata": {},
   "source": [
    "**Vertical extension of vector** (more columns)"
   ]
  },
  {
   "cell_type": "code",
   "execution_count": 25,
   "metadata": {},
   "outputs": [
    {
     "name": "stdout",
     "output_type": "stream",
     "text": [
      "[0.50162377 0.58786823 0.6692749  0.67937905 0.87084325 0.30623102\n",
      " 0.50162377 0.58786823 0.6692749  0.67937905 0.87084325 0.30623102]\n"
     ]
    }
   ],
   "source": [
    "y = np.tile(x,2) # tiling (same x repated)\n",
    "print(y)"
   ]
  },
  {
   "cell_type": "code",
   "execution_count": 26,
   "metadata": {},
   "outputs": [
    {
     "name": "stdout",
     "output_type": "stream",
     "text": [
      "[0.50162377 0.58786823 0.6692749  0.67937905 0.87084325 0.30623102\n",
      " 0.50162377 0.58786823 0.6692749  0.67937905 0.87084325 0.30623102]\n"
     ]
    }
   ],
   "source": [
    "y = np.hstack((x,x)) # stacking\n",
    "print(y)"
   ]
  },
  {
   "cell_type": "code",
   "execution_count": 27,
   "metadata": {},
   "outputs": [
    {
     "name": "stdout",
     "output_type": "stream",
     "text": [
      "[0.50162377 0.58786823 0.6692749  0.67937905 0.87084325 0.30623102\n",
      " 0.50162377 0.58786823 0.6692749  0.67937905 0.87084325 0.30623102]\n"
     ]
    }
   ],
   "source": [
    "y = np.insert(x,0,x) # insert vector at place 0\n",
    "print(y)"
   ]
  },
  {
   "cell_type": "code",
   "execution_count": 28,
   "metadata": {},
   "outputs": [
    {
     "name": "stdout",
     "output_type": "stream",
     "text": [
      "[0.50162377 0.58786823 0.6692749  0.67937905 0.87084325 0.30623102\n",
      " 0.50162377 0.58786823 0.6692749  0.67937905 0.87084325 0.30623102]\n",
      "(12,)\n"
     ]
    }
   ],
   "source": [
    "y = np.insert(x,6,x) # insert vector at place 0\n",
    "print(y)\n",
    "print(y.shape)"
   ]
  },
  {
   "cell_type": "markdown",
   "metadata": {},
   "source": [
    "**Horizontal extension of vector** (more columns)"
   ]
  },
  {
   "cell_type": "code",
   "execution_count": 29,
   "metadata": {},
   "outputs": [
    {
     "name": "stdout",
     "output_type": "stream",
     "text": [
      "[[0.50162377 0.58786823 0.6692749  0.67937905 0.87084325 0.30623102]\n",
      " [0.50162377 0.58786823 0.6692749  0.67937905 0.87084325 0.30623102]]\n",
      "(2, 6)\n"
     ]
    }
   ],
   "source": [
    "y = np.vstack((x,x)) # stacking\n",
    "print(y)\n",
    "print(y.shape)"
   ]
  },
  {
   "cell_type": "code",
   "execution_count": 30,
   "metadata": {},
   "outputs": [
    {
     "name": "stdout",
     "output_type": "stream",
     "text": [
      "[0.50162377 0.58786823 0.6692749  0.67937905 0.87084325 0.30623102\n",
      " 0.50162377 0.58786823 0.6692749  0.67937905 0.87084325 0.30623102]\n",
      "(12,)\n"
     ]
    }
   ],
   "source": [
    "z = y.ravel()\n",
    "print(z)\n",
    "print(z.shape)"
   ]
  },
  {
   "cell_type": "code",
   "execution_count": 31,
   "metadata": {},
   "outputs": [
    {
     "name": "stdout",
     "output_type": "stream",
     "text": [
      "[0.50162377 0.58786823 0.6692749  0.67937905 0.87084325 0.30623102\n",
      " 0.50162377 0.58786823 0.6692749  0.67937905 0.87084325 0.30623102]\n",
      "(12,)\n",
      "\n",
      "[[0.50162377 0.58786823 0.6692749  0.67937905 0.87084325 0.30623102]\n",
      " [0.50162377 0.58786823 0.6692749  0.67937905 0.87084325 0.30623102]]\n",
      "(2, 6)\n"
     ]
    }
   ],
   "source": [
    "y_ = np.tile(x,2) # tiling (same x repated)\n",
    "print(y_)\n",
    "print(y_.shape)\n",
    "print('')\n",
    "y = np.reshape(y_,(2,6))\n",
    "print(y)\n",
    "print(y.shape)"
   ]
  },
  {
   "cell_type": "code",
   "execution_count": 32,
   "metadata": {},
   "outputs": [
    {
     "name": "stdout",
     "output_type": "stream",
     "text": [
      "[0.50162377 0.50162377 0.58786823 0.58786823 0.6692749  0.6692749\n",
      " 0.67937905 0.67937905 0.87084325 0.87084325 0.30623102 0.30623102]\n",
      "\n",
      "[[0.50162377 0.50162377]\n",
      " [0.58786823 0.58786823]\n",
      " [0.6692749  0.6692749 ]\n",
      " [0.67937905 0.67937905]\n",
      " [0.87084325 0.87084325]\n",
      " [0.30623102 0.30623102]]\n",
      "\n",
      "[[0.50162377 0.58786823 0.6692749  0.67937905 0.87084325 0.30623102]\n",
      " [0.50162377 0.58786823 0.6692749  0.67937905 0.87084325 0.30623102]]\n"
     ]
    }
   ],
   "source": [
    "y_ = np.repeat(x,2) # repeat each element\n",
    "print(y_)\n",
    "print('')\n",
    "y__ = np.reshape(y_,(6,2))\n",
    "print(y__)\n",
    "print('')\n",
    "y = np.transpose(y__)\n",
    "print(y)"
   ]
  },
  {
   "cell_type": "markdown",
   "metadata": {},
   "source": [
    "## 2.2 Numpy vs. dictionary vs. list vs. tuple"
   ]
  },
  {
   "cell_type": "code",
   "execution_count": 33,
   "metadata": {},
   "outputs": [],
   "source": [
    "x_np = np.zeros(0)\n",
    "x_list = []\n",
    "x_dict =  {}\n",
    "x_tuple = ()"
   ]
  },
  {
   "cell_type": "markdown",
   "metadata": {},
   "source": [
    "1. If you data is **numeric**, and is changing on the fly, use **numpy**\n",
    "2. If your data is **heterogenous**, and is changing on the fly, use a **list** or a **dictionary**\n",
    "3. If your data is **fixed** use a tuple"
   ]
  },
  {
   "cell_type": "markdown",
   "metadata": {},
   "source": [
    "## 2.3 Optimizers"
   ]
  },
  {
   "cell_type": "markdown",
   "metadata": {},
   "source": [
    "All **optimization problems** are characterized by:\n",
    "\n",
    "1. Control vector (choices), $\\boldsymbol{x} \\in \\mathbb{R}^k$\n",
    "2. Objective function (payoff) to minimize, $f:\\mathbb{R}^k \\rightarrow \\mathbb{R}$ (differentiable or not)\n",
    "3. Constraints, i.e. $\\boldsymbol{x}  \\in C \\subseteq \\mathbb{R}^k$ (linear or non-linear interdependence)"
   ]
  },
  {
   "cell_type": "markdown",
   "metadata": {},
   "source": [
    "**Maximization** is just **minimization** of $-f$. "
   ]
  },
  {
   "cell_type": "markdown",
   "metadata": {},
   "source": [
    "All **optimizers** (minimizers) have the follow steps:\n",
    "\n",
    "1. Make initial guess\n",
    "2. Evaluate the function (and perhaps gradients)\n",
    "3. Check for convergence\n",
    "4. Update guess and return to step 2"
   ]
  },
  {
   "cell_type": "markdown",
   "metadata": {},
   "source": [
    "**Convergence:** \"Small\" change in function value since last iteration or zero gradient."
   ]
  },
  {
   "cell_type": "markdown",
   "metadata": {},
   "source": [
    "**Characteristics** of optimizers:\n",
    "\n",
    "1. Use gradients or not.\n",
    "2. Allow for specifying bounds.\n",
    "3. Allow for specifying general constraints."
   ]
  },
  {
   "cell_type": "markdown",
   "metadata": {},
   "source": [
    "**Gradients** provide useful information, but can be costly to compute (using analytical formula or numerically)."
   ]
  },
  {
   "cell_type": "markdown",
   "metadata": {},
   "source": [
    "## 2.4 Loops vs. optimizer"
   ]
  },
  {
   "cell_type": "markdown",
   "metadata": {},
   "source": [
    "**Define function:**"
   ]
  },
  {
   "cell_type": "code",
   "execution_count": 34,
   "metadata": {},
   "outputs": [],
   "source": [
    "def f(x):\n",
    "    return np.sin(x)+0.05*x**2"
   ]
  },
  {
   "cell_type": "markdown",
   "metadata": {},
   "source": [
    "**Solution with loop:**"
   ]
  },
  {
   "cell_type": "code",
   "execution_count": 35,
   "metadata": {},
   "outputs": [
    {
     "name": "stdout",
     "output_type": "stream",
     "text": [
      "best with loop is -0.88366802 at x = -1.51515152\n"
     ]
    }
   ],
   "source": [
    "N = 100\n",
    "x_vec = np.linspace(-10,10,N)\n",
    "f_vec = np.empty(N)\n",
    "\n",
    "f_best = np.inf # initial maximum\n",
    "x_best = np.nan # not-a-number\n",
    "\n",
    "for i,x in enumerate(x_vec):\n",
    "    f_now = f_vec[i] = f(x)\n",
    "    if f_now < f_best:\n",
    "        x_best = x\n",
    "        f_best = f_now\n",
    "\n",
    "print(f'best with loop is {f_best:.8f} at x = {x_best:.8f}')"
   ]
  },
  {
   "cell_type": "markdown",
   "metadata": {},
   "source": [
    "**Solution with scipy optimize:**"
   ]
  },
  {
   "cell_type": "code",
   "execution_count": 36,
   "metadata": {},
   "outputs": [
    {
     "name": "stdout",
     "output_type": "stream",
     "text": [
      "best with scipy.optimize is -0.88786283 at x = -1.42756250\n"
     ]
    }
   ],
   "source": [
    "x_guess = [0]    \n",
    "obj = lambda x: f(x[0])\n",
    "res = optimize.minimize(obj, x_guess, method='Nelder-Mead')\n",
    "x_best_scipy = res.x[0]\n",
    "f_best_scipy = res.fun\n",
    "\n",
    "print(f'best with scipy.optimize is {f_best_scipy:.8f} at x = {x_best_scipy:.8f}')"
   ]
  },
  {
   "cell_type": "markdown",
   "metadata": {},
   "source": [
    "**Link:** [Scipy on the choice of optimizer](https://docs.scipy.org/doc/scipy/reference/tutorial/optimize.html)"
   ]
  },
  {
   "cell_type": "markdown",
   "metadata": {},
   "source": [
    "**Comparison:**"
   ]
  },
  {
   "cell_type": "code",
   "execution_count": 37,
   "metadata": {},
   "outputs": [
    {
     "data": {
      "image/png": "[encoded data removed]",
      "text/plain": [
       "<Figure size 432x288 with 1 Axes>"
      ]
     },
     "metadata": {},
     "output_type": "display_data"
    }
   ],
   "source": [
    "fig = plt.figure()\n",
    "ax = fig.add_subplot(1,1,1)\n",
    "\n",
    "ax.plot(x_vec,f_vec,ls='--',lw=2,color='black',label='$f(x)$')\n",
    "ax.plot(x_best,f_best,ls='',marker='s',label='loop')\n",
    "ax.plot(x_best_scipy,f_best_scipy,ls='',marker='o',\n",
    "        markeredgecolor='red',label='scipy.optimize')\n",
    "\n",
    "ax.set_xlabel('x')\n",
    "ax.set_ylabel('f')\n",
    "ax.legend(loc='upper center');"
   ]
  },
  {
   "cell_type": "markdown",
   "metadata": {},
   "source": [
    "## 2.5 Gradient descent optimizer"
   ]
  },
  {
   "cell_type": "markdown",
   "metadata": {},
   "source": [
    "**Algorithm:** `minimize_gradient_descent()`\n",
    "\n",
    "1. Choose tolerance $\\epsilon>0$, step size $\\alpha > 0$, and guess on $x_0$, set $n=0$.\n",
    "2. Compute  $f(x_n)$ and $f^\\prime(x_n) \\approx \\frac{f(\\boldsymbol{x}_{n}+\\Delta)-f(\\boldsymbol{x}_{n})}{\\Delta}$.\n",
    "3. If $|f^\\prime(x_n)| < \\epsilon$ then stop.\n",
    "4. Compute new guess \"down the hill\":\n",
    "\n",
    "  $$\n",
    "  \\boldsymbol{x}_{n+1} = \\boldsymbol{x}_{n} - \\alpha f^\\prime(x_n)\n",
    "  $$\n",
    "\n",
    "\n",
    "5. Set $n = n + 1$ and return to step 2."
   ]
  },
  {
   "cell_type": "markdown",
   "metadata": {},
   "source": [
    "**Code for algorithm:**"
   ]
  },
  {
   "cell_type": "code",
   "execution_count": 38,
   "metadata": {},
   "outputs": [],
   "source": [
    "def gradient_descent(f,x0,alpha=1,Delta=1e-8,max_iter=500,eps=1e-8):\n",
    "    \"\"\" minimize function with gradient descent\n",
    "        \n",
    "    Args:\n",
    "\n",
    "        f (callable): function\n",
    "        x0 (float): initial value\n",
    "        alpha (float,optional): step size factor in search\n",
    "        Delta (float,optional): step size in numerical derivative\n",
    "        max_iter (int,optional): maximum number of iterations\n",
    "        eps (float,optional): tolerance\n",
    "        \n",
    "    Returns:\n",
    "    \n",
    "        x (float): minimum\n",
    "        fx (float): funciton value at minimum\n",
    "        trials (list): list with tuple (x,value,derivative)\n",
    "        \n",
    "    \"\"\"\n",
    "    \n",
    "    # step 1: initialize\n",
    "    x = x0\n",
    "    n = 0\n",
    "    trials = []\n",
    "    \n",
    "    # step 2-4:\n",
    "    while n < max_iter:\n",
    "            \n",
    "        # step 2: compute function value and derivative\n",
    "        fx = f(x)\n",
    "        fp = (f(x+Delta)-fx)/Delta\n",
    "        \n",
    "        trials.append({'x':x,'fx':fx,'fp':fp}) \n",
    "        \n",
    "        # step 3: check convergence\n",
    "        print(f'n = {n:3d}: x = {x:12.8f}, f = {fx:12.8f}, fp = {fp:12.8f}')\n",
    "        if np.abs(fp) < eps:\n",
    "            break\n",
    "                  \n",
    "        # step 4: update x and n\n",
    "        x -= alpha*fp\n",
    "        n += 1\n",
    "        \n",
    "    return x,fx,trials"
   ]
  },
  {
   "cell_type": "markdown",
   "metadata": {},
   "source": [
    "**Call the optimizer:**"
   ]
  },
  {
   "cell_type": "code",
   "execution_count": 39,
   "metadata": {},
   "outputs": [
    {
     "name": "stdout",
     "output_type": "stream",
     "text": [
      "n =   0: x =   0.00000000, f =   0.00000000, fp =   1.00000000\n",
      "n =   1: x =  -0.50000000, f =  -0.46692554, fp =   0.82758257\n",
      "n =   2: x =  -0.91379128, f =  -0.75007422, fp =   0.51936899\n",
      "n =   3: x =  -1.17347578, f =  -0.85324884, fp =   0.26960144\n",
      "n =   4: x =  -1.30827650, f =  -0.88015974, fp =   0.12868722\n",
      "n =   5: x =  -1.37262011, f =  -0.88622298, fp =   0.05961955\n",
      "n =   6: x =  -1.40242989, f =  -0.88751934, fp =   0.02732913\n",
      "n =   7: x =  -1.41609445, f =  -0.88779134, fp =   0.01247611\n",
      "n =   8: x =  -1.42233251, f =  -0.88784799, fp =   0.00568579\n",
      "n =   9: x =  -1.42517540, f =  -0.88785975, fp =   0.00258927\n",
      "n =  10: x =  -1.42647003, f =  -0.88786219, fp =   0.00117876\n",
      "n =  11: x =  -1.42705941, f =  -0.88786269, fp =   0.00053655\n",
      "n =  12: x =  -1.42732769, f =  -0.88786280, fp =   0.00024420\n",
      "n =  13: x =  -1.42744979, f =  -0.88786282, fp =   0.00011114\n",
      "n =  14: x =  -1.42750536, f =  -0.88786283, fp =   0.00005058\n",
      "n =  15: x =  -1.42753065, f =  -0.88786283, fp =   0.00002303\n",
      "n =  16: x =  -1.42754217, f =  -0.88786283, fp =   0.00001048\n",
      "n =  17: x =  -1.42754741, f =  -0.88786283, fp =   0.00000477\n",
      "n =  18: x =  -1.42754979, f =  -0.88786283, fp =   0.00000218\n",
      "n =  19: x =  -1.42755088, f =  -0.88786283, fp =   0.00000099\n",
      "n =  20: x =  -1.42755137, f =  -0.88786283, fp =   0.00000043\n",
      "n =  21: x =  -1.42755159, f =  -0.88786283, fp =   0.00000021\n",
      "n =  22: x =  -1.42755170, f =  -0.88786283, fp =   0.00000010\n",
      "n =  23: x =  -1.42755175, f =  -0.88786283, fp =   0.00000004\n",
      "n =  24: x =  -1.42755177, f =  -0.88786283, fp =   0.00000001\n",
      "n =  25: x =  -1.42755177, f =  -0.88786283, fp =   0.00000002\n",
      "n =  26: x =  -1.42755179, f =  -0.88786283, fp =   0.00000000\n",
      "best with gradient_descent is -0.88786283 at x = -1.42755179\n"
     ]
    }
   ],
   "source": [
    "x0 = 0\n",
    "alpha = 0.5\n",
    "x,fx,trials = gradient_descent(f,x0,alpha)\n",
    "print(f'best with gradient_descent is {fx:.8f} at x = {x:.8f}')"
   ]
  },
  {
   "cell_type": "markdown",
   "metadata": {},
   "source": [
    "**Illusstration:**"
   ]
  },
  {
   "cell_type": "code",
   "execution_count": 40,
   "metadata": {},
   "outputs": [
    {
     "data": {
      "image/png": "[encoded data removed]",
      "text/plain": [
       "<Figure size 720x720 with 3 Axes>"
      ]
     },
     "metadata": {},
     "output_type": "display_data"
    }
   ],
   "source": [
    "fig = plt.figure(figsize=(10,10))\n",
    "\n",
    "# a. main figure\n",
    "ax = fig.add_subplot(2,2,(1,2))\n",
    "\n",
    "trial_x_vec = [trial['x'] for trial in trials]\n",
    "trial_f_vec = [trial['fx'] for trial in trials]\n",
    "trial_fp_vec = [trial['fp'] for trial in trials]\n",
    "\n",
    "ax.plot(x_vec,f_vec,ls='--',lw=2,color='black',label='$f(x)$')\n",
    "ax.plot(trial_x_vec,trial_f_vec,ls='',marker='s',ms=4,color='blue',label='iterations')\n",
    "\n",
    "ax.set_xlabel('$x$')\n",
    "ax.set_ylabel('$f$')\n",
    "ax.legend(loc='upper center')\n",
    "\n",
    "# sub figure 1\n",
    "ax = fig.add_subplot(2,2,3)\n",
    "ax.plot(np.arange(len(trials)),trial_x_vec)\n",
    "ax.set_xlabel('iteration')\n",
    "ax.set_ylabel('x')\n",
    "\n",
    "# sub figure 2\n",
    "ax = fig.add_subplot(2,2,4)\n",
    "ax.plot(np.arange(len(trials)),trial_fp_vec)\n",
    "ax.set_xlabel('iteration')\n",
    "ax.set_ylabel('derivative of f');"
   ]
  },
  {
   "cell_type": "markdown",
   "metadata": {},
   "source": [
    "<a id=\"Lecture-04:-Random-numbers-and-simulation\"></a>\n",
    "\n",
    "# 3. Lecture 04: Random numbers and simulation"
   ]
  },
  {
   "cell_type": "markdown",
   "metadata": {},
   "source": [
    "**Abstract:** You will learn how to use a random number generator with a seed and produce simulation results (**numpy.random**, **scipy.stats**), and calcuate the expected value of a random variable through Monte Carlo integration. You will learn how to save your results for later use (**pickle**). Finally, you will learn how to make your figures interactive (**ipywidgets**)."
   ]
  },
  {
   "cell_type": "markdown",
   "metadata": {},
   "source": [
    "**Baseline code:**"
   ]
  },
  {
   "cell_type": "code",
   "execution_count": 41,
   "metadata": {},
   "outputs": [],
   "source": [
    "def f(x,y):\n",
    "    return (np.var(x)-np.var(y))**2"
   ]
  },
  {
   "cell_type": "code",
   "execution_count": 42,
   "metadata": {},
   "outputs": [
    {
     "name": "stdout",
     "output_type": "stream",
     "text": [
      "mean(x) = -0.007\n",
      "sigma = 0.500000: f = 0.5522\n",
      "sigma = 1.000000: f = 0.0001\n",
      "sigma = 0.500000: f = 0.4985\n"
     ]
    }
   ],
   "source": [
    "np.random.seed(1917)\n",
    "x = np.random.normal(0,1,size=100)\n",
    "print(f'mean(x) = {np.mean(x):.3f}')\n",
    "\n",
    "for sigma in [0.5,1.0,0.5]:\n",
    "    y = np.random.normal(0,sigma,size=x.size)\n",
    "    print(f'sigma = {sigma:2f}: f = {f(x,y):.4f}')"
   ]
  },
  {
   "cell_type": "markdown",
   "metadata": {},
   "source": [
    "**Question:** How can we make the loop give the same result for the same value of `sigma`?"
   ]
  },
  {
   "cell_type": "markdown",
   "metadata": {},
   "source": [
    "**Option 1:** Reset seed"
   ]
  },
  {
   "cell_type": "code",
   "execution_count": 43,
   "metadata": {},
   "outputs": [
    {
     "name": "stdout",
     "output_type": "stream",
     "text": [
      "var(x) = 0.951\n",
      "sigma = 0.500000: f = 0.4908\n",
      "sigma = 1.000000: f = 0.0025\n",
      "sigma = 0.500000: f = 0.4908\n"
     ]
    }
   ],
   "source": [
    "np.random.seed(1917)\n",
    "x = np.random.normal(0,1,size=100)\n",
    "print(f'var(x) = {np.var(x):.3f}')\n",
    "\n",
    "for sigma in [0.5,1.0,0.5]:\n",
    "    np.random.seed(1918)\n",
    "    y = np.random.normal(0,sigma,size=x.size)\n",
    "    print(f'sigma = {sigma:2f}: f = {f(x,y):.4f}')"
   ]
  },
  {
   "cell_type": "markdown",
   "metadata": {},
   "source": [
    "**BAD SOLUTION:** Never reset the seed. Variables `x` and `y` are not ensured to be random relative to each other with this method."
   ]
  },
  {
   "cell_type": "markdown",
   "metadata": {},
   "source": [
    "**Option 2:** Set and get state"
   ]
  },
  {
   "cell_type": "code",
   "execution_count": 44,
   "metadata": {},
   "outputs": [
    {
     "name": "stdout",
     "output_type": "stream",
     "text": [
      "var(x) = 0.951\n",
      "sigma = 0.500000: f = 0.5522\n",
      "sigma = 1.000000: f = 0.0143\n",
      "sigma = 0.500000: f = 0.5522\n"
     ]
    }
   ],
   "source": [
    "np.random.seed(1917)\n",
    "x = np.random.normal(0,1,size=100)\n",
    "print(f'var(x) = {np.var(x):.3f}')\n",
    "\n",
    "state = np.random.get_state()\n",
    "for sigma in [0.5,1.0,0.5]:\n",
    "    np.random.set_state(state)\n",
    "    y = np.random.normal(0,sigma,size=x.size)\n",
    "    print(f'sigma = {sigma:2f}: f = {f(x,y):.4f}')"
   ]
  },
  {
   "cell_type": "markdown",
   "metadata": {},
   "source": [
    "**Option 3:** Draw once before loop"
   ]
  },
  {
   "cell_type": "code",
   "execution_count": 45,
   "metadata": {},
   "outputs": [
    {
     "name": "stdout",
     "output_type": "stream",
     "text": [
      "var(x) = 0.951\n",
      "sigma = 0.500000: f = 0.5522\n",
      "sigma = 1.000000: f = 0.0143\n",
      "sigma = 0.500000: f = 0.5522\n"
     ]
    }
   ],
   "source": [
    "np.random.seed(1917)\n",
    "x = np.random.normal(0,1,size=100)\n",
    "print(f'var(x) = {np.var(x):.3f}')\n",
    "\n",
    "y_ = np.random.normal(0,1,size=x.size)\n",
    "for sigma in [0.5,1.0,0.5]:\n",
    "    y = sigma*y_\n",
    "    print(f'sigma = {sigma:2f}: f = {f(x,y):.4f}')"
   ]
  },
  {
   "cell_type": "markdown",
   "metadata": {},
   "source": [
    "<a id=\"Lectue-05:-Workflow-and-debugging\"></a>\n",
    "\n",
    "# 4. Lectue 05: Workflow and debugging"
   ]
  },
  {
   "cell_type": "markdown",
   "metadata": {},
   "source": [
    "**Abstract:** You will learn how to **structure** and **comment** your code and **document** it for later use. You will learn how to **debug** your code using print, **assert** and try/except statements. You will learn how to write **modules** and **run scripts** from a terminal in **VSCode** and how to share your code with others through **Git**."
   ]
  },
  {
   "cell_type": "markdown",
   "metadata": {},
   "source": [
    "1. **Jupyterlab vs VSCode:** When to use which?\n",
    "2. **Python modules:** Make your code more clear\n",
    "3. **Git:** Clone-commit-sync cycle"
   ]
  },
  {
   "cell_type": "markdown",
   "metadata": {},
   "source": [
    "<a id=\"Summary\"></a>\n",
    "\n",
    "# 5. Summary"
   ]
  },
  {
   "cell_type": "markdown",
   "metadata": {},
   "source": [
    "1. **More questions:** Ask them here https://github.com/NumEconCopenhagen/lectures-2020/issues.\n",
    "2. **Project 0:** Apply the methods we have talked about so far. Remember, you can revise it later.\n",
    "2. **Next time:** Pandas, the central Python package for working with data."
   ]
  }
 ],
 "metadata": {
  "kernelspec": {
   "display_name": "Python 3",
   "language": "python",
   "name": "python3"
  },
  "language_info": {
   "codemirror_mode": {
    "name": "ipython",
    "version": 3
   },
   "file_extension": ".py",
   "mimetype": "text/x-python",
   "name": "python",
   "nbconvert_exporter": "python",
   "pygments_lexer": "ipython3",
   "version": "3.8.5"
  },
  "toc-autonumbering": false
 },
 "nbformat": 4,
 "nbformat_minor": 4
}
